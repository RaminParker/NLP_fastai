{
  "nbformat": 4,
  "nbformat_minor": 0,
  "metadata": {
    "kernelspec": {
      "display_name": "Python 3",
      "language": "python",
      "name": "python3"
    },
    "language_info": {
      "codemirror_mode": {
        "name": "ipython",
        "version": 3
      },
      "file_extension": ".py",
      "mimetype": "text/x-python",
      "name": "python",
      "nbconvert_exporter": "python",
      "pygments_lexer": "ipython3",
      "version": "3.7.1"
    },
    "colab": {
      "name": "3 - Sentiment Classification of Movie Reviews",
      "provenance": [],
      "include_colab_link": true
    }
  },
  "cells": [
    {
      "cell_type": "markdown",
      "metadata": {
        "id": "view-in-github",
        "colab_type": "text"
      },
      "source": [
        "<a href=\"https://colab.research.google.com/github/RaminParker/NLP_fastai/blob/master/3_Sentiment_Classification_of_Movie_Reviews.ipynb\" target=\"_parent\"><img src=\"https://colab.research.google.com/assets/colab-badge.svg\" alt=\"Open In Colab\"/></a>"
      ]
    },
    {
      "cell_type": "markdown",
      "metadata": {
        "id": "ftU0mAZQU91R",
        "colab_type": "text"
      },
      "source": [
        "# Sentiment Classification of Movie Reviews (using Naive Bayes, Logistic Regression, and Ngrams)"
      ]
    },
    {
      "cell_type": "markdown",
      "metadata": {
        "id": "eRe7XvJTYlvz",
        "colab_type": "text"
      },
      "source": [
        "youtube: [link to the lecture](https://www.youtube.com/watch?v=hp2ipC5pW4I&list=PLtmWHNX-gukKocXQOkQjuVxglSDYWsSh9&index=4)\n",
        "\n",
        "github: [link to the github](https://github.com/fastai/course-nlp/blob/master/3-logreg-nb-imdb.ipynb)"
      ]
    },
    {
      "cell_type": "markdown",
      "metadata": {
        "id": "VrcAYBTuU91V",
        "colab_type": "text"
      },
      "source": [
        "The purpose of this notebook is to cover Naive Bayes, Logistic regression, and ngrams (some pretty classic techniques!) for sentiment classification.  We will be using sklearn and the fastai library.\n",
        "\n",
        "In a future lesson, we will tackle this same problem of sentiment classification using deep learning, so that you can compare the two approaches"
      ]
    },
    {
      "cell_type": "markdown",
      "metadata": {
        "id": "9bL7RFn9U91X",
        "colab_type": "text"
      },
      "source": [
        "The content here was extended from [Lesson 10 of the fast.ai Machine Learning course](https://course.fast.ai/lessonsml1/lesson10.html). Linear model is pretty close to the state of the art here.  Jeremy surpassed state of the art using a RNN in fall 2017."
      ]
    },
    {
      "cell_type": "markdown",
      "metadata": {
        "heading_collapsed": true,
        "id": "Ee7jOPulU91a",
        "colab_type": "text"
      },
      "source": [
        "## The fastai library"
      ]
    },
    {
      "cell_type": "markdown",
      "metadata": {
        "hidden": true,
        "id": "1134grIWU91c",
        "colab_type": "text"
      },
      "source": [
        "We will begin using [the fastai library](https://docs.fast.ai) (version 1.0) in this notebook.  We will use it more once we move on to neural networks.\n",
        "\n",
        "The fastai library is built on top of PyTorch and encodes many state-of-the-art best practices. It is used in production at a number of companies.  You can read more about it here:\n",
        "\n",
        "- [Fast.ai's software could radically democratize AI](https://www.zdnet.com/article/fast-ais-new-software-could-radically-democratize-ai/) (ZDNet)\n",
        "\n",
        "- [fastai v1 for PyTorch: Fast and accurate neural nets using modern best practices](https://www.fast.ai/2018/10/02/fastai-ai/) (fast.ai)\n",
        "\n",
        "- [fastai docs](https://docs.fast.ai/)\n",
        "\n",
        "### Installation\n",
        "\n",
        "With conda:\n",
        "\n",
        "`conda install -c pytorch -c fastai fastai=1.0`\n",
        "\n",
        "Or with pip:\n",
        "\n",
        "`pip install fastai==1.0`\n",
        "\n",
        "More [installation information here](https://github.com/fastai/fastai/blob/master/README.md).\n",
        "\n",
        "Beginning in lesson 4, we will be using GPUs, so if you want, you could switch to a [cloud option](https://course.fast.ai/#using-a-gpu) now to setup fastai."
      ]
    },
    {
      "cell_type": "markdown",
      "metadata": {
        "id": "qym7LZBXU91d",
        "colab_type": "text"
      },
      "source": [
        "## IMDB dataset"
      ]
    },
    {
      "cell_type": "markdown",
      "metadata": {
        "id": "hVWiRMjJU91e",
        "colab_type": "text"
      },
      "source": [
        "The [large movie review dataset](http://ai.stanford.edu/~amaas/data/sentiment/) contains a collection of 50,000 reviews from IMDB, We will use the version hosted as part [fast.ai datasets](https://course.fast.ai/datasets.html) on AWS Open Datasets. \n",
        "\n",
        "The dataset contains an even number of positive and negative reviews. The authors considered only highly polarized reviews. A negative review has a score ≤ 4 out of 10, and a positive review has a score ≥ 7 out of 10. Neutral reviews are not included in the dataset. The dataset is divided into training and test sets. The training set is the same 25,000 labeled reviews.\n",
        "\n",
        "The **sentiment classification task** consists of predicting the polarity (positive or negative) of a given text."
      ]
    },
    {
      "cell_type": "markdown",
      "metadata": {
        "id": "zyteD6CuU91f",
        "colab_type": "text"
      },
      "source": [
        "### Imports"
      ]
    },
    {
      "cell_type": "code",
      "metadata": {
        "scrolled": true,
        "id": "9csEw9QRU91g",
        "colab_type": "code",
        "colab": {}
      },
      "source": [
        "%reload_ext autoreload\n",
        "%autoreload 2\n",
        "%matplotlib inline"
      ],
      "execution_count": 0,
      "outputs": []
    },
    {
      "cell_type": "code",
      "metadata": {
        "id": "Jnxj9irEU91n",
        "colab_type": "code",
        "colab": {}
      },
      "source": [
        "from fastai import *\n",
        "from fastai.text import *"
      ],
      "execution_count": 0,
      "outputs": []
    },
    {
      "cell_type": "code",
      "metadata": {
        "id": "dIO7XMtsU91t",
        "colab_type": "code",
        "colab": {}
      },
      "source": [
        "import sklearn.feature_extraction.text as sklearn_text"
      ],
      "execution_count": 0,
      "outputs": []
    },
    {
      "cell_type": "markdown",
      "metadata": {
        "id": "QBHoRMqtU91x",
        "colab_type": "text"
      },
      "source": [
        "### Tokenizing and term document matrix creation"
      ]
    },
    {
      "cell_type": "markdown",
      "metadata": {
        "id": "CaOVuv1FU91y",
        "colab_type": "text"
      },
      "source": [
        "fast.ai has a number of [datasets hosted via AWS Open Datasets](https://course.fast.ai/datasets.html) for easy download. We can see them by checking the docs for URLs (remember `??` is a helpful command):"
      ]
    },
    {
      "cell_type": "code",
      "metadata": {
        "id": "kj0DSxEWU91z",
        "colab_type": "code",
        "colab": {}
      },
      "source": [
        "?? URLs"
      ],
      "execution_count": 0,
      "outputs": []
    },
    {
      "cell_type": "markdown",
      "metadata": {
        "id": "fJl50S1LU914",
        "colab_type": "text"
      },
      "source": [
        "It is always good to start working on a sample of your data before you use the full dataset-- this allows for quicker computations as you debug and get your code working. For IMDB, there is a sample dataset already available:"
      ]
    },
    {
      "cell_type": "code",
      "metadata": {
        "id": "YZf2kVtdU915",
        "colab_type": "code",
        "outputId": "4612676c-601f-42ba-9c8a-75bd950ac45b",
        "colab": {
          "base_uri": "https://localhost:8080/",
          "height": 34
        }
      },
      "source": [
        "path = untar_data(URLs.IMDB_SAMPLE)\n",
        "path"
      ],
      "execution_count": 0,
      "outputs": [
        {
          "output_type": "execute_result",
          "data": {
            "text/plain": [
              "PosixPath('/root/.fastai/data/imdb_sample')"
            ]
          },
          "metadata": {
            "tags": []
          },
          "execution_count": 6
        }
      ]
    },
    {
      "cell_type": "markdown",
      "metadata": {
        "id": "0yq2-g5qU919",
        "colab_type": "text"
      },
      "source": [
        "We are not going to use this dataframe, but are just loading it to get a sense of what our data looks like:"
      ]
    },
    {
      "cell_type": "code",
      "metadata": {
        "scrolled": true,
        "id": "n4DoCfUVU91-",
        "colab_type": "code",
        "outputId": "06a5f9d0-44dd-4422-8be5-24a4e00fa3ea",
        "colab": {
          "base_uri": "https://localhost:8080/",
          "height": 201
        }
      },
      "source": [
        "df = pd.read_csv(path/'texts.csv')\n",
        "df.head()"
      ],
      "execution_count": 0,
      "outputs": [
        {
          "output_type": "execute_result",
          "data": {
            "text/html": [
              "<div>\n",
              "<style scoped>\n",
              "    .dataframe tbody tr th:only-of-type {\n",
              "        vertical-align: middle;\n",
              "    }\n",
              "\n",
              "    .dataframe tbody tr th {\n",
              "        vertical-align: top;\n",
              "    }\n",
              "\n",
              "    .dataframe thead th {\n",
              "        text-align: right;\n",
              "    }\n",
              "</style>\n",
              "<table border=\"1\" class=\"dataframe\">\n",
              "  <thead>\n",
              "    <tr style=\"text-align: right;\">\n",
              "      <th></th>\n",
              "      <th>label</th>\n",
              "      <th>text</th>\n",
              "      <th>is_valid</th>\n",
              "    </tr>\n",
              "  </thead>\n",
              "  <tbody>\n",
              "    <tr>\n",
              "      <th>0</th>\n",
              "      <td>negative</td>\n",
              "      <td>Un-bleeping-believable! Meg Ryan doesn't even ...</td>\n",
              "      <td>False</td>\n",
              "    </tr>\n",
              "    <tr>\n",
              "      <th>1</th>\n",
              "      <td>positive</td>\n",
              "      <td>This is a extremely well-made film. The acting...</td>\n",
              "      <td>False</td>\n",
              "    </tr>\n",
              "    <tr>\n",
              "      <th>2</th>\n",
              "      <td>negative</td>\n",
              "      <td>Every once in a long while a movie will come a...</td>\n",
              "      <td>False</td>\n",
              "    </tr>\n",
              "    <tr>\n",
              "      <th>3</th>\n",
              "      <td>positive</td>\n",
              "      <td>Name just says it all. I watched this movie wi...</td>\n",
              "      <td>False</td>\n",
              "    </tr>\n",
              "    <tr>\n",
              "      <th>4</th>\n",
              "      <td>negative</td>\n",
              "      <td>This movie succeeds at being one of the most u...</td>\n",
              "      <td>False</td>\n",
              "    </tr>\n",
              "  </tbody>\n",
              "</table>\n",
              "</div>"
            ],
            "text/plain": [
              "      label                                               text  is_valid\n",
              "0  negative  Un-bleeping-believable! Meg Ryan doesn't even ...     False\n",
              "1  positive  This is a extremely well-made film. The acting...     False\n",
              "2  negative  Every once in a long while a movie will come a...     False\n",
              "3  positive  Name just says it all. I watched this movie wi...     False\n",
              "4  negative  This movie succeeds at being one of the most u...     False"
            ]
          },
          "metadata": {
            "tags": []
          },
          "execution_count": 7
        }
      ]
    },
    {
      "cell_type": "markdown",
      "metadata": {
        "id": "b1ZZBjR1U92B",
        "colab_type": "text"
      },
      "source": [
        "We will be using [TextList](https://docs.fast.ai/text.data.html#TextList) from the fastai library:"
      ]
    },
    {
      "cell_type": "code",
      "metadata": {
        "id": "v7rFRlP_U92C",
        "colab_type": "code",
        "colab": {}
      },
      "source": [
        "movie_reviews = (TextList.from_csv(path, 'texts.csv', cols='text')\n",
        "                         .split_from_df(col=2)\n",
        "                         .label_from_df(cols=0))"
      ],
      "execution_count": 0,
      "outputs": []
    },
    {
      "cell_type": "markdown",
      "metadata": {
        "id": "3zQ1g94_U92H",
        "colab_type": "text"
      },
      "source": [
        "### Exploring what our data looks like"
      ]
    },
    {
      "cell_type": "markdown",
      "metadata": {
        "id": "9qlGTGKTU92I",
        "colab_type": "text"
      },
      "source": [
        "A good first step for any data problem is to explore the data and get a sense of what it looks like.  In this case we are looking at movie reviews, which have been labeled as \"positive\" or \"negative\":"
      ]
    },
    {
      "cell_type": "code",
      "metadata": {
        "id": "h9gpLzEiU92I",
        "colab_type": "code",
        "outputId": "1983c888-f51f-4a98-c221-bed62fc026a9",
        "colab": {}
      },
      "source": [
        "movie_reviews.valid.x[0], movie_reviews.valid.y[0]"
      ],
      "execution_count": 0,
      "outputs": [
        {
          "output_type": "execute_result",
          "data": {
            "text/plain": [
              "(Text xxbos xxmaj this very funny xxmaj british comedy shows what might happen if a section of xxmaj london , in this case xxmaj xxunk , were to xxunk itself independent from the rest of the xxup uk and its laws , xxunk & post - war xxunk . xxmaj merry xxunk is what would happen . \n",
              "  \n",
              "   xxmaj the explosion of a wartime bomb leads to the xxunk of ancient xxunk which show that xxmaj xxunk was xxunk to the xxmaj xxunk of xxmaj xxunk xxunk ago , a small historical xxunk long since forgotten . xxmaj to the new xxmaj xxunk , however , this is an unexpected opportunity to live as they please , free from any xxunk from xxmaj xxunk . \n",
              "  \n",
              "   xxmaj stanley xxmaj xxunk is excellent as the minor city xxunk who suddenly finds himself leading one of the world 's xxunk xxunk . xxmaj xxunk xxmaj margaret xxmaj xxunk is a delight as the history professor who sides with xxmaj xxunk . xxmaj others in the stand - out cast include xxmaj xxunk xxmaj xxunk , xxmaj paul xxmaj xxunk , xxmaj xxunk xxmaj xxunk , xxmaj xxunk xxmaj xxunk & xxmaj sir xxmaj michael xxmaj xxunk . \n",
              "  \n",
              "   xxmaj welcome to xxmaj xxunk !, Category positive)"
            ]
          },
          "metadata": {
            "tags": []
          },
          "execution_count": 8
        }
      ]
    },
    {
      "cell_type": "markdown",
      "metadata": {
        "id": "OSarL84BU92L",
        "colab_type": "text"
      },
      "source": [
        "In NLP, a **token** is the basic unit of processing (what the tokens are depends on the application and your choices). Here, the tokens mostly correspond to words or punctuation, as well as several special tokens, corresponding to unknown words, capitalization, etc."
      ]
    },
    {
      "cell_type": "markdown",
      "metadata": {
        "id": "25P6iwhMU92M",
        "colab_type": "text"
      },
      "source": [
        "All those tokens starting with \"xx\" are fastai special tokens.  You can see the list of all of them and their meanings ([in the fastai docs](https://docs.fast.ai/text.transform.html)): \n",
        "\n",
        "![image.png](attachment:image.png)"
      ]
    },
    {
      "cell_type": "code",
      "metadata": {
        "id": "FvUD4Z9cU92N",
        "colab_type": "code",
        "outputId": "6d7d1712-93cf-4cb5-ff2c-0b523990458d",
        "colab": {}
      },
      "source": [
        "len(movie_reviews.train.x), len(movie_reviews.valid.x)"
      ],
      "execution_count": 0,
      "outputs": [
        {
          "output_type": "execute_result",
          "data": {
            "text/plain": [
              "(800, 200)"
            ]
          },
          "metadata": {
            "tags": []
          },
          "execution_count": 9
        }
      ]
    },
    {
      "cell_type": "markdown",
      "metadata": {
        "id": "AhlIndfMU92Q",
        "colab_type": "text"
      },
      "source": [
        "Notice that ints-to-string and string-to-ints have different lengths.  Think for a moment about why this is:"
      ]
    },
    {
      "cell_type": "code",
      "metadata": {
        "id": "JLvmjsf_U92Q",
        "colab_type": "code",
        "outputId": "536260aa-145d-430c-a101-51cfbf51eecb",
        "colab": {}
      },
      "source": [
        "len(movie_reviews.vocab.itos), len(movie_reviews.vocab.stoi)"
      ],
      "execution_count": 0,
      "outputs": [
        {
          "output_type": "execute_result",
          "data": {
            "text/plain": [
              "(6016, 19160)"
            ]
          },
          "metadata": {
            "tags": []
          },
          "execution_count": 10
        }
      ]
    },
    {
      "cell_type": "code",
      "metadata": {
        "id": "O5JGWcLqU92T",
        "colab_type": "code",
        "outputId": "a6e295e7-1cb8-474f-fa11-a5437a6032ed",
        "colab": {}
      },
      "source": [
        "movie_reviews.vocab.stoi['language']"
      ],
      "execution_count": 0,
      "outputs": [
        {
          "output_type": "execute_result",
          "data": {
            "text/plain": [
              "917"
            ]
          },
          "metadata": {
            "tags": []
          },
          "execution_count": 11
        }
      ]
    },
    {
      "cell_type": "code",
      "metadata": {
        "id": "wExhwJcAU92W",
        "colab_type": "code",
        "outputId": "a84bd386-c372-4d1c-f172-5c9828c38853",
        "colab": {}
      },
      "source": [
        "movie_reviews.vocab.itos[917]"
      ],
      "execution_count": 0,
      "outputs": [
        {
          "output_type": "execute_result",
          "data": {
            "text/plain": [
              "'language'"
            ]
          },
          "metadata": {
            "tags": []
          },
          "execution_count": 12
        }
      ]
    },
    {
      "cell_type": "code",
      "metadata": {
        "scrolled": true,
        "id": "WuY_gO7iU92Z",
        "colab_type": "code",
        "outputId": "cc62aa9b-2022-41dd-ac89-da4bcde5c0ca",
        "colab": {}
      },
      "source": [
        "movie_reviews.vocab.itos[20:30]"
      ],
      "execution_count": 0,
      "outputs": [
        {
          "output_type": "execute_result",
          "data": {
            "text/plain": [
              "['that', 'this', '\"', \"'s\", '\\n \\n ', '-', 'was', 'as', 'for', 'movie']"
            ]
          },
          "metadata": {
            "tags": []
          },
          "execution_count": 13
        }
      ]
    },
    {
      "cell_type": "code",
      "metadata": {
        "id": "swiNFmBCU92c",
        "colab_type": "code",
        "outputId": "d4e3d733-c496-40c7-e25f-34b38a1d6e6d",
        "colab": {}
      },
      "source": [
        "movie_reviews.vocab.itos[6009]"
      ],
      "execution_count": 0,
      "outputs": [
        {
          "output_type": "execute_result",
          "data": {
            "text/plain": [
              "'sollett'"
            ]
          },
          "metadata": {
            "tags": []
          },
          "execution_count": 14
        }
      ]
    },
    {
      "cell_type": "code",
      "metadata": {
        "id": "VKE2-GVuU92f",
        "colab_type": "code",
        "outputId": "9e24b00c-8293-4122-f181-da1ed4805a58",
        "colab": {}
      },
      "source": [
        "movie_reviews.vocab.itos[:20]"
      ],
      "execution_count": 0,
      "outputs": [
        {
          "output_type": "execute_result",
          "data": {
            "text/plain": [
              "['xxunk',\n",
              " 'xxpad',\n",
              " 'xxbos',\n",
              " 'xxeos',\n",
              " 'xxfld',\n",
              " 'xxmaj',\n",
              " 'xxup',\n",
              " 'xxrep',\n",
              " 'xxwrep',\n",
              " 'the',\n",
              " '.',\n",
              " ',',\n",
              " 'and',\n",
              " 'a',\n",
              " 'of',\n",
              " 'to',\n",
              " 'is',\n",
              " 'it',\n",
              " 'in',\n",
              " 'i']"
            ]
          },
          "metadata": {
            "tags": []
          },
          "execution_count": 15
        }
      ]
    },
    {
      "cell_type": "code",
      "metadata": {
        "scrolled": true,
        "id": "JPbf3Hr5U92k",
        "colab_type": "code",
        "outputId": "4610508b-83c9-4e19-92ea-5d7913c83fc5",
        "colab": {}
      },
      "source": [
        "movie_reviews.vocab.stoi"
      ],
      "execution_count": 0,
      "outputs": [
        {
          "output_type": "execute_result",
          "data": {
            "text/plain": [
              "defaultdict(int,\n",
              "            {'xxunk': 0,\n",
              "             'xxpad': 1,\n",
              "             'xxbos': 2,\n",
              "             'xxeos': 3,\n",
              "             'xxfld': 4,\n",
              "             'xxmaj': 5,\n",
              "             'xxup': 6,\n",
              "             'xxrep': 7,\n",
              "             'xxwrep': 8,\n",
              "             'the': 9,\n",
              "             '.': 10,\n",
              "             ',': 11,\n",
              "             'and': 12,\n",
              "             'a': 13,\n",
              "             'of': 14,\n",
              "             'to': 15,\n",
              "             'is': 16,\n",
              "             'it': 17,\n",
              "             'in': 18,\n",
              "             'i': 19,\n",
              "             'that': 20,\n",
              "             'this': 21,\n",
              "             '\"': 22,\n",
              "             \"'s\": 23,\n",
              "             '\\n \\n ': 24,\n",
              "             '-': 25,\n",
              "             'was': 26,\n",
              "             'as': 27,\n",
              "             'for': 28,\n",
              "             'movie': 29,\n",
              "             'with': 30,\n",
              "             'but': 31,\n",
              "             'film': 32,\n",
              "             'you': 33,\n",
              "             ')': 34,\n",
              "             'on': 35,\n",
              "             '(': 36,\n",
              "             \"n't\": 37,\n",
              "             'are': 38,\n",
              "             'he': 39,\n",
              "             'his': 40,\n",
              "             'not': 41,\n",
              "             'have': 42,\n",
              "             'be': 43,\n",
              "             'one': 44,\n",
              "             'they': 45,\n",
              "             'all': 46,\n",
              "             'at': 47,\n",
              "             'by': 48,\n",
              "             'an': 49,\n",
              "             'from': 50,\n",
              "             'like': 51,\n",
              "             '!': 52,\n",
              "             'so': 53,\n",
              "             'who': 54,\n",
              "             'there': 55,\n",
              "             'about': 56,\n",
              "             'just': 57,\n",
              "             'out': 58,\n",
              "             'if': 59,\n",
              "             'or': 60,\n",
              "             'do': 61,\n",
              "             'what': 62,\n",
              "             'her': 63,\n",
              "             'has': 64,\n",
              "             \"'\": 65,\n",
              "             'some': 66,\n",
              "             'more': 67,\n",
              "             'good': 68,\n",
              "             'when': 69,\n",
              "             'up': 70,\n",
              "             'very': 71,\n",
              "             '?': 72,\n",
              "             'she': 73,\n",
              "             'would': 74,\n",
              "             'no': 75,\n",
              "             'really': 76,\n",
              "             'were': 77,\n",
              "             'their': 78,\n",
              "             'my': 79,\n",
              "             'had': 80,\n",
              "             'time': 81,\n",
              "             'can': 82,\n",
              "             'only': 83,\n",
              "             'which': 84,\n",
              "             'even': 85,\n",
              "             'see': 86,\n",
              "             'story': 87,\n",
              "             'me': 88,\n",
              "             'into': 89,\n",
              "             'did': 90,\n",
              "             ':': 91,\n",
              "             'well': 92,\n",
              "             'we': 93,\n",
              "             'will': 94,\n",
              "             'does': 95,\n",
              "             'than': 96,\n",
              "             'also': 97,\n",
              "             'get': 98,\n",
              "             '...': 99,\n",
              "             'people': 100,\n",
              "             'other': 101,\n",
              "             'bad': 102,\n",
              "             'been': 103,\n",
              "             'could': 104,\n",
              "             'first': 105,\n",
              "             'much': 106,\n",
              "             'how': 107,\n",
              "             'most': 108,\n",
              "             'any': 109,\n",
              "             'because': 110,\n",
              "             'two': 111,\n",
              "             'then': 112,\n",
              "             'great': 113,\n",
              "             'him': 114,\n",
              "             'its': 115,\n",
              "             'too': 116,\n",
              "             'made': 117,\n",
              "             'them': 118,\n",
              "             'after': 119,\n",
              "             'movies': 120,\n",
              "             'make': 121,\n",
              "             '/': 122,\n",
              "             'way': 123,\n",
              "             'think': 124,\n",
              "             'never': 125,\n",
              "             'watch': 126,\n",
              "             'acting': 127,\n",
              "             'seen': 128,\n",
              "             ';': 129,\n",
              "             'films': 130,\n",
              "             'plot': 131,\n",
              "             'being': 132,\n",
              "             'many': 133,\n",
              "             'over': 134,\n",
              "             'where': 135,\n",
              "             'character': 136,\n",
              "             'man': 137,\n",
              "             'little': 138,\n",
              "             'better': 139,\n",
              "             'life': 140,\n",
              "             'characters': 141,\n",
              "             'love': 142,\n",
              "             'your': 143,\n",
              "             'here': 144,\n",
              "             'know': 145,\n",
              "             'scenes': 146,\n",
              "             'best': 147,\n",
              "             'end': 148,\n",
              "             'show': 149,\n",
              "             'while': 150,\n",
              "             'through': 151,\n",
              "             'should': 152,\n",
              "             'off': 153,\n",
              "             'ever': 154,\n",
              "             'these': 155,\n",
              "             'go': 156,\n",
              "             'such': 157,\n",
              "             'say': 158,\n",
              "             '--': 159,\n",
              "             'something': 160,\n",
              "             'scene': 161,\n",
              "             'still': 162,\n",
              "             'before': 163,\n",
              "             'though': 164,\n",
              "             'watching': 165,\n",
              "             'between': 166,\n",
              "             'actually': 167,\n",
              "             'old': 168,\n",
              "             '10': 169,\n",
              "             'find': 170,\n",
              "             'back': 171,\n",
              "             'now': 172,\n",
              "             'why': 173,\n",
              "             'years': 174,\n",
              "             \"'ve\": 175,\n",
              "             'actors': 176,\n",
              "             'fact': 177,\n",
              "             'those': 178,\n",
              "             \"'m\": 179,\n",
              "             'thing': 180,\n",
              "             'pretty': 181,\n",
              "             'quite': 182,\n",
              "             'part': 183,\n",
              "             'going': 184,\n",
              "             'same': 185,\n",
              "             'real': 186,\n",
              "             'another': 187,\n",
              "             'down': 188,\n",
              "             'funny': 189,\n",
              "             'nothing': 190,\n",
              "             'look': 191,\n",
              "             'makes': 192,\n",
              "             '*': 193,\n",
              "             'new': 194,\n",
              "             'want': 195,\n",
              "             'action': 196,\n",
              "             '&': 197,\n",
              "             'director': 198,\n",
              "             'work': 199,\n",
              "             'few': 200,\n",
              "             \"'re\": 201,\n",
              "             'seems': 202,\n",
              "             'around': 203,\n",
              "             'world': 204,\n",
              "             'point': 205,\n",
              "             'without': 206,\n",
              "             'cast': 207,\n",
              "             'again': 208,\n",
              "             'own': 209,\n",
              "             'both': 210,\n",
              "             'lot': 211,\n",
              "             'enough': 212,\n",
              "             'every': 213,\n",
              "             'family': 214,\n",
              "             'got': 215,\n",
              "             'ca': 216,\n",
              "             \"'ll\": 217,\n",
              "             'probably': 218,\n",
              "             'big': 219,\n",
              "             'bit': 220,\n",
              "             'might': 221,\n",
              "             'things': 222,\n",
              "             'horror': 223,\n",
              "             'us': 224,\n",
              "             'almost': 225,\n",
              "             'may': 226,\n",
              "             'right': 227,\n",
              "             'must': 228,\n",
              "             'away': 229,\n",
              "             'thought': 230,\n",
              "             'interesting': 231,\n",
              "             'least': 232,\n",
              "             'whole': 233,\n",
              "             'series': 234,\n",
              "             'gets': 235,\n",
              "             'each': 236,\n",
              "             'give': 237,\n",
              "             'young': 238,\n",
              "             'however': 239,\n",
              "             'making': 240,\n",
              "             'day': 241,\n",
              "             'fun': 242,\n",
              "             'anything': 243,\n",
              "             'minutes': 244,\n",
              "             'kind': 245,\n",
              "             'come': 246,\n",
              "             'girl': 247,\n",
              "             'saw': 248,\n",
              "             'script': 249,\n",
              "             'take': 250,\n",
              "             'long': 251,\n",
              "             'times': 252,\n",
              "             'someone': 253,\n",
              "             'found': 254,\n",
              "             'done': 255,\n",
              "             'feel': 256,\n",
              "             'far': 257,\n",
              "             'since': 258,\n",
              "             'role': 259,\n",
              "             'original': 260,\n",
              "             'course': 261,\n",
              "             'goes': 262,\n",
              "             'last': 263,\n",
              "             'true': 264,\n",
              "             'simply': 265,\n",
              "             'always': 266,\n",
              "             \"'d\": 267,\n",
              "             'tv': 268,\n",
              "             'hard': 269,\n",
              "             'place': 270,\n",
              "             'set': 271,\n",
              "             'trying': 272,\n",
              "             'believe': 273,\n",
              "             'shot': 274,\n",
              "             'comes': 275,\n",
              "             'actor': 276,\n",
              "             'yet': 277,\n",
              "             '4': 278,\n",
              "             'having': 279,\n",
              "             'book': 280,\n",
              "             'looks': 281,\n",
              "             'guy': 282,\n",
              "             'screen': 283,\n",
              "             'later': 284,\n",
              "             'shows': 285,\n",
              "             'performance': 286,\n",
              "             'worth': 287,\n",
              "             'audience': 288,\n",
              "             'comedy': 289,\n",
              "             'sure': 290,\n",
              "             'looking': 291,\n",
              "             'sense': 292,\n",
              "             'star': 293,\n",
              "             'effects': 294,\n",
              "             'read': 295,\n",
              "             'takes': 296,\n",
              "             'although': 297,\n",
              "             'ending': 298,\n",
              "             'john': 299,\n",
              "             'anyone': 300,\n",
              "             'worst': 301,\n",
              "             'american': 302,\n",
              "             'year': 303,\n",
              "             'especially': 304,\n",
              "             'women': 305,\n",
              "             'together': 306,\n",
              "             'dvd': 307,\n",
              "             'instead': 308,\n",
              "             'different': 309,\n",
              "             'am': 310,\n",
              "             'woman': 311,\n",
              "             'men': 312,\n",
              "             '2': 313,\n",
              "             'our': 314,\n",
              "             'played': 315,\n",
              "             'music': 316,\n",
              "             'special': 317,\n",
              "             'three': 318,\n",
              "             'rest': 319,\n",
              "             'put': 320,\n",
              "             'maybe': 321,\n",
              "             'wife': 322,\n",
              "             'kids': 323,\n",
              "             'war': 324,\n",
              "             'left': 325,\n",
              "             'black': 326,\n",
              "             'once': 327,\n",
              "             'second': 328,\n",
              "             'watched': 329,\n",
              "             'next': 330,\n",
              "             'friends': 331,\n",
              "             'rather': 332,\n",
              "             'let': 333,\n",
              "             '\\x96': 334,\n",
              "             'job': 335,\n",
              "             'start': 336,\n",
              "             'others': 337,\n",
              "             'budget': 338,\n",
              "             'need': 339,\n",
              "             'mind': 340,\n",
              "             'said': 341,\n",
              "             'main': 342,\n",
              "             'else': 343,\n",
              "             'wrong': 344,\n",
              "             'beautiful': 345,\n",
              "             'half': 346,\n",
              "             'high': 347,\n",
              "             'idea': 348,\n",
              "             'death': 349,\n",
              "             'tell': 350,\n",
              "             'help': 351,\n",
              "             'nice': 352,\n",
              "             'seem': 353,\n",
              "             'perhaps': 354,\n",
              "             'hollywood': 355,\n",
              "             'everyone': 356,\n",
              "             'play': 357,\n",
              "             'case': 358,\n",
              "             'production': 359,\n",
              "             'piece': 360,\n",
              "             'episode': 361,\n",
              "             'camera': 362,\n",
              "             'low': 363,\n",
              "             'already': 364,\n",
              "             'top': 365,\n",
              "             'poor': 366,\n",
              "             'during': 367,\n",
              "             '3': 368,\n",
              "             'stars': 369,\n",
              "             'house': 370,\n",
              "             '..': 371,\n",
              "             'couple': 372,\n",
              "             'boring': 373,\n",
              "             'reason': 374,\n",
              "             'try': 375,\n",
              "             'along': 376,\n",
              "             'name': 377,\n",
              "             'small': 378,\n",
              "             'plays': 379,\n",
              "             'father': 380,\n",
              "             'everything': 381,\n",
              "             'used': 382,\n",
              "             'video': 383,\n",
              "             'getting': 384,\n",
              "             'money': 385,\n",
              "             'full': 386,\n",
              "             'less': 387,\n",
              "             'performances': 388,\n",
              "             'often': 389,\n",
              "             'liked': 390,\n",
              "             'came': 391,\n",
              "             '1': 392,\n",
              "             'robert': 393,\n",
              "             'either': 394,\n",
              "             'fan': 395,\n",
              "             'given': 396,\n",
              "             'hand': 397,\n",
              "             'kill': 398,\n",
              "             'felt': 399,\n",
              "             'yes': 400,\n",
              "             'completely': 401,\n",
              "             'night': 402,\n",
              "             'children': 403,\n",
              "             'himself': 404,\n",
              "             'girls': 405,\n",
              "             'early': 406,\n",
              "             'awful': 407,\n",
              "             'oh': 408,\n",
              "             'live': 409,\n",
              "             'picture': 410,\n",
              "             'parts': 411,\n",
              "             'throughout': 412,\n",
              "             'until': 413,\n",
              "             'become': 414,\n",
              "             'town': 415,\n",
              "             'written': 416,\n",
              "             'terrible': 417,\n",
              "             'turn': 418,\n",
              "             'child': 419,\n",
              "             'despite': 420,\n",
              "             'moments': 421,\n",
              "             'boy': 422,\n",
              "             'problem': 423,\n",
              "             'able': 424,\n",
              "             'head': 425,\n",
              "             'stupid': 426,\n",
              "             'beginning': 427,\n",
              "             'home': 428,\n",
              "             'version': 429,\n",
              "             'excellent': 430,\n",
              "             'sometimes': 431,\n",
              "             'overall': 432,\n",
              "             'recommend': 433,\n",
              "             'sex': 434,\n",
              "             'keep': 435,\n",
              "             'human': 436,\n",
              "             'drama': 437,\n",
              "             'hero': 438,\n",
              "             'supposed': 439,\n",
              "             'seemed': 440,\n",
              "             'use': 441,\n",
              "             'writing': 442,\n",
              "             'wo': 443,\n",
              "             'remember': 444,\n",
              "             'went': 445,\n",
              "             'enjoy': 446,\n",
              "             'classic': 447,\n",
              "             'person': 448,\n",
              "             'killer': 449,\n",
              "             'lost': 450,\n",
              "             'late': 451,\n",
              "             '5': 452,\n",
              "             'title': 453,\n",
              "             'king': 454,\n",
              "             'entire': 455,\n",
              "             'history': 456,\n",
              "             'son': 457,\n",
              "             'school': 458,\n",
              "             'lead': 459,\n",
              "             'english': 460,\n",
              "             'sound': 461,\n",
              "             'cinema': 462,\n",
              "             'seeing': 463,\n",
              "             'unfortunately': 464,\n",
              "             'genre': 465,\n",
              "             'sort': 466,\n",
              "             'mean': 467,\n",
              "             'friend': 468,\n",
              "             'fans': 469,\n",
              "             'close': 470,\n",
              "             'quality': 471,\n",
              "             'definitely': 472,\n",
              "             'james': 473,\n",
              "             'worse': 474,\n",
              "             'says': 475,\n",
              "             'except': 476,\n",
              "             'doing': 477,\n",
              "             'itself': 478,\n",
              "             'past': 479,\n",
              "             'certainly': 480,\n",
              "             'days': 481,\n",
              "             'five': 482,\n",
              "             'dialogue': 483,\n",
              "             'line': 484,\n",
              "             'anyway': 485,\n",
              "             'under': 486,\n",
              "             'tries': 487,\n",
              "             'called': 488,\n",
              "             'fine': 489,\n",
              "             'guys': 490,\n",
              "             'care': 491,\n",
              "             'style': 492,\n",
              "             'hope': 493,\n",
              "             'short': 494,\n",
              "             'lines': 495,\n",
              "             'told': 496,\n",
              "             'car': 497,\n",
              "             'decent': 498,\n",
              "             'brother': 499,\n",
              "             'killed': 500,\n",
              "             'wanted': 501,\n",
              "             'entertaining': 502,\n",
              "             'based': 503,\n",
              "             'absolutely': 504,\n",
              "             'feeling': 505,\n",
              "             'truly': 506,\n",
              "             'etc': 507,\n",
              "             'heard': 508,\n",
              "             'serious': 509,\n",
              "             'run': 510,\n",
              "             'wonderful': 511,\n",
              "             'lives': 512,\n",
              "             'gives': 513,\n",
              "             'moment': 514,\n",
              "             'game': 515,\n",
              "             'documentary': 516,\n",
              "             'self': 517,\n",
              "             'several': 518,\n",
              "             'waste': 519,\n",
              "             'dead': 520,\n",
              "             'blood': 521,\n",
              "             'matter': 522,\n",
              "             'wonder': 523,\n",
              "             'humor': 524,\n",
              "             'thinking': 525,\n",
              "             'against': 526,\n",
              "             'white': 527,\n",
              "             'side': 528,\n",
              "             'works': 529,\n",
              "             'mother': 530,\n",
              "             'flick': 531,\n",
              "             'stuff': 532,\n",
              "             'turns': 533,\n",
              "             'finally': 534,\n",
              "             'loved': 535,\n",
              "             'group': 536,\n",
              "             'wants': 537,\n",
              "             'face': 538,\n",
              "             'guess': 539,\n",
              "             'dark': 540,\n",
              "             'city': 541,\n",
              "             'events': 542,\n",
              "             'starts': 543,\n",
              "             'hour': 544,\n",
              "             'took': 545,\n",
              "             'george': 546,\n",
              "             'themselves': 547,\n",
              "             'red': 548,\n",
              "             'behind': 549,\n",
              "             'talking': 550,\n",
              "             'hit': 551,\n",
              "             'eyes': 552,\n",
              "             'attempt': 553,\n",
              "             'direction': 554,\n",
              "             'novel': 555,\n",
              "             'saying': 556,\n",
              "             'word': 557,\n",
              "             'dull': 558,\n",
              "             'light': 559,\n",
              "             'view': 560,\n",
              "             'playing': 561,\n",
              "             'opinion': 562,\n",
              "             'expect': 563,\n",
              "             'evil': 564,\n",
              "             'ten': 565,\n",
              "             'violence': 566,\n",
              "             'local': 567,\n",
              "             'final': 568,\n",
              "             'gave': 569,\n",
              "             'leave': 570,\n",
              "             'paul': 571,\n",
              "             'crap': 572,\n",
              "             'happens': 573,\n",
              "             'knows': 574,\n",
              "             'problems': 575,\n",
              "             'example': 576,\n",
              "             'relationship': 577,\n",
              "             'non': 578,\n",
              "             'michael': 579,\n",
              "             'victor': 580,\n",
              "             'ridiculous': 581,\n",
              "             'god': 582,\n",
              "             'similar': 583,\n",
              "             'general': 584,\n",
              "             'major': 585,\n",
              "             'bunch': 586,\n",
              "             'sister': 587,\n",
              "             'oscar': 588,\n",
              "             'turned': 589,\n",
              "             'brilliant': 590,\n",
              "             'highly': 591,\n",
              "             'nearly': 592,\n",
              "             'de': 593,\n",
              "             'please': 594,\n",
              "             'romance': 595,\n",
              "             'body': 596,\n",
              "             'extremely': 597,\n",
              "             'mr.': 598,\n",
              "             'soon': 599,\n",
              "             'yourself': 600,\n",
              "             'known': 601,\n",
              "             'lack': 602,\n",
              "             'age': 603,\n",
              "             'interest': 604,\n",
              "             'ago': 605,\n",
              "             'stories': 606,\n",
              "             'exactly': 607,\n",
              "             'finds': 608,\n",
              "             'modern': 609,\n",
              "             'voice': 610,\n",
              "             'perfect': 611,\n",
              "             'heart': 612,\n",
              "             'alone': 613,\n",
              "             'tells': 614,\n",
              "             'daughter': 615,\n",
              "             'directed': 616,\n",
              "             'needs': 617,\n",
              "             'kid': 618,\n",
              "             'lady': 619,\n",
              "             'sad': 620,\n",
              "             'fight': 621,\n",
              "             'happened': 622,\n",
              "             'eye': 623,\n",
              "             'favorite': 624,\n",
              "             'using': 625,\n",
              "             'upon': 626,\n",
              "             'ben': 627,\n",
              "             'none': 628,\n",
              "             'beyond': 629,\n",
              "             'nature': 630,\n",
              "             'change': 631,\n",
              "             'save': 632,\n",
              "             'shots': 633,\n",
              "             'country': 634,\n",
              "             'number': 635,\n",
              "             'shown': 636,\n",
              "             'surprised': 637,\n",
              "             'romantic': 638,\n",
              "             'huge': 639,\n",
              "             'murder': 640,\n",
              "             'steve': 641,\n",
              "             'slow': 642,\n",
              "             'myself': 643,\n",
              "             'woods': 644,\n",
              "             'apparently': 645,\n",
              "             'lake': 646,\n",
              "             'cheap': 647,\n",
              "             'involved': 648,\n",
              "             'roles': 649,\n",
              "             '6': 650,\n",
              "             'gore': 651,\n",
              "             'obviously': 652,\n",
              "             'knew': 653,\n",
              "             'level': 654,\n",
              "             '8': 655,\n",
              "             'experience': 656,\n",
              "             'became': 657,\n",
              "             'gone': 658,\n",
              "             'cover': 659,\n",
              "             'amazing': 660,\n",
              "             'create': 661,\n",
              "             'living': 662,\n",
              "             'usually': 663,\n",
              "             'order': 664,\n",
              "             'monster': 665,\n",
              "             'happen': 666,\n",
              "             'list': 667,\n",
              "             'clearly': 668,\n",
              "             'power': 669,\n",
              "             'features': 670,\n",
              "             're': 671,\n",
              "             'subject': 672,\n",
              "             'across': 673,\n",
              "             'parents': 674,\n",
              "             'seriously': 675,\n",
              "             'ways': 676,\n",
              "             'room': 677,\n",
              "             'filmed': 678,\n",
              "             'cheesy': 679,\n",
              "             'disappointed': 680,\n",
              "             'important': 681,\n",
              "             'plenty': 682,\n",
              "             '7': 683,\n",
              "             'particular': 684,\n",
              "             'started': 685,\n",
              "             'today': 686,\n",
              "             'enjoyed': 687,\n",
              "             'cinematography': 688,\n",
              "             'annoying': 689,\n",
              "             'looked': 690,\n",
              "             'supporting': 691,\n",
              "             'mostly': 692,\n",
              "             'message': 693,\n",
              "             'somewhat': 694,\n",
              "             'viewer': 695,\n",
              "             'type': 696,\n",
              "             'certain': 697,\n",
              "             'release': 698,\n",
              "             'effort': 699,\n",
              "             'possible': 700,\n",
              "             'add': 701,\n",
              "             'figure': 702,\n",
              "             'named': 703,\n",
              "             'wish': 704,\n",
              "             'difficult': 705,\n",
              "             'falls': 706,\n",
              "             'four': 707,\n",
              "             'husband': 708,\n",
              "             'score': 709,\n",
              "             'leads': 710,\n",
              "             'form': 711,\n",
              "             'working': 712,\n",
              "             'writer': 713,\n",
              "             'sets': 714,\n",
              "             'including': 715,\n",
              "             'enjoyable': 716,\n",
              "             'ok': 717,\n",
              "             'note': 718,\n",
              "             'spent': 719,\n",
              "             'review': 720,\n",
              "             'art': 721,\n",
              "             'police': 722,\n",
              "             'sit': 723,\n",
              "             'horrible': 724,\n",
              "             'actress': 725,\n",
              "             'ones': 726,\n",
              "             'bring': 727,\n",
              "             'greatest': 728,\n",
              "             'dance': 729,\n",
              "             'earth': 730,\n",
              "             'becomes': 731,\n",
              "             'happy': 732,\n",
              "             'cut': 733,\n",
              "             'straight': 734,\n",
              "             'soundtrack': 735,\n",
              "             'leading': 736,\n",
              "             'laugh': 737,\n",
              "             'strange': 738,\n",
              "             'space': 739,\n",
              "             'b': 740,\n",
              "             'tale': 741,\n",
              "             'comic': 742,\n",
              "             'near': 743,\n",
              "             'due': 744,\n",
              "             'weak': 745,\n",
              "             'earlier': 746,\n",
              "             'follow': 747,\n",
              "             'british': 748,\n",
              "             'ends': 749,\n",
              "             'typical': 750,\n",
              "             'attention': 751,\n",
              "             'points': 752,\n",
              "             'talent': 753,\n",
              "             'tom': 754,\n",
              "             'female': 755,\n",
              "             'future': 756,\n",
              "             'fall': 757,\n",
              "             'laughs': 758,\n",
              "             'stop': 759,\n",
              "             'easy': 760,\n",
              "             'moving': 761,\n",
              "             'apart': 762,\n",
              "             'chance': 763,\n",
              "             'running': 764,\n",
              "             'york': 765,\n",
              "             'particularly': 766,\n",
              "             'luke': 767,\n",
              "             'bill': 768,\n",
              "             'forced': 769,\n",
              "             'theme': 770,\n",
              "             'easily': 771,\n",
              "             'rating': 772,\n",
              "             'coming': 773,\n",
              "             'davis': 774,\n",
              "             'totally': 775,\n",
              "             'realistic': 776,\n",
              "             'simple': 777,\n",
              "             'hours': 778,\n",
              "             'taken': 779,\n",
              "             'indeed': 780,\n",
              "             'released': 781,\n",
              "             'sexual': 782,\n",
              "             'feels': 783,\n",
              "             'french': 784,\n",
              "             'screenplay': 785,\n",
              "             'la': 786,\n",
              "             'jokes': 787,\n",
              "             'sequences': 788,\n",
              "             'chase': 789,\n",
              "             'portrayed': 790,\n",
              "             'dramatic': 791,\n",
              "             'mention': 792,\n",
              "             'talk': 793,\n",
              "             'gun': 794,\n",
              "             'thriller': 795,\n",
              "             'jimmy': 796,\n",
              "             'career': 797,\n",
              "             'reality': 798,\n",
              "             'incredibly': 799,\n",
              "             'whether': 800,\n",
              "             'towards': 801,\n",
              "             'entertainment': 802,\n",
              "             'feature': 803,\n",
              "             'western': 804,\n",
              "             'dialog': 805,\n",
              "             'business': 806,\n",
              "             'suspense': 807,\n",
              "             'focus': 808,\n",
              "             'doubt': 809,\n",
              "             'possibly': 810,\n",
              "             'water': 811,\n",
              "             'gay': 812,\n",
              "             'blob': 813,\n",
              "             'comments': 814,\n",
              "             'brothers': 815,\n",
              "             'clear': 816,\n",
              "             'agree': 817,\n",
              "             'allen': 818,\n",
              "             'door': 819,\n",
              "             'editing': 820,\n",
              "             'third': 821,\n",
              "             'deserves': 822,\n",
              "             'silly': 823,\n",
              "             'fantastic': 824,\n",
              "             'convincing': 825,\n",
              "             'hardly': 826,\n",
              "             'lame': 827,\n",
              "             'act': 828,\n",
              "             'former': 829,\n",
              "             'material': 830,\n",
              "             'appears': 831,\n",
              "             'understand': 832,\n",
              "             'twist': 833,\n",
              "             'episodes': 834,\n",
              "             'buy': 835,\n",
              "             'secret': 836,\n",
              "             'richard': 837,\n",
              "             'south': 838,\n",
              "             'bourne': 839,\n",
              "             'deal': 840,\n",
              "             'musical': 841,\n",
              "             'words': 842,\n",
              "             'unique': 843,\n",
              "             'mess': 844,\n",
              "             'opening': 845,\n",
              "             'society': 846,\n",
              "             'avoid': 847,\n",
              "             'footage': 848,\n",
              "             'joe': 849,\n",
              "             'free': 850,\n",
              "             'forget': 851,\n",
              "             'herself': 852,\n",
              "             'appear': 853,\n",
              "             'obvious': 854,\n",
              "             'box': 855,\n",
              "             'single': 856,\n",
              "             'average': 857,\n",
              "             'indian': 858,\n",
              "             'rent': 859,\n",
              "             'okay': 860,\n",
              "             'scary': 861,\n",
              "             'within': 862,\n",
              "             'office': 863,\n",
              "             'crime': 864,\n",
              "             'science': 865,\n",
              "             '80': 866,\n",
              "             'believable': 867,\n",
              "             'period': 868,\n",
              "             'showing': 869,\n",
              "             'call': 870,\n",
              "             'return': 871,\n",
              "             'keeps': 872,\n",
              "             'lee': 873,\n",
              "             'expected': 874,\n",
              "             'stay': 875,\n",
              "             'middle': 876,\n",
              "             'jack': 877,\n",
              "             'hands': 878,\n",
              "             'david': 879,\n",
              "             'attempts': 880,\n",
              "             'strong': 881,\n",
              "             'tension': 882,\n",
              "             'crew': 883,\n",
              "             'hilarious': 884,\n",
              "             'grade': 885,\n",
              "             'outside': 886,\n",
              "             'means': 887,\n",
              "             'viewing': 888,\n",
              "             'sadly': 889,\n",
              "             'hell': 890,\n",
              "             'whatever': 891,\n",
              "             'sorry': 892,\n",
              "             'recently': 893,\n",
              "             'stage': 894,\n",
              "             'decides': 895,\n",
              "             'hear': 896,\n",
              "             'team': 897,\n",
              "             'learn': 898,\n",
              "             'nor': 899,\n",
              "             'open': 900,\n",
              "             'break': 901,\n",
              "             'question': 902,\n",
              "             'remake': 903,\n",
              "             'porn': 904,\n",
              "             'pain': 905,\n",
              "             'imagine': 906,\n",
              "             'deep': 907,\n",
              "             'zombie': 908,\n",
              "             'basically': 909,\n",
              "             'killing': 910,\n",
              "             'company': 911,\n",
              "             'poorly': 912,\n",
              "             'dr.': 913,\n",
              "             'predictable': 914,\n",
              "             'taking': 915,\n",
              "             'large': 916,\n",
              "             'language': 917,\n",
              "             'giving': 918,\n",
              "             'public': 919,\n",
              "             'audiences': 920,\n",
              "             'ask': 921,\n",
              "             'cool': 922,\n",
              "             'america': 923,\n",
              "             'slasher': 924,\n",
              "             'west': 925,\n",
              "             'mentioned': 926,\n",
              "             'die': 927,\n",
              "             'christmas': 928,\n",
              "             'complete': 929,\n",
              "             'needed': 930,\n",
              "             'martin': 931,\n",
              "             'makers': 932,\n",
              "             'cgi': 933,\n",
              "             'boys': 934,\n",
              "             'vargas': 935,\n",
              "             'usual': 936,\n",
              "             'begin': 937,\n",
              "             'dad': 938,\n",
              "             'total': 939,\n",
              "             'somehow': 940,\n",
              "             'stick': 941,\n",
              "             'shame': 942,\n",
              "             'successful': 943,\n",
              "             'sitting': 944,\n",
              "             'fred': 945,\n",
              "             'meets': 946,\n",
              "             'unless': 947,\n",
              "             'dancing': 948,\n",
              "             'sounds': 949,\n",
              "             'above': 950,\n",
              "             'elements': 951,\n",
              "             'whose': 952,\n",
              "             'german': 953,\n",
              "             'considering': 954,\n",
              "             'caught': 955,\n",
              "             'credit': 956,\n",
              "             'interested': 957,\n",
              "             'move': 958,\n",
              "             'filming': 959,\n",
              "             'truth': 960,\n",
              "             'eventually': 961,\n",
              "             'share': 962,\n",
              "             'ability': 963,\n",
              "             'meaning': 964,\n",
              "             'agent': 965,\n",
              "             'fast': 966,\n",
              "             'stand': 967,\n",
              "             'onto': 968,\n",
              "             'plain': 969,\n",
              "             'comment': 970,\n",
              "             'kept': 971,\n",
              "             'situation': 972,\n",
              "             'setting': 973,\n",
              "             'value': 974,\n",
              "             'willing': 975,\n",
              "             'realize': 976,\n",
              "             'acted': 977,\n",
              "             'weird': 978,\n",
              "             'alive': 979,\n",
              "             'fairly': 980,\n",
              "             'dream': 981,\n",
              "             'building': 982,\n",
              "             'hair': 983,\n",
              "             'bored': 984,\n",
              "             'minute': 985,\n",
              "             'emotional': 986,\n",
              "             'directing': 987,\n",
              "             'theatrical': 988,\n",
              "             'famous': 989,\n",
              "             'begins': 990,\n",
              "             'front': 991,\n",
              "             'catch': 992,\n",
              "             'sequence': 993,\n",
              "             'runs': 994,\n",
              "             'follows': 995,\n",
              "             'song': 996,\n",
              "             'government': 997,\n",
              "             'miss': 998,\n",
              "             'actual': 999,\n",
              "             ...})"
            ]
          },
          "metadata": {
            "tags": []
          },
          "execution_count": 16
        }
      ]
    },
    {
      "cell_type": "markdown",
      "metadata": {
        "id": "m5zVojDvU92t",
        "colab_type": "text"
      },
      "source": [
        "Let's test that a non-word maps to xxunk:"
      ]
    },
    {
      "cell_type": "code",
      "metadata": {
        "id": "bniun4VOU92u",
        "colab_type": "code",
        "outputId": "5e5e1ad2-6465-4f4d-e9d5-32b1cf578275",
        "colab": {}
      },
      "source": [
        "movie_reviews.vocab.itos[movie_reviews.vocab.stoi['rrachell']]"
      ],
      "execution_count": 0,
      "outputs": [
        {
          "output_type": "execute_result",
          "data": {
            "text/plain": [
              "'xxunk'"
            ]
          },
          "metadata": {
            "tags": []
          },
          "execution_count": 17
        }
      ]
    },
    {
      "cell_type": "code",
      "metadata": {
        "id": "X1VpUtioU92x",
        "colab_type": "code",
        "outputId": "6044a675-e520-44ed-8267-be5fee62c7d9",
        "colab": {}
      },
      "source": [
        "movie_reviews.vocab.itos[movie_reviews.vocab.stoi['language']]"
      ],
      "execution_count": 0,
      "outputs": [
        {
          "output_type": "execute_result",
          "data": {
            "text/plain": [
              "'language'"
            ]
          },
          "metadata": {
            "tags": []
          },
          "execution_count": 18
        }
      ]
    },
    {
      "cell_type": "code",
      "metadata": {
        "id": "FsttHZvzU922",
        "colab_type": "code",
        "colab": {}
      },
      "source": [
        "t = movie_reviews.train[0][0]"
      ],
      "execution_count": 0,
      "outputs": []
    },
    {
      "cell_type": "code",
      "metadata": {
        "id": "AQFmK9e9U926",
        "colab_type": "code",
        "outputId": "9085b234-0e3b-4f73-c2c9-fb9b7c7238e7",
        "colab": {}
      },
      "source": [
        "t.data[:30]"
      ],
      "execution_count": 0,
      "outputs": [
        {
          "output_type": "execute_result",
          "data": {
            "text/plain": [
              "array([   2,    5, 4622,   25,    0,   25,  867,   52,    5, 3776,    5, 1800,   95,   37,   85,  191,   63,  936,\n",
              "          0, 2740,  517,   18,   21,   11,   84, 2418,  192,   88, 3777,   63])"
            ]
          },
          "metadata": {
            "tags": []
          },
          "execution_count": 26
        }
      ]
    },
    {
      "cell_type": "markdown",
      "metadata": {
        "id": "MGMZqoNoU929",
        "colab_type": "text"
      },
      "source": [
        "## Creating our term-document matrix"
      ]
    },
    {
      "cell_type": "markdown",
      "metadata": {
        "id": "N-OD-YkgU929",
        "colab_type": "text"
      },
      "source": [
        "As we covered in the last lesson, a term-document matrix represents a document as a \"bag of words\", that is, we don't keep track of the order the words are in, just which words occur (and how often)."
      ]
    },
    {
      "cell_type": "markdown",
      "metadata": {
        "id": "wUCNm20KU92-",
        "colab_type": "text"
      },
      "source": [
        "In the previous lesson, we used [sklearn's CountVectorizer](https://github.com/scikit-learn/scikit-learn/blob/55bf5d9/sklearn/feature_extraction/text.py#L940).  Today we will create our own (similar) version.  This is for two reasons:\n",
        "- to understand what sklearn is doing underneath the hood\n",
        "- to create something that will work with a fastai TextList"
      ]
    },
    {
      "cell_type": "markdown",
      "metadata": {
        "id": "WZGktFW7U92_",
        "colab_type": "text"
      },
      "source": [
        "To create our term-document matrix, we first need to learn about **counters** and **sparse matrices**."
      ]
    },
    {
      "cell_type": "markdown",
      "metadata": {
        "id": "eP2pQFReU92_",
        "colab_type": "text"
      },
      "source": [
        "### Counters"
      ]
    },
    {
      "cell_type": "markdown",
      "metadata": {
        "id": "B7TNxE-zU93B",
        "colab_type": "text"
      },
      "source": [
        "Counters are a useful Python object.  If you aren't familar with them, here is how they work:"
      ]
    },
    {
      "cell_type": "code",
      "metadata": {
        "id": "AjQlUe5uU93C",
        "colab_type": "code",
        "colab": {}
      },
      "source": [
        "c = Counter([4,2,8,8,4,8])"
      ],
      "execution_count": 0,
      "outputs": []
    },
    {
      "cell_type": "code",
      "metadata": {
        "id": "kNRdcxw4U93E",
        "colab_type": "code",
        "outputId": "6fd730e9-caa0-4fd6-992a-14787593b255",
        "colab": {}
      },
      "source": [
        "c"
      ],
      "execution_count": 0,
      "outputs": [
        {
          "output_type": "execute_result",
          "data": {
            "text/plain": [
              "Counter({4: 2, 2: 1, 8: 3})"
            ]
          },
          "metadata": {
            "tags": []
          },
          "execution_count": 248
        }
      ]
    },
    {
      "cell_type": "code",
      "metadata": {
        "id": "JrebKDisU93J",
        "colab_type": "code",
        "outputId": "fd849b2c-69f2-4c78-91f6-36b52efae3b5",
        "colab": {}
      },
      "source": [
        "c.values()"
      ],
      "execution_count": 0,
      "outputs": [
        {
          "output_type": "execute_result",
          "data": {
            "text/plain": [
              "dict_values([2, 1, 3])"
            ]
          },
          "metadata": {
            "tags": []
          },
          "execution_count": 182
        }
      ]
    },
    {
      "cell_type": "code",
      "metadata": {
        "id": "z1QC7pHcU93M",
        "colab_type": "code",
        "outputId": "566c8bfa-0250-4bd7-a051-28d53578d7cd",
        "colab": {}
      },
      "source": [
        "c.keys()"
      ],
      "execution_count": 0,
      "outputs": [
        {
          "output_type": "execute_result",
          "data": {
            "text/plain": [
              "dict_keys([4, 2, 8])"
            ]
          },
          "metadata": {
            "tags": []
          },
          "execution_count": 183
        }
      ]
    },
    {
      "cell_type": "markdown",
      "metadata": {
        "id": "8NjEE9c3U93O",
        "colab_type": "text"
      },
      "source": [
        "Counters are from the collections module (along with OrderedDict, defaultdict, deque, and namedtuple)."
      ]
    },
    {
      "cell_type": "markdown",
      "metadata": {
        "id": "1NPaymgEU93P",
        "colab_type": "text"
      },
      "source": [
        "### Sparse Matrices (in Scipy)"
      ]
    },
    {
      "cell_type": "markdown",
      "metadata": {
        "id": "h_XH3BbjU93Q",
        "colab_type": "text"
      },
      "source": [
        "Even though we've reduced over 19,000 words down to 6,000, that is still a lot! Most tokens don't appear in most reviews.  We want to take advantage of this by storing our data as a **sparse matrix**."
      ]
    },
    {
      "cell_type": "markdown",
      "metadata": {
        "id": "Pr7yFa20U93Q",
        "colab_type": "text"
      },
      "source": [
        "A matrix with lots of zeros is called **sparse** (the opposite of sparse is **dense**).  For sparse matrices, you can save a lot of memory by only storing the non-zero values.\n",
        "\n",
        "<img src=\"https://github.com/fastai/course-nlp/blob/master/images/sparse.png?raw=1\" alt=\"floating point\" style=\"width: 30%\"/>\n",
        "\n",
        "Another example of a large, sparse matrix:\n",
        "\n",
        "<img src=\"https://github.com/fastai/course-nlp/blob/master/images/Finite_element_sparse_matrix.png?raw=1\" alt=\"floating point\" style=\"width: 30%\"/>\n",
        "\n",
        "[Source](https://commons.wikimedia.org/w/index.php?curid=2245335)"
      ]
    },
    {
      "cell_type": "markdown",
      "metadata": {
        "id": "-vLr8uWvU93R",
        "colab_type": "text"
      },
      "source": [
        "There are the most common sparse storage formats:\n",
        "- coordinate-wise (scipy calls COO)\n",
        "- compressed sparse row (CSR)\n",
        "- compressed sparse column (CSC)\n",
        "\n",
        "Let's walk through [these examples](http://www.mathcs.emory.edu/~cheung/Courses/561/Syllabus/3-C/sparse.html)\n",
        "\n",
        "There are actually [many more formats](http://www.cs.colostate.edu/~mcrob/toolbox/c++/sparseMatrix/sparse_matrix_compression.html) as well."
      ]
    },
    {
      "cell_type": "markdown",
      "metadata": {
        "id": "66VepzXNU93S",
        "colab_type": "text"
      },
      "source": [
        "A class of matrices (e.g, diagonal) is generally called sparse if the number of non-zero elements is proportional to the number of rows (or columns) instead of being proportional to the product rows x columns.\n",
        "\n",
        "**Scipy Implementation**\n",
        "\n",
        "From the [Scipy Sparse Matrix Documentation](https://docs.scipy.org/doc/scipy-0.18.1/reference/sparse.html)\n",
        "\n",
        "- To construct a matrix efficiently, use either dok_matrix or lil_matrix. The lil_matrix class supports basic slicing and fancy indexing with a similar syntax to NumPy arrays. As illustrated below, the COO format may also be used to efficiently construct matrices\n",
        "- To perform manipulations such as multiplication or inversion, first convert the matrix to either CSC or CSR format.\n",
        "- All conversions among the CSR, CSC, and COO formats are efficient, linear-time operations."
      ]
    },
    {
      "cell_type": "markdown",
      "metadata": {
        "id": "yIcMJu5xU93S",
        "colab_type": "text"
      },
      "source": [
        "### Our version of CountVectorizer"
      ]
    },
    {
      "cell_type": "code",
      "metadata": {
        "id": "oGEqyULWU93T",
        "colab_type": "code",
        "outputId": "827d3cc9-fc4c-4a81-ccf9-a80513b13faf",
        "colab": {}
      },
      "source": [
        "Counter((movie_reviews.valid.x)[0].data)"
      ],
      "execution_count": 0,
      "outputs": [
        {
          "output_type": "execute_result",
          "data": {
            "text/plain": [
              "Counter({2: 1,\n",
              "         5: 32,\n",
              "         21: 3,\n",
              "         71: 1,\n",
              "         189: 1,\n",
              "         748: 1,\n",
              "         289: 1,\n",
              "         285: 1,\n",
              "         62: 2,\n",
              "         221: 1,\n",
              "         666: 2,\n",
              "         59: 1,\n",
              "         13: 4,\n",
              "         2707: 1,\n",
              "         14: 6,\n",
              "         2877: 1,\n",
              "         11: 10,\n",
              "         18: 2,\n",
              "         358: 1,\n",
              "         0: 32,\n",
              "         77: 1,\n",
              "         15: 6,\n",
              "         478: 1,\n",
              "         1833: 1,\n",
              "         50: 3,\n",
              "         9: 10,\n",
              "         319: 1,\n",
              "         6: 1,\n",
              "         2745: 1,\n",
              "         12: 1,\n",
              "         115: 1,\n",
              "         4129: 1,\n",
              "         197: 2,\n",
              "         1331: 1,\n",
              "         25: 2,\n",
              "         324: 1,\n",
              "         10: 7,\n",
              "         3963: 1,\n",
              "         16: 4,\n",
              "         74: 1,\n",
              "         24: 3,\n",
              "         2819: 1,\n",
              "         5823: 1,\n",
              "         2597: 1,\n",
              "         710: 1,\n",
              "         3430: 1,\n",
              "         84: 1,\n",
              "         149: 1,\n",
              "         20: 1,\n",
              "         26: 1,\n",
              "         605: 1,\n",
              "         378: 1,\n",
              "         1057: 1,\n",
              "         251: 1,\n",
              "         258: 1,\n",
              "         1346: 1,\n",
              "         194: 1,\n",
              "         239: 1,\n",
              "         49: 1,\n",
              "         2766: 1,\n",
              "         1335: 1,\n",
              "         409: 1,\n",
              "         27: 3,\n",
              "         45: 1,\n",
              "         594: 1,\n",
              "         850: 1,\n",
              "         109: 1,\n",
              "         2603: 1,\n",
              "         430: 1,\n",
              "         1902: 1,\n",
              "         541: 1,\n",
              "         54: 2,\n",
              "         1107: 1,\n",
              "         608: 1,\n",
              "         404: 1,\n",
              "         736: 1,\n",
              "         44: 1,\n",
              "         204: 1,\n",
              "         23: 1,\n",
              "         3481: 1,\n",
              "         4739: 1,\n",
              "         456: 1,\n",
              "         4053: 1,\n",
              "         2421: 1,\n",
              "         30: 1,\n",
              "         337: 1,\n",
              "         967: 1,\n",
              "         58: 1,\n",
              "         207: 1,\n",
              "         2110: 1,\n",
              "         571: 1,\n",
              "         5037: 1,\n",
              "         579: 1,\n",
              "         1843: 1,\n",
              "         52: 1})"
            ]
          },
          "metadata": {
            "tags": []
          },
          "execution_count": 263
        }
      ]
    },
    {
      "cell_type": "code",
      "metadata": {
        "id": "R5NgtXAzU93W",
        "colab_type": "code",
        "outputId": "3b148d14-f934-41c8-cf23-ab3587f9a503",
        "colab": {}
      },
      "source": [
        "movie_reviews.vocab.itos[6]"
      ],
      "execution_count": 0,
      "outputs": [
        {
          "output_type": "execute_result",
          "data": {
            "text/plain": [
              "'xxup'"
            ]
          },
          "metadata": {
            "tags": []
          },
          "execution_count": 264
        }
      ]
    },
    {
      "cell_type": "code",
      "metadata": {
        "id": "SFEiXdqiU93a",
        "colab_type": "code",
        "outputId": "820e340e-c8b0-443e-9262-716d5fac4082",
        "colab": {}
      },
      "source": [
        "(movie_reviews.valid.x)[1]"
      ],
      "execution_count": 0,
      "outputs": [
        {
          "output_type": "error",
          "ename": "NameError",
          "evalue": "name 'movie_reviews' is not defined",
          "traceback": [
            "\u001b[0;31m--------------------------------------------------\u001b[0m",
            "\u001b[0;31mNameError\u001b[0m        Traceback (most recent call last)",
            "\u001b[0;32m<ipython-input-1-1fa92856acc1>\u001b[0m in \u001b[0;36m<module>\u001b[0;34m\u001b[0m\n\u001b[0;32m----> 1\u001b[0;31m \u001b[0;34m(\u001b[0m\u001b[0mmovie_reviews\u001b[0m\u001b[0;34m.\u001b[0m\u001b[0mvalid\u001b[0m\u001b[0;34m.\u001b[0m\u001b[0mx\u001b[0m\u001b[0;34m)\u001b[0m\u001b[0;34m[\u001b[0m\u001b[0;36m1\u001b[0m\u001b[0;34m]\u001b[0m\u001b[0;34m\u001b[0m\u001b[0;34m\u001b[0m\u001b[0m\n\u001b[0m",
            "\u001b[0;31mNameError\u001b[0m: name 'movie_reviews' is not defined"
          ]
        }
      ]
    },
    {
      "cell_type": "code",
      "metadata": {
        "id": "LFBCUCnyU93c",
        "colab_type": "code",
        "outputId": "decb8dcc-2e5c-4bb0-98e2-dfe95ed15cbd",
        "colab": {}
      },
      "source": [
        "(movie_reviews.valid.x)[0]"
      ],
      "execution_count": 0,
      "outputs": [
        {
          "output_type": "execute_result",
          "data": {
            "text/plain": [
              "Text xxbos xxmaj this very funny xxmaj british comedy shows what might happen if a section of xxmaj london , in this case xxmaj xxunk , were to xxunk itself independent from the rest of the xxup uk and its laws , xxunk & post - war xxunk . xxmaj merry xxunk is what would happen . \n",
              " \n",
              "  xxmaj the explosion of a wartime bomb leads to the xxunk of ancient xxunk which show that xxmaj xxunk was xxunk to the xxmaj xxunk of xxmaj xxunk xxunk ago , a small historical xxunk long since forgotten . xxmaj to the new xxmaj xxunk , however , this is an unexpected opportunity to live as they please , free from any xxunk from xxmaj xxunk . \n",
              " \n",
              "  xxmaj stanley xxmaj xxunk is excellent as the minor city xxunk who suddenly finds himself leading one of the world 's xxunk xxunk . xxmaj xxunk xxmaj margaret xxmaj xxunk is a delight as the history professor who sides with xxmaj xxunk . xxmaj others in the stand - out cast include xxmaj xxunk xxmaj xxunk , xxmaj paul xxmaj xxunk , xxmaj xxunk xxmaj xxunk , xxmaj xxunk xxmaj xxunk & xxmaj sir xxmaj michael xxmaj xxunk . \n",
              " \n",
              "  xxmaj welcome to xxmaj xxunk !"
            ]
          },
          "metadata": {
            "tags": []
          },
          "execution_count": 258
        }
      ]
    },
    {
      "cell_type": "code",
      "metadata": {
        "id": "Qet57IpRU93h",
        "colab_type": "code",
        "colab": {}
      },
      "source": [
        "def get_term_doc_matrix(label_list, vocab_len):\n",
        "    j_indices = []\n",
        "    indptr = []\n",
        "    values = []\n",
        "    indptr.append(0)\n",
        "\n",
        "    for i, doc in enumerate(label_list):\n",
        "        feature_counter = Counter(doc.data)\n",
        "        j_indices.extend(feature_counter.keys())\n",
        "        values.extend(feature_counter.values())\n",
        "        indptr.append(len(j_indices))\n",
        "        \n",
        "#     return (values, j_indices, indptr)\n",
        "\n",
        "    return scipy.sparse.csr_matrix((values, j_indices, indptr),\n",
        "                                   shape=(len(indptr) - 1, vocab_len),\n",
        "                                   dtype=int)"
      ],
      "execution_count": 0,
      "outputs": []
    },
    {
      "cell_type": "code",
      "metadata": {
        "id": "KuqYf6unU93j",
        "colab_type": "code",
        "outputId": "b3c1d9ba-6ec2-4011-8870-abcd2e67f5cb",
        "colab": {}
      },
      "source": [
        "%%time\n",
        "val_term_doc = get_term_doc_matrix(movie_reviews.valid.x, len(movie_reviews.vocab.itos))"
      ],
      "execution_count": 0,
      "outputs": [
        {
          "output_type": "stream",
          "text": [
            "CPU times: user 56 ms, sys: 0 ns, total: 56 ms\n",
            "Wall time: 54.9 ms\n"
          ],
          "name": "stdout"
        }
      ]
    },
    {
      "cell_type": "code",
      "metadata": {
        "scrolled": true,
        "id": "HY0laeiWU93l",
        "colab_type": "code",
        "outputId": "2f0fbd88-7e81-4af0-f7e5-e89e2591abd3",
        "colab": {}
      },
      "source": [
        "%%time\n",
        "trn_term_doc = get_term_doc_matrix(movie_reviews.train.x, len(movie_reviews.vocab.itos))"
      ],
      "execution_count": 0,
      "outputs": [
        {
          "output_type": "stream",
          "text": [
            "CPU times: user 212 ms, sys: 4 ms, total: 216 ms\n",
            "Wall time: 210 ms\n"
          ],
          "name": "stdout"
        }
      ]
    },
    {
      "cell_type": "code",
      "metadata": {
        "id": "BRCN0RO-U93n",
        "colab_type": "code",
        "outputId": "0f7bfc7d-1fc9-4dc7-b4df-6d224a5a9f9f",
        "colab": {}
      },
      "source": [
        "trn_term_doc.shape"
      ],
      "execution_count": 0,
      "outputs": [
        {
          "output_type": "execute_result",
          "data": {
            "text/plain": [
              "(800, 6010)"
            ]
          },
          "metadata": {
            "tags": []
          },
          "execution_count": 187
        }
      ]
    },
    {
      "cell_type": "code",
      "metadata": {
        "id": "1XA6NXFPU93q",
        "colab_type": "code",
        "outputId": "06e6101c-3231-4042-cabf-6d8ec4b1220f",
        "colab": {}
      },
      "source": [
        "trn_term_doc[:,-10:]"
      ],
      "execution_count": 0,
      "outputs": [
        {
          "output_type": "execute_result",
          "data": {
            "text/plain": [
              "<800x10 sparse matrix of type '<class 'numpy.int64'>'\n",
              "\twith 10 stored elements in Compressed Sparse Row format>"
            ]
          },
          "metadata": {
            "tags": []
          },
          "execution_count": 269
        }
      ]
    },
    {
      "cell_type": "code",
      "metadata": {
        "id": "xd7gcViPU93t",
        "colab_type": "code",
        "outputId": "c284dde9-5236-4dae-e0f3-a59e346665d1",
        "colab": {}
      },
      "source": [
        "val_term_doc.shape"
      ],
      "execution_count": 0,
      "outputs": [
        {
          "output_type": "execute_result",
          "data": {
            "text/plain": [
              "(200, 6010)"
            ]
          },
          "metadata": {
            "tags": []
          },
          "execution_count": 188
        }
      ]
    },
    {
      "cell_type": "markdown",
      "metadata": {
        "id": "qn_tguDXU93x",
        "colab_type": "text"
      },
      "source": [
        "### More data exploration"
      ]
    },
    {
      "cell_type": "markdown",
      "metadata": {
        "id": "ny_kOSaaU93y",
        "colab_type": "text"
      },
      "source": [
        "We could convert our sparse matrix to a dense matrix:"
      ]
    },
    {
      "cell_type": "code",
      "metadata": {
        "id": "s6Rj3pZOU93y",
        "colab_type": "code",
        "outputId": "e5c5f4a5-5f30-4dad-911c-0bbc9171d0c1",
        "colab": {}
      },
      "source": [
        "movie_reviews.vocab.itos[-1:]"
      ],
      "execution_count": 0,
      "outputs": [
        {
          "output_type": "execute_result",
          "data": {
            "text/plain": [
              "['sollett']"
            ]
          },
          "metadata": {
            "tags": []
          },
          "execution_count": 272
        }
      ]
    },
    {
      "cell_type": "code",
      "metadata": {
        "scrolled": false,
        "id": "puxSroIxU930",
        "colab_type": "code",
        "outputId": "c39385e2-0c33-47ad-f406-27a10a88f048",
        "colab": {}
      },
      "source": [
        "val_term_doc.todense()[:10,:10]"
      ],
      "execution_count": 0,
      "outputs": [
        {
          "output_type": "execute_result",
          "data": {
            "text/plain": [
              "matrix([[32,  0,  1,  0, ...,  1,  0,  0, 10],\n",
              "        [ 9,  0,  1,  0, ...,  1,  0,  0,  7],\n",
              "        [ 6,  0,  1,  0, ...,  0,  0,  0, 12],\n",
              "        [78,  0,  1,  0, ...,  0,  0,  0, 44],\n",
              "        ...,\n",
              "        [ 8,  0,  1,  0, ...,  0,  0,  0,  8],\n",
              "        [43,  0,  1,  0, ...,  8,  1,  0, 25],\n",
              "        [ 7,  0,  1,  0, ...,  1,  0,  0,  9],\n",
              "        [19,  0,  1,  0, ...,  2,  0,  0,  5]])"
            ]
          },
          "metadata": {
            "tags": []
          },
          "execution_count": 189
        }
      ]
    },
    {
      "cell_type": "code",
      "metadata": {
        "id": "zVeM7D_gU932",
        "colab_type": "code",
        "outputId": "551837a2-b581-400f-c335-c6356d8c6a45",
        "colab": {}
      },
      "source": [
        "movie_reviews.vocab.itos[3]"
      ],
      "execution_count": 0,
      "outputs": [
        {
          "output_type": "execute_result",
          "data": {
            "text/plain": [
              "'xxeos'"
            ]
          },
          "metadata": {
            "tags": []
          },
          "execution_count": 190
        }
      ]
    },
    {
      "cell_type": "code",
      "metadata": {
        "id": "qOBnhs3BU934",
        "colab_type": "code",
        "outputId": "a9c52a93-fdc7-47e7-bc33-b3324fb38762",
        "colab": {}
      },
      "source": [
        "review = movie_reviews.valid.x[1]; review"
      ],
      "execution_count": 0,
      "outputs": [
        {
          "output_type": "execute_result",
          "data": {
            "text/plain": [
              "Text xxbos i saw this movie once as a kid on the late - late show and fell in love with it . \n",
              " \n",
              "  xxmaj it took 30 + years , but i recently did find it on xxup dvd - it was n't cheap , either - in a xxunk that xxunk in war movies . xxmaj we watched it last night for the first time . xxmaj the audio was good , however it was grainy and had the trailers between xxunk . xxmaj even so , it was better than i remembered it . i was also impressed at how true it was to the play . \n",
              " \n",
              "  xxmaj the xxunk is around here xxunk . xxmaj if you 're xxunk in finding it , fire me a xxunk and i 'll see if i can get you the xxunk . xxunk"
            ]
          },
          "metadata": {
            "tags": []
          },
          "execution_count": 191
        }
      ]
    },
    {
      "cell_type": "markdown",
      "metadata": {
        "id": "D1GcuFfUU93-",
        "colab_type": "text"
      },
      "source": [
        "**Exercise:** Since the word \"late\" shows up twice in this review (\"...as a kid on the late - late show...\"), confirm that a value of 2 is stored in the term-document matrix, for the row corresponding to this review and the column corresponding to the word \"late\"."
      ]
    },
    {
      "cell_type": "markdown",
      "metadata": {
        "id": "RmiphjlIU94B",
        "colab_type": "text"
      },
      "source": [
        "#### Answer:"
      ]
    },
    {
      "cell_type": "code",
      "metadata": {
        "id": "beVIhBP_U94C",
        "colab_type": "code",
        "outputId": "c12979a0-b9f8-41a1-c30c-f57658bfcc9d",
        "colab": {}
      },
      "source": [
        "# Exercise: Confirm this\n"
      ],
      "execution_count": 0,
      "outputs": [
        {
          "output_type": "stream",
          "text": [
            "451\n"
          ],
          "name": "stdout"
        },
        {
          "output_type": "execute_result",
          "data": {
            "text/plain": [
              "2"
            ]
          },
          "metadata": {
            "tags": []
          },
          "execution_count": 194
        }
      ]
    },
    {
      "cell_type": "code",
      "metadata": {
        "id": "VgjD7HpsU94E",
        "colab_type": "code",
        "outputId": "1d7d56e2-6bac-47db-8c12-62e295861a4d",
        "colab": {}
      },
      "source": [
        "val_term_doc"
      ],
      "execution_count": 0,
      "outputs": [
        {
          "output_type": "execute_result",
          "data": {
            "text/plain": [
              "<200x6010 sparse matrix of type '<class 'numpy.int64'>'\n",
              "\twith 27848 stored elements in Compressed Sparse Row format>"
            ]
          },
          "metadata": {
            "tags": []
          },
          "execution_count": 195
        }
      ]
    },
    {
      "cell_type": "code",
      "metadata": {
        "id": "I14Ss0w7U94G",
        "colab_type": "code",
        "outputId": "1b995a43-e298-43c7-beb8-93311d6f6cb0",
        "colab": {}
      },
      "source": [
        "val_term_doc[1]"
      ],
      "execution_count": 0,
      "outputs": [
        {
          "output_type": "execute_result",
          "data": {
            "text/plain": [
              "<1x6010 sparse matrix of type '<class 'numpy.int64'>'\n",
              "\twith 81 stored elements in Compressed Sparse Row format>"
            ]
          },
          "metadata": {
            "tags": []
          },
          "execution_count": 196
        }
      ]
    },
    {
      "cell_type": "code",
      "metadata": {
        "id": "zOI3snukU94I",
        "colab_type": "code",
        "outputId": "38a4cf15-57eb-4aec-c9ab-a37a415e96f6",
        "colab": {}
      },
      "source": [
        "val_term_doc[1].sum()"
      ],
      "execution_count": 0,
      "outputs": [
        {
          "output_type": "execute_result",
          "data": {
            "text/plain": [
              "144"
            ]
          },
          "metadata": {
            "tags": []
          },
          "execution_count": 197
        }
      ]
    },
    {
      "cell_type": "markdown",
      "metadata": {
        "id": "V0wo1M_mU94K",
        "colab_type": "text"
      },
      "source": [
        "The review has 81 distinct tokens in it, and 144 tokens total."
      ]
    },
    {
      "cell_type": "code",
      "metadata": {
        "id": "x3zlUZgqU94L",
        "colab_type": "code",
        "outputId": "7aaa7cce-097d-4537-c839-39db002fe89a",
        "colab": {}
      },
      "source": [
        "review.data"
      ],
      "execution_count": 0,
      "outputs": [
        {
          "output_type": "execute_result",
          "data": {
            "text/plain": [
              "array([  2,  19, 248,  21, ...,   9,   0,  10,   0])"
            ]
          },
          "metadata": {
            "tags": []
          },
          "execution_count": 198
        }
      ]
    },
    {
      "cell_type": "markdown",
      "metadata": {
        "id": "t_ocQsB4U94N",
        "colab_type": "text"
      },
      "source": [
        "**Exercise:** How could you convert review.data back to text (without just using review.text)?"
      ]
    },
    {
      "cell_type": "markdown",
      "metadata": {
        "id": "kacEo2s-U94O",
        "colab_type": "text"
      },
      "source": [
        "#### Answer"
      ]
    },
    {
      "cell_type": "code",
      "metadata": {
        "id": "v44gH7tZU94P",
        "colab_type": "code",
        "outputId": "47860325-cc4f-472c-c427-31396c8c2f42",
        "colab": {}
      },
      "source": [
        "# Exercise\n",
        "\n",
        "[movie_reviews.vocab.itos[a] for a in review.data]"
      ],
      "execution_count": 0,
      "outputs": [
        {
          "output_type": "execute_result",
          "data": {
            "text/plain": [
              "['xxbos',\n",
              " 'i',\n",
              " 'saw',\n",
              " 'this',\n",
              " 'movie',\n",
              " 'once',\n",
              " 'as',\n",
              " 'a',\n",
              " 'kid',\n",
              " 'on',\n",
              " 'the',\n",
              " 'late',\n",
              " '-',\n",
              " 'late',\n",
              " 'show',\n",
              " 'and',\n",
              " 'fell',\n",
              " 'in',\n",
              " 'love',\n",
              " 'with',\n",
              " 'it',\n",
              " '.',\n",
              " '\\n \\n ',\n",
              " 'xxmaj',\n",
              " 'it',\n",
              " 'took',\n",
              " '30',\n",
              " '+',\n",
              " 'years',\n",
              " ',',\n",
              " 'but',\n",
              " 'i',\n",
              " 'recently',\n",
              " 'did',\n",
              " 'find',\n",
              " 'it',\n",
              " 'on',\n",
              " 'xxup',\n",
              " 'dvd',\n",
              " '-',\n",
              " 'it',\n",
              " 'was',\n",
              " \"n't\",\n",
              " 'cheap',\n",
              " ',',\n",
              " 'either',\n",
              " '-',\n",
              " 'in',\n",
              " 'a',\n",
              " 'xxunk',\n",
              " 'that',\n",
              " 'xxunk',\n",
              " 'in',\n",
              " 'war',\n",
              " 'movies',\n",
              " '.',\n",
              " 'xxmaj',\n",
              " 'we',\n",
              " 'watched',\n",
              " 'it',\n",
              " 'last',\n",
              " 'night',\n",
              " 'for',\n",
              " 'the',\n",
              " 'first',\n",
              " 'time',\n",
              " '.',\n",
              " 'xxmaj',\n",
              " 'the',\n",
              " 'audio',\n",
              " 'was',\n",
              " 'good',\n",
              " ',',\n",
              " 'however',\n",
              " 'it',\n",
              " 'was',\n",
              " 'grainy',\n",
              " 'and',\n",
              " 'had',\n",
              " 'the',\n",
              " 'trailers',\n",
              " 'between',\n",
              " 'xxunk',\n",
              " '.',\n",
              " 'xxmaj',\n",
              " 'even',\n",
              " 'so',\n",
              " ',',\n",
              " 'it',\n",
              " 'was',\n",
              " 'better',\n",
              " 'than',\n",
              " 'i',\n",
              " 'remembered',\n",
              " 'it',\n",
              " '.',\n",
              " 'i',\n",
              " 'was',\n",
              " 'also',\n",
              " 'impressed',\n",
              " 'at',\n",
              " 'how',\n",
              " 'true',\n",
              " 'it',\n",
              " 'was',\n",
              " 'to',\n",
              " 'the',\n",
              " 'play',\n",
              " '.',\n",
              " '\\n \\n ',\n",
              " 'xxmaj',\n",
              " 'the',\n",
              " 'xxunk',\n",
              " 'is',\n",
              " 'around',\n",
              " 'here',\n",
              " 'xxunk',\n",
              " '.',\n",
              " 'xxmaj',\n",
              " 'if',\n",
              " 'you',\n",
              " \"'re\",\n",
              " 'xxunk',\n",
              " 'in',\n",
              " 'finding',\n",
              " 'it',\n",
              " ',',\n",
              " 'fire',\n",
              " 'me',\n",
              " 'a',\n",
              " 'xxunk',\n",
              " 'and',\n",
              " 'i',\n",
              " \"'ll\",\n",
              " 'see',\n",
              " 'if',\n",
              " 'i',\n",
              " 'can',\n",
              " 'get',\n",
              " 'you',\n",
              " 'the',\n",
              " 'xxunk',\n",
              " '.',\n",
              " 'xxunk']"
            ]
          },
          "metadata": {
            "tags": []
          },
          "execution_count": 199
        }
      ]
    },
    {
      "cell_type": "markdown",
      "metadata": {
        "id": "Et_SSq59U94R",
        "colab_type": "text"
      },
      "source": [
        "**Exercise**: Confirm that review has 81 distinct tokens"
      ]
    },
    {
      "cell_type": "markdown",
      "metadata": {
        "id": "ZjhKWVuBU94S",
        "colab_type": "text"
      },
      "source": [
        "#### Answer"
      ]
    },
    {
      "cell_type": "code",
      "metadata": {
        "id": "bC0MFT8-U94S",
        "colab_type": "code",
        "outputId": "68aed108-3e47-49fe-a844-f1a518fb1e04",
        "colab": {}
      },
      "source": [
        "# Exercise\n",
        "\n",
        "len(set(review.data))"
      ],
      "execution_count": 0,
      "outputs": [
        {
          "output_type": "execute_result",
          "data": {
            "text/plain": [
              "81"
            ]
          },
          "metadata": {
            "tags": []
          },
          "execution_count": 200
        }
      ]
    },
    {
      "cell_type": "code",
      "metadata": {
        "id": "7U0STITyU94V",
        "colab_type": "code",
        "outputId": "2bb4804d-c9e7-40b9-cdf3-5c3f90032009",
        "colab": {}
      },
      "source": [
        "movie_reviews.vocab.itos[1000:1020]"
      ],
      "execution_count": 0,
      "outputs": [
        {
          "output_type": "execute_result",
          "data": {
            "text/plain": [
              "['state',\n",
              " 'street',\n",
              " 'impossible',\n",
              " 'clever',\n",
              " 'development',\n",
              " 'concept',\n",
              " 'william',\n",
              " 'worked',\n",
              " 'adventure',\n",
              " 'church',\n",
              " 'unlike',\n",
              " 'hold',\n",
              " 'lots',\n",
              " 'premise',\n",
              " 'shooting',\n",
              " 'washington',\n",
              " 'sick',\n",
              " 'effect',\n",
              " 'waiting',\n",
              " 'singing']"
            ]
          },
          "metadata": {
            "tags": []
          },
          "execution_count": 201
        }
      ]
    },
    {
      "cell_type": "markdown",
      "metadata": {
        "id": "LtVjbWmIU94X",
        "colab_type": "text"
      },
      "source": [
        "`stoi` (string-to-int) is larger than `itos` (int-to-string)."
      ]
    },
    {
      "cell_type": "code",
      "metadata": {
        "id": "yF12FjggU94X",
        "colab_type": "code",
        "outputId": "30b28329-407a-453d-fa25-5344efd8383e",
        "colab": {}
      },
      "source": [
        "len(movie_reviews.vocab.stoi) - len(movie_reviews.vocab.itos)"
      ],
      "execution_count": 0,
      "outputs": [
        {
          "output_type": "execute_result",
          "data": {
            "text/plain": [
              "13150"
            ]
          },
          "metadata": {
            "tags": []
          },
          "execution_count": 202
        }
      ]
    },
    {
      "cell_type": "markdown",
      "metadata": {
        "id": "dSN6gMVEU94Z",
        "colab_type": "text"
      },
      "source": [
        "This is because many words are mapping to unknown.  We can confirm here:"
      ]
    },
    {
      "cell_type": "code",
      "metadata": {
        "id": "v7us2dhJU94a",
        "colab_type": "code",
        "colab": {}
      },
      "source": [
        "unk = []\n",
        "for word, num in movie_reviews.vocab.stoi.items():\n",
        "    if num==0:\n",
        "        unk.append(word)"
      ],
      "execution_count": 0,
      "outputs": []
    },
    {
      "cell_type": "code",
      "metadata": {
        "id": "lyZeXI7RU94f",
        "colab_type": "code",
        "outputId": "24cecab9-ffa0-44eb-e8d4-20394fab0bfd",
        "colab": {}
      },
      "source": [
        "len(unk)"
      ],
      "execution_count": 0,
      "outputs": [
        {
          "output_type": "execute_result",
          "data": {
            "text/plain": [
              "13151"
            ]
          },
          "metadata": {
            "tags": []
          },
          "execution_count": 204
        }
      ]
    },
    {
      "cell_type": "code",
      "metadata": {
        "scrolled": true,
        "id": "QlfnhaJaU94k",
        "colab_type": "code",
        "outputId": "7e404a4f-5b47-48d0-c383-2da91929f205",
        "colab": {}
      },
      "source": [
        "unk[:100]"
      ],
      "execution_count": 0,
      "outputs": [
        {
          "output_type": "execute_result",
          "data": {
            "text/plain": [
              "['xxunk',\n",
              " 'bleeping',\n",
              " 'pert',\n",
              " 'ticky',\n",
              " 'schtick',\n",
              " 'whoosh',\n",
              " 'banzai',\n",
              " 'chill',\n",
              " 'wooofff',\n",
              " 'cheery',\n",
              " 'superstars',\n",
              " 'fashionable',\n",
              " 'cruelly',\n",
              " 'separating',\n",
              " 'mistreat',\n",
              " 'tensions',\n",
              " 'religions',\n",
              " 'baseness',\n",
              " 'nobility',\n",
              " 'puro',\n",
              " 'disowned',\n",
              " 'option',\n",
              " 'faults',\n",
              " 'dignified',\n",
              " 'realisation',\n",
              " 'reconciliation',\n",
              " 'mrs',\n",
              " 'iyer',\n",
              " 'heartbreaking',\n",
              " 'histories',\n",
              " 'frankness',\n",
              " 'starters',\n",
              " 'montage',\n",
              " 'swearing',\n",
              " 'halestorm',\n",
              " 'korea',\n",
              " 'concentrate',\n",
              " 'pic',\n",
              " 'elude',\n",
              " 'characteristics',\n",
              " 'blathered',\n",
              " 'brassed',\n",
              " 'declaration',\n",
              " 'peck',\n",
              " 'garnered',\n",
              " 'fearless',\n",
              " 'tempered',\n",
              " 'humane',\n",
              " 'tails',\n",
              " 'slighted',\n",
              " 'slater',\n",
              " 'barrage',\n",
              " 'underway',\n",
              " 'operating',\n",
              " 'tag',\n",
              " 'dorff',\n",
              " 'reid',\n",
              " 'continually',\n",
              " 'revel',\n",
              " 'nra',\n",
              " 'benton',\n",
              " 'slate',\n",
              " 'penal',\n",
              " 'vengeful',\n",
              " 'seed',\n",
              " 'backbone',\n",
              " 'dismal',\n",
              " 'fortunate',\n",
              " 'ds',\n",
              " 'tmob',\n",
              " 'autographed',\n",
              " 'intercepted',\n",
              " 'lectured',\n",
              " 'reprints',\n",
              " 'comicon',\n",
              " 'attendees',\n",
              " 'blackhawk',\n",
              " 'insisted',\n",
              " 'jumped',\n",
              " 'apologized',\n",
              " 'wishing',\n",
              " 'seller',\n",
              " 'abomination',\n",
              " 'crib',\n",
              " 'seriousness',\n",
              " 'reclaim',\n",
              " 'sidenotes',\n",
              " 'archenemy',\n",
              " 'simultaneous',\n",
              " 'sheet',\n",
              " 'ely',\n",
              " 'leaping',\n",
              " 'brick',\n",
              " 'blasting',\n",
              " 'pistol',\n",
              " 'duster',\n",
              " 'postscript',\n",
              " 'accompanied',\n",
              " '1975',\n",
              " 'smack']"
            ]
          },
          "metadata": {
            "tags": []
          },
          "execution_count": 205
        }
      ]
    },
    {
      "cell_type": "markdown",
      "metadata": {
        "id": "YCGJAaUoU94q",
        "colab_type": "text"
      },
      "source": [
        "## Naive Bayes"
      ]
    },
    {
      "cell_type": "markdown",
      "metadata": {
        "id": "oI5mgemBU94q",
        "colab_type": "text"
      },
      "source": [
        "We define the **log-count ratio** $r$ for each word $f$:\n",
        "\n",
        "$r = \\log \\frac{\\text{ratio of feature $f$ in positive documents}}{\\text{ratio of feature $f$ in negative documents}}$\n",
        "\n",
        "where ratio of feature $f$ in positive documents is the number of times a positive document has a feature divided by the number of positive documents."
      ]
    },
    {
      "cell_type": "code",
      "metadata": {
        "id": "A1i1OW7HU94r",
        "colab_type": "code",
        "outputId": "cf8ac627-fbaa-49ed-8876-4a49f597c284",
        "colab": {}
      },
      "source": [
        "movie_reviews.y.classes"
      ],
      "execution_count": 0,
      "outputs": [
        {
          "output_type": "execute_result",
          "data": {
            "text/plain": [
              "['negative', 'positive']"
            ]
          },
          "metadata": {
            "tags": []
          },
          "execution_count": 281
        }
      ]
    },
    {
      "cell_type": "code",
      "metadata": {
        "id": "e3f_Rwu-U94u",
        "colab_type": "code",
        "colab": {}
      },
      "source": [
        "x = trn_term_doc\n",
        "y = movie_reviews.train.y\n",
        "val_y = movie_reviews.valid.y"
      ],
      "execution_count": 0,
      "outputs": []
    },
    {
      "cell_type": "code",
      "metadata": {
        "id": "TJFYebPjU94w",
        "colab_type": "code",
        "colab": {}
      },
      "source": [
        "positive = y.c2i['positive']\n",
        "negative = y.c2i['negative']"
      ],
      "execution_count": 0,
      "outputs": []
    },
    {
      "cell_type": "code",
      "metadata": {
        "id": "aA_6ewQmU94z",
        "colab_type": "code",
        "outputId": "78599418-f317-418f-8263-d17232f980b1",
        "colab": {}
      },
      "source": [
        "len(p1), len(p0)"
      ],
      "execution_count": 0,
      "outputs": [
        {
          "output_type": "execute_result",
          "data": {
            "text/plain": [
              "(6010, 6010)"
            ]
          },
          "metadata": {
            "tags": []
          },
          "execution_count": 284
        }
      ]
    },
    {
      "cell_type": "code",
      "metadata": {
        "id": "eQyZ7w69U945",
        "colab_type": "code",
        "outputId": "5503608d-9766-4592-f7b3-10a0f9e17ad5",
        "colab": {}
      },
      "source": [
        "v.itos[0]"
      ],
      "execution_count": 0,
      "outputs": [
        {
          "output_type": "execute_result",
          "data": {
            "text/plain": [
              "'xxunk'"
            ]
          },
          "metadata": {
            "tags": []
          },
          "execution_count": 285
        }
      ]
    },
    {
      "cell_type": "code",
      "metadata": {
        "id": "g_uvHGAYU949",
        "colab_type": "code",
        "outputId": "af953079-26c6-4381-c21a-df90ec8b6cd4",
        "colab": {}
      },
      "source": [
        "np.squeeze(np.asarray(x[y.items==negative].sum(0)))"
      ],
      "execution_count": 0,
      "outputs": [
        {
          "output_type": "execute_result",
          "data": {
            "text/plain": [
              "array([7153,    0,  417,    0, ...,    0,    3,    3,    3], dtype=int64)"
            ]
          },
          "metadata": {
            "tags": []
          },
          "execution_count": 286
        }
      ]
    },
    {
      "cell_type": "code",
      "metadata": {
        "id": "AVzz_Y96U95A",
        "colab_type": "code",
        "outputId": "9b5838a5-ae66-4d60-c625-bce11646f7a1",
        "colab": {}
      },
      "source": [
        "np.asarray(x[y.items==positive].sum(0))"
      ],
      "execution_count": 0,
      "outputs": [
        {
          "output_type": "execute_result",
          "data": {
            "text/plain": [
              "array([[6468,    0,  383,    0, ...,    3,    0,    0,    0]], dtype=int64)"
            ]
          },
          "metadata": {
            "tags": []
          },
          "execution_count": 287
        }
      ]
    },
    {
      "cell_type": "code",
      "metadata": {
        "id": "znhLAVdZU95D",
        "colab_type": "code",
        "outputId": "197a0089-6387-4be3-8a2d-c1de14f06e25",
        "colab": {}
      },
      "source": [
        "np.squeeze(np.asarray(x[y.items==positive].sum(0)))"
      ],
      "execution_count": 0,
      "outputs": [
        {
          "output_type": "execute_result",
          "data": {
            "text/plain": [
              "array([6468,    0,  383,    0, ...,    3,    0,    0,    0], dtype=int64)"
            ]
          },
          "metadata": {
            "tags": []
          },
          "execution_count": 288
        }
      ]
    },
    {
      "cell_type": "markdown",
      "metadata": {
        "id": "xWM8TJKkU95F",
        "colab_type": "text"
      },
      "source": [
        "For each word in our vocabulary, we are summing up how many positive reviews it is in, and how many negative reviews."
      ]
    },
    {
      "cell_type": "code",
      "metadata": {
        "id": "AxWSDszCU95F",
        "colab_type": "code",
        "colab": {}
      },
      "source": [
        "p1 = np.squeeze(np.asarray(x[y.items==positive].sum(0)))\n",
        "p0 = np.squeeze(np.asarray(x[y.items==negative].sum(0)))"
      ],
      "execution_count": 0,
      "outputs": []
    },
    {
      "cell_type": "code",
      "metadata": {
        "id": "3GWQnyQvU95H",
        "colab_type": "code",
        "outputId": "a0276502-1225-44de-b503-f1ce8758b776",
        "colab": {}
      },
      "source": [
        "p1[:10]"
      ],
      "execution_count": 0,
      "outputs": [
        {
          "output_type": "execute_result",
          "data": {
            "text/plain": [
              "array([ 6468,     0,   383,     0,     0, 10267,   674,    57,     0,  5260], dtype=int64)"
            ]
          },
          "metadata": {
            "tags": []
          },
          "execution_count": 290
        }
      ]
    },
    {
      "cell_type": "code",
      "metadata": {
        "id": "Tv3vQEN2U95J",
        "colab_type": "code",
        "colab": {}
      },
      "source": [
        "v = movie_reviews.vocab"
      ],
      "execution_count": 0,
      "outputs": []
    },
    {
      "cell_type": "markdown",
      "metadata": {
        "id": "ts1lE8aoU95L",
        "colab_type": "text"
      },
      "source": [
        "### Using our ratios for even more data exploration"
      ]
    },
    {
      "cell_type": "markdown",
      "metadata": {
        "id": "T0zCpY1rU95M",
        "colab_type": "text"
      },
      "source": [
        "We can use p0 and p1 to do some more data exploration!"
      ]
    },
    {
      "cell_type": "markdown",
      "metadata": {
        "id": "boCCn45RU95M",
        "colab_type": "text"
      },
      "source": [
        "**Exercise**: compare how often \"loved\" appears in positive reviews vs. negative reviews.  How about \"hate\"?"
      ]
    },
    {
      "cell_type": "markdown",
      "metadata": {
        "id": "bOIIV77fU95N",
        "colab_type": "text"
      },
      "source": [
        "#### Answer:"
      ]
    },
    {
      "cell_type": "code",
      "metadata": {
        "id": "nplqft6pU95O",
        "colab_type": "code",
        "outputId": "28fb740e-b07b-41e0-ff4b-2afb579a2082",
        "colab": {}
      },
      "source": [
        "# Exercise: How often does the word \"loved\" appear in neg vs. pos reviews?\n"
      ],
      "execution_count": 0,
      "outputs": [
        {
          "output_type": "execute_result",
          "data": {
            "text/plain": [
              "(12, 29)"
            ]
          },
          "metadata": {
            "tags": []
          },
          "execution_count": 217
        }
      ]
    },
    {
      "cell_type": "code",
      "metadata": {
        "id": "uG0eI21vU95R",
        "colab_type": "code",
        "outputId": "cc9d3ee9-5bd4-4675-e358-4d86300e54f7",
        "colab": {}
      },
      "source": [
        "# Exercise: How often does the word \"hated\" appear in neg vs. pos reviews?\n"
      ],
      "execution_count": 0,
      "outputs": [
        {
          "output_type": "execute_result",
          "data": {
            "text/plain": [
              "(6, 3)"
            ]
          },
          "metadata": {
            "tags": []
          },
          "execution_count": 218
        }
      ]
    },
    {
      "cell_type": "markdown",
      "metadata": {
        "id": "cKUF7V96U95U",
        "colab_type": "text"
      },
      "source": [
        "#### positive reviews with the word \"hated\""
      ]
    },
    {
      "cell_type": "markdown",
      "metadata": {
        "id": "5X9Y1cyZU95U",
        "colab_type": "text"
      },
      "source": [
        "I was curious to look at an example of a postive review with the word \"hated\" in it:"
      ]
    },
    {
      "cell_type": "code",
      "metadata": {
        "id": "-G8Xq2yoU95a",
        "colab_type": "code",
        "outputId": "68bc006e-f99c-495b-b3b2-09fb7608a8dc",
        "colab": {}
      },
      "source": [
        "v.stoi['hated']"
      ],
      "execution_count": 0,
      "outputs": [
        {
          "output_type": "execute_result",
          "data": {
            "text/plain": [
              "1977"
            ]
          },
          "metadata": {
            "tags": []
          },
          "execution_count": 219
        }
      ]
    },
    {
      "cell_type": "code",
      "metadata": {
        "id": "o89dFd95U95h",
        "colab_type": "code",
        "outputId": "35563ca7-1a9b-4414-9cbf-40083fe9dc4f",
        "colab": {}
      },
      "source": [
        "a = np.argwhere((x[:,1977] > 0))[:,0]; a"
      ],
      "execution_count": 0,
      "outputs": [
        {
          "output_type": "execute_result",
          "data": {
            "text/plain": [
              "array([ 15,  49, 304, 351, 393, 612, 695, 773], dtype=int32)"
            ]
          },
          "metadata": {
            "tags": []
          },
          "execution_count": 220
        }
      ]
    },
    {
      "cell_type": "code",
      "metadata": {
        "id": "Zpml3P7AU95k",
        "colab_type": "code",
        "outputId": "09a8fb77-498a-43e5-b0eb-26f56f11ba42",
        "colab": {}
      },
      "source": [
        "b = np.argwhere(y.items==positive)[:,0]; b"
      ],
      "execution_count": 0,
      "outputs": [
        {
          "output_type": "execute_result",
          "data": {
            "text/plain": [
              "array([  1,   3,  10,  11, ..., 787, 789, 790, 797])"
            ]
          },
          "metadata": {
            "tags": []
          },
          "execution_count": 221
        }
      ]
    },
    {
      "cell_type": "code",
      "metadata": {
        "id": "TrmgqR5bU95v",
        "colab_type": "code",
        "outputId": "7814bd7d-6998-4939-ec89-ee703311bc4e",
        "colab": {}
      },
      "source": [
        "set(a).intersection(set(b))"
      ],
      "execution_count": 0,
      "outputs": [
        {
          "output_type": "execute_result",
          "data": {
            "text/plain": [
              "{393, 612, 695}"
            ]
          },
          "metadata": {
            "tags": []
          },
          "execution_count": 222
        }
      ]
    },
    {
      "cell_type": "code",
      "metadata": {
        "id": "WUFt-YG6U95y",
        "colab_type": "code",
        "outputId": "4248a25f-33c1-42c7-94d6-cf429fa1903d",
        "colab": {}
      },
      "source": [
        "review = movie_reviews.train.x[695]\n",
        "review.text"
      ],
      "execution_count": 0,
      "outputs": [
        {
          "output_type": "execute_result",
          "data": {
            "text/plain": [
              "\"xxbos xxmaj xxunk , yeah this episode is extremely underrated . \\n \\n  xxmaj even though there is a xxup lot of bad writing and acting at parts . i think the good over wins the bad . \\n \\n  i love the xxunk parts and the big ' twist ' at the end . i absolutely love that scene when xxmaj michelle xxunk xxmaj tony . xxmaj it 's actually one of my favorite scenes of xxmaj season 1 . \\n \\n  xxmaj for some reason , people have always hated the xxmaj xxunk episodes , yet i have always liked them . xxmaj they 're not the best , in terms of writing . but the theme really does interest me , \\n \\n  i 'm gon na give it a xxup three star , but if the writing were a little more consistent i 'd give it xxup four .\""
            ]
          },
          "metadata": {
            "tags": []
          },
          "execution_count": 223
        }
      ]
    },
    {
      "cell_type": "markdown",
      "metadata": {
        "id": "zMqYoA7XU952",
        "colab_type": "text"
      },
      "source": [
        "#### negative reviews with the word \"loved\""
      ]
    },
    {
      "cell_type": "markdown",
      "metadata": {
        "id": "L2SDJuxfU953",
        "colab_type": "text"
      },
      "source": [
        "Now, let's look at an example of a negative review that contains the word \"loved\""
      ]
    },
    {
      "cell_type": "code",
      "metadata": {
        "id": "FK25XYYkU954",
        "colab_type": "code",
        "outputId": "750103c8-0385-41ac-df0f-db54dafa4d14",
        "colab": {}
      },
      "source": [
        "v.stoi['loved']"
      ],
      "execution_count": 0,
      "outputs": [
        {
          "output_type": "execute_result",
          "data": {
            "text/plain": [
              "535"
            ]
          },
          "metadata": {
            "tags": []
          },
          "execution_count": 224
        }
      ]
    },
    {
      "cell_type": "code",
      "metadata": {
        "id": "jV4ECMuRU956",
        "colab_type": "code",
        "outputId": "60496472-06a7-46ed-acfc-73acefcc5052",
        "colab": {}
      },
      "source": [
        "a = np.argwhere((x[:,534] > 0))[:,0]; a"
      ],
      "execution_count": 0,
      "outputs": [
        {
          "output_type": "execute_result",
          "data": {
            "text/plain": [
              "array([  0,  19,  24,  51,  61,  70,  81, 110, 123, 155, 175, 193, 221, 265, 274, 279, 284, 290, 295, 304, 360, 384,\n",
              "       421, 465, 516, 520, 548, 569, 588, 604, 620, 631, 661, 672, 679, 702, 709, 759, 764, 792], dtype=int32)"
            ]
          },
          "metadata": {
            "tags": []
          },
          "execution_count": 225
        }
      ]
    },
    {
      "cell_type": "code",
      "metadata": {
        "id": "pb18ktKMU959",
        "colab_type": "code",
        "outputId": "b31a5462-c683-4b0f-8d97-e6a9ef89d765",
        "colab": {}
      },
      "source": [
        "b = np.argwhere(y.items==negative)[:,0]; b"
      ],
      "execution_count": 0,
      "outputs": [
        {
          "output_type": "execute_result",
          "data": {
            "text/plain": [
              "array([  0,   2,   4,   5, ..., 795, 796, 798, 799])"
            ]
          },
          "metadata": {
            "tags": []
          },
          "execution_count": 226
        }
      ]
    },
    {
      "cell_type": "code",
      "metadata": {
        "scrolled": true,
        "id": "1-a3lX5fU95-",
        "colab_type": "code",
        "outputId": "c7e792ff-c33a-40be-bc83-f517057aff86",
        "colab": {}
      },
      "source": [
        "set(a).intersection(set(b))"
      ],
      "execution_count": 0,
      "outputs": [
        {
          "output_type": "execute_result",
          "data": {
            "text/plain": [
              "{0,\n",
              " 24,\n",
              " 51,\n",
              " 70,\n",
              " 81,\n",
              " 123,\n",
              " 155,\n",
              " 193,\n",
              " 221,\n",
              " 274,\n",
              " 279,\n",
              " 284,\n",
              " 290,\n",
              " 295,\n",
              " 304,\n",
              " 421,\n",
              " 516,\n",
              " 548,\n",
              " 604,\n",
              " 620,\n",
              " 631,\n",
              " 672,\n",
              " 679,\n",
              " 709,\n",
              " 759,\n",
              " 764,\n",
              " 792}"
            ]
          },
          "metadata": {
            "tags": []
          },
          "execution_count": 227
        }
      ]
    },
    {
      "cell_type": "code",
      "metadata": {
        "id": "XLjZ42gAU96A",
        "colab_type": "code",
        "outputId": "4cc72446-1fd9-4e02-d2df-d65b918b7130",
        "colab": {}
      },
      "source": [
        "review = movie_reviews.train.x[792]\n",
        "review.text"
      ],
      "execution_count": 0,
      "outputs": [
        {
          "output_type": "execute_result",
          "data": {
            "text/plain": [
              "'xxbos xxmaj this is not really a zombie film , if we \\'re xxunk zombies as the dead walking around . xxmaj here the protagonist , xxmaj xxunk xxmaj louque ( played by an xxunk young xxmaj dean xxmaj xxunk ) , xxunk control of a method to create zombies , though in fact , his \\' method \\' is to mentally project his thoughts and control other living people \\'s minds turning them into xxunk slaves . xxmaj this is an interesting concept for a movie , and was done much more effectively by xxmaj xxunk xxmaj lang in his series of \\' xxmaj dr. xxmaj mabuse \\' films , including \\' xxmaj dr. xxmaj mabuse the xxmaj xxunk \\' ( xxunk ) and \\' xxmaj the xxmaj testament of xxmaj dr. xxmaj mabuse \\' ( 1933 ) . xxmaj here it is unfortunately xxunk to his quest to regain the love of his former fiancée , xxmaj claire xxmaj duvall ( played by the xxmaj anne xxmaj xxunk look alike with a bad xxunk , xxmaj dorothy xxmaj stone ) which is really the major theme . \\n \\n  xxmaj the movie has an intriguing beginning , as xxmaj louque is sent on a military xxunk expedition to xxmaj xxunk to end the cult of zombies that came from there . xxmaj at some type of compound ( where we get great 30s sets and clothes ) he xxunk his xxunk to xxmaj claire , and then barely five minutes later , she gives him back his ring xxunk her love for his pal , xxmaj xxunk xxmaj greyson ( xxmaj robert xxmaj xxunk ) . xxmaj it \\'s unintentionally funny the way they talk to each other without making eye contact . xxmaj this would have been a great movie for \\' xxmaj mystery xxmaj science xxmaj theater xxunk \\' , if they had n\\'t already xxunk it . \\n \\n  xxmaj it \\'s never shown how xxmaj louque actually learns the \\' xxunk \\' secret , but he then uses it to kill his enemies , create a giant army of xxunk carrying soldiers and body guards . xxmaj we wo n\\'t see such sheer force of will until xxmaj john xxmaj xxunk in \\' xxmaj the xxmaj brain xxmaj from xxmaj planet xxmaj xxunk \\' ( xxunk ) . \\n \\n  xxmaj finally xxmaj claire xxunk to marry him if he will let xxmaj greyson live and return to xxmaj america . xxmaj louque agrees , but actually turns him into one of his xxunk slaves . xxmaj on their wedding night he realizes that xxmaj claire will only begin to love him if he gives up his \\' powers . \\' xxmaj to gain her love , he does so , causing the \\' revolt \\' of the title , in which all his slaves xxunk and attack his compound and kill him . xxmaj greyson xxunk xxmaj claire , and we seem to be at the end of a parable : \" xxmaj whom the xxunk would destroy , they first make mad . \" \\n \\n  xxmaj so really then , it \\'s not that bad of a film , despite the low imdb rating it currently has . xxmaj on repeated viewings ( ? ) one can see the xxunk in the well formed script ! xxmaj dean xxmaj xxunk had yet to develop into a good actor , and is almost unrecognizable in his xxunk -- is that really his own hair ? xxmaj we remember him more for his xxunk , old man roles in \\' xxmaj white xxmaj christmas \\' ( xxunk ) , \\' x xxmaj the xxmaj unknown \\' ( 1956 ) and \\' xxmaj king xxmaj xxunk \\' ( 1958 ) . xxmaj the story xxunk a lot of its basic themes from the xxmaj xxunk brothers better , earlier film \\' xxmaj white xxmaj zombie \\' ( xxunk ) in which xxunk xxmaj robert xxmaj xxunk ( as xxmaj charles xxmaj xxunk ) uses \\' xxunk \\' to win the love of xxmaj xxunk xxmaj xxunk ( as xxmaj xxunk xxmaj parker ) . \\n \\n  xxmaj if you want real zombie movies ( of which there are hundreds ! ) i \\'d start with \\' xxmaj white xxmaj zombie \\' ( xxunk ) , \\' xxmaj king of the xxmaj zombies \\' ( xxunk ) , \\' i xxmaj walked with a xxmaj zombie \\' ( xxunk ) , \\' xxmaj night of the xxmaj living xxmaj dead \\' ( xxunk ) , \\' xxmaj the xxmaj last xxmaj man on xxmaj earth \\' ( 1964 ) and its two xxunk . xxmaj in the modern era of classy films , there are \\' xxmaj horror xxmaj express \\' ( 1972 ) , \\' xxmaj the xxmaj xxunk and the xxmaj xxunk \\' ( xxunk ) , \\' 28 xxmaj days xxmaj later \\' ( 2002 ) and its sequel , as well as many , many , others too numerous to mention . \\n \\n  xxmaj this one is not really a zombie film . xxmaj judging this movie on its own terms , it \\'s more of a semi - xxmaj gothic romance . xxmaj as such it ranks a little below some of xxmaj universal \\'s bottom billed b horror movies of the late 30s and early xxunk . xxmaj so i \\'ll give it a 5 .'"
            ]
          },
          "metadata": {
            "tags": []
          },
          "execution_count": 323
        }
      ]
    },
    {
      "cell_type": "markdown",
      "metadata": {
        "id": "85gKyKagU96C",
        "colab_type": "text"
      },
      "source": [
        "## Applying Naive Bayes"
      ]
    },
    {
      "cell_type": "code",
      "metadata": {
        "id": "lMqBgRMZU96C",
        "colab_type": "code",
        "colab": {}
      },
      "source": [
        "p1 = np.squeeze(np.asarray(x[y.items==positive].sum(0)))\n",
        "p0 = np.squeeze(np.asarray(x[y.items==negative].sum(0)))"
      ],
      "execution_count": 0,
      "outputs": []
    },
    {
      "cell_type": "code",
      "metadata": {
        "id": "xOFn7dz0U96H",
        "colab_type": "code",
        "colab": {}
      },
      "source": [
        "pr1 = (p1+1) / ((y.items==positive).sum() + 1)\n",
        "pr0 = (p0+1) / ((y.items==negative).sum() + 1)"
      ],
      "execution_count": 0,
      "outputs": []
    },
    {
      "cell_type": "code",
      "metadata": {
        "id": "FV3fIMNkU96K",
        "colab_type": "code",
        "outputId": "ea6d9495-6f49-4722-df00-ce66db3fa671",
        "colab": {}
      },
      "source": [
        "r = np.log(pr1/pr0); r"
      ],
      "execution_count": 0,
      "outputs": [
        {
          "output_type": "execute_result",
          "data": {
            "text/plain": [
              "array([-0.015811,  0.084839,  0.      ,  0.084839, ...,  1.471133, -1.301455, -1.301455, -1.301455])"
            ]
          },
          "metadata": {
            "tags": []
          },
          "execution_count": 293
        }
      ]
    },
    {
      "cell_type": "markdown",
      "metadata": {
        "id": "eCbaqIQZU96N",
        "colab_type": "text"
      },
      "source": [
        "### Vocab most likely associated with positive/negative reviews"
      ]
    },
    {
      "cell_type": "code",
      "metadata": {
        "id": "XRm-ihK9U96N",
        "colab_type": "code",
        "colab": {}
      },
      "source": [
        "biggest = np.argpartition(r, -10)[-10:]\n",
        "smallest = np.argpartition(r, 10)[:10]"
      ],
      "execution_count": 0,
      "outputs": []
    },
    {
      "cell_type": "markdown",
      "metadata": {
        "id": "y7IHcW3_U96O",
        "colab_type": "text"
      },
      "source": [
        "Most positive words:"
      ]
    },
    {
      "cell_type": "code",
      "metadata": {
        "id": "khT0Ifv0U96P",
        "colab_type": "code",
        "outputId": "25ec6765-4f78-43e4-b988-22699c9d98b9",
        "colab": {}
      },
      "source": [
        "[v.itos[k] for k in biggest]"
      ],
      "execution_count": 0,
      "outputs": [
        {
          "output_type": "execute_result",
          "data": {
            "text/plain": [
              "['paxton',\n",
              " 'gilliam',\n",
              " 'davies',\n",
              " 'jabba',\n",
              " 'jimmy',\n",
              " 'felix',\n",
              " 'biko',\n",
              " 'fanfan',\n",
              " 'astaire',\n",
              " 'noir']"
            ]
          },
          "metadata": {
            "tags": []
          },
          "execution_count": 313
        }
      ]
    },
    {
      "cell_type": "code",
      "metadata": {
        "id": "sQollanbU96Q",
        "colab_type": "code",
        "outputId": "e658926b-591e-4bbd-ff8f-524b5b1caae6",
        "colab": {}
      },
      "source": [
        "np.argmax(trn_term_doc[:,v.stoi['biko']])"
      ],
      "execution_count": 0,
      "outputs": [
        {
          "output_type": "execute_result",
          "data": {
            "text/plain": [
              "515"
            ]
          },
          "metadata": {
            "tags": []
          },
          "execution_count": 319
        }
      ]
    },
    {
      "cell_type": "code",
      "metadata": {
        "id": "8jn8iQWlU96S",
        "colab_type": "code",
        "outputId": "2d1a6570-dbeb-483e-cb83-58426264e5c6",
        "colab": {}
      },
      "source": [
        "movie_reviews.train.x[515]"
      ],
      "execution_count": 0,
      "outputs": [
        {
          "output_type": "execute_result",
          "data": {
            "text/plain": [
              "Text xxbos \" xxmaj the xxmaj true xxmaj story xxmaj of xxmaj the xxmaj friendship xxmaj that xxmaj shook xxmaj south xxmaj africa xxmaj and xxmaj xxunk xxmaj the xxmaj world . \" \n",
              " \n",
              "  xxmaj richard xxmaj attenborough , who directed \" a xxmaj bridge xxmaj too xxmaj far \" and \" xxmaj gandhi \" , wanted to bring the story of xxmaj steve xxmaj biko to life , and the journey and trouble that xxunk xxmaj donald xxmaj woods went through in order to get his story told . xxmaj the films uses xxmaj wood 's two books for it 's information and basis - \" xxmaj biko \" and \" xxmaj asking for xxmaj trouble \" . \n",
              " \n",
              "  xxmaj the film takes place in the late 1970 's , in xxmaj south xxmaj africa . xxmaj south xxmaj africa is in the grip of the terrible apartheid , which keeps the blacks separated from the whites and xxunk the whites as the superior race . xxmaj the blacks are forced to live in xxunk on the xxunk of the cities and xxunk , and they come under frequent xxunk by the police and the army . xxmaj we are shown a dawn xxunk on a xxunk , as xxunk and armed police force their way through the camp beating and even killing the inhabitants . xxmaj then we are introduced to xxmaj donald xxmaj woods ( xxmaj kevin xxmaj kline ) , who is the editor of a popular newspaper . xxmaj after xxunk a negative story about black xxunk xxmaj steve xxmaj biko ( xxmaj denzel xxmaj washington ) , xxmaj woods goes to meet with him . xxmaj the two are xxunk of each other at first , but they soon become good friends and xxmaj biko shows the horrors of the apartheid system from a black persons point of view to xxmaj woods . xxmaj this xxunk xxmaj woods to speak out against what 's happening around him , and makes him desperate to bring xxmaj steve xxmaj biko 's story out of the xxunk of the white man 's xxmaj south xxmaj africa and to the world . xxmaj soon , xxmaj steve xxmaj biko is arrested and is killed in prison . xxmaj now xxmaj woods and his family are daring to escape from xxmaj south xxmaj africa to xxmaj england , where xxmaj woods can xxunk his book about xxmaj steve xxmaj biko and the apartheid . \n",
              " \n",
              "  xxmaj when i first heard of \" xxmaj cry xxmaj freedom \" , i was under the impression that it was a movie completely dedicated to the life of xxmaj steve xxmaj biko . i had never actually heard of xxmaj steve xxmaj biko before i seen this film , as the events in this film were really before my time . xxmaj but it 's more about the story of xxmaj donald xxmaj woods and his journey across the border into xxmaj xxunk as he tried to xxunk the xxmaj south xxmaj african xxunk . xxmaj woods was put on a five year type house xxunk after xxmaj steve xxmaj biko was killed . xxmaj so in order to xxunk his xxunk on xxmaj steve xxmaj biko , he had to escape . xxmaj because the xxunk would be considered xxunk in xxmaj south xxmaj africa and that could have resulted in xxmaj woods meeting a fate similar to that of xxmaj biko 's . xxmaj the real xxmaj donald xxmaj woods and his wife acted as xxunk to this film . \n",
              " \n",
              "  xxmaj denzel xxmaj washington is only in the film for the first hour , and i was disappointed with that as i was expecting to see him for the entire movie . xxmaj but he was amazing as xxmaj steve xxmaj biko , and captured his personality from what i 've read really well and his accent sounded perfect . xxmaj his performance earned him an xxmaj oscar nomination for xxmaj best xxmaj supporting xxmaj actor . xxmaj kevin xxmaj kline delivers a excellent and thought - xxunk performance as xxmaj donald xxmaj woods , and xxmaj penelope xxmaj xxunk is excellent as his wife xxmaj xxunk . \n",
              " \n",
              "  xxmaj filming took place in xxmaj xxunk , as needless to say problems xxunk when they tried to film it in xxmaj south xxmaj africa . xxmaj while in xxmaj south xxmaj africa , the xxmaj south xxmaj african xxunk followed the film crew everywhere , so they got the bad xxunk and they pulled out and went to xxunk xxmaj xxunk instead . xxmaj despite everything , and the fact that the apartheid did n't end ' xxunk seven years later , \" xxmaj cry xxmaj freedom \" was n't xxunk in xxmaj south xxmaj africa . xxmaj but xxunk showing the movie received bomb threats . \n",
              " \n",
              "  xxmaj richard xxmaj attenborough brings the horrors of the apartheid to the screen with extreme force and determination . xxmaj he does n't hold back at the end of the movie when showing what was supposed to be a xxunk xxunk by students in a xxunk , turns into a massacre when police open fire on them . xxmaj the film ends with the names of all the anti - apartheid xxunk who died in prison , and the explanations for their deaths . xxmaj many had \" xxmaj no xxmaj explanation \" . xxmaj quite a few were \" xxmaj xxunk \" , which is hard to believe , and many more either fell from the top of the xxunk or were \" xxmaj suicide from xxmaj hanging \" . xxmaj no one will ever know what really happened to them , but i think it 's fair to say that none of these men died at their own hands , but at the hands of others ; or to be more xxunk , at the hands of the police . \n",
              " \n",
              "  \" xxmaj cry xxmaj freedom \" is a must - see movie for it 's portrayal and story of xxmaj steve xxmaj biko . xxmaj it 's also a xxunk and xxunk portrayal of a beautiful land divided and in the xxunk grips of racial xxunk and violence ."
            ]
          },
          "metadata": {
            "tags": []
          },
          "execution_count": 324
        }
      ]
    },
    {
      "cell_type": "markdown",
      "metadata": {
        "id": "HkceQaQuU96W",
        "colab_type": "text"
      },
      "source": [
        "Most negative words:"
      ]
    },
    {
      "cell_type": "code",
      "metadata": {
        "scrolled": true,
        "id": "dR6k6a3sU96X",
        "colab_type": "code",
        "outputId": "f46d2571-b999-4e36-9a1d-50bbf5494e50",
        "colab": {}
      },
      "source": [
        "[v.itos[k] for k in smallest]"
      ],
      "execution_count": 0,
      "outputs": [
        {
          "output_type": "execute_result",
          "data": {
            "text/plain": [
              "['dog',\n",
              " 'disappointment',\n",
              " 'naschy',\n",
              " 'vargas',\n",
              " 'worst',\n",
              " 'crap',\n",
              " 'crater',\n",
              " 'porn',\n",
              " 'soderbergh',\n",
              " 'fuqua']"
            ]
          },
          "metadata": {
            "tags": []
          },
          "execution_count": 316
        }
      ]
    },
    {
      "cell_type": "code",
      "metadata": {
        "id": "k3z-nBwCU96Y",
        "colab_type": "code",
        "outputId": "efcadbea-eacb-4138-f988-a54d339f3a4e",
        "colab": {}
      },
      "source": [
        "np.argmax(trn_term_doc[:,v.stoi['soderbergh']])"
      ],
      "execution_count": 0,
      "outputs": [
        {
          "output_type": "execute_result",
          "data": {
            "text/plain": [
              "434"
            ]
          },
          "metadata": {
            "tags": []
          },
          "execution_count": 317
        }
      ]
    },
    {
      "cell_type": "code",
      "metadata": {
        "id": "G_ZvcNGNU96Z",
        "colab_type": "code",
        "outputId": "6a27825e-2823-46bd-95b7-ae451903f686",
        "colab": {}
      },
      "source": [
        "movie_reviews.train.x[434]"
      ],
      "execution_count": 0,
      "outputs": [
        {
          "output_type": "execute_result",
          "data": {
            "text/plain": [
              "Text xxbos xxmaj now that xxmaj che(2008 ) has finished its relatively short xxmaj australian cinema run ( extremely limited xxunk screen in xxmaj xxunk , after xxunk ) , i can xxunk join both xxunk of \" xxmaj at xxmaj the xxmaj movies \" in taking xxmaj steven xxmaj soderbergh to task . \n",
              " \n",
              "  xxmaj it 's usually satisfying to watch a film director change his style / subject , but xxmaj soderbergh 's most recent stinker , xxmaj the xxmaj girlfriend xxmaj xxunk ) , was also missing a story , so narrative ( and editing ? ) seem to suddenly be xxmaj soderbergh 's main challenge . xxmaj strange , after xxunk years in the business . xxmaj he was probably never much good at narrative , just xxunk it well inside \" edgy \" projects . \n",
              " \n",
              "  xxmaj none of this excuses him this present , almost diabolical failure . xxmaj as xxmaj david xxmaj xxunk xxunk , \" two parts of xxmaj che do n't ( even ) make a whole \" . \n",
              " \n",
              "  xxmaj epic xxunk in name only , xxmaj che(2008 ) barely qualifies as a feature film ! xxmaj it certainly has no legs , xxunk as except for its xxunk ultimate resolution forced upon it by history , xxmaj soderbergh 's xxunk - long xxunk just goes nowhere . \n",
              " \n",
              "  xxmaj even xxmaj margaret xxmaj xxunk , the more xxunk of xxmaj australia 's xxmaj at xxmaj the xxmaj movies duo , noted about xxmaj soderbergh 's xxunk waste of ( xxup xxunk digital xxunk ) : \" you 're in the woods ... xxunk in the woods ... xxunk in the woods ... \" . i too am surprised xxmaj soderbergh did n't give us another xxunk of xxup that somewhere between his xxunk two xxmaj parts , because he still left out massive xxunk of xxmaj che 's \" xxunk \" life ! \n",
              " \n",
              "  xxmaj for a xxunk of an important but infamous historical figure , xxmaj soderbergh xxunk xxunk , if not deliberately insults , his audiences by \n",
              " \n",
              "  1 . never providing most of xxmaj che 's story ; \n",
              " \n",
              "  2 . xxunk xxunk film xxunk with mere xxunk xxunk ; \n",
              " \n",
              "  3 . xxunk both true xxunk and a narrative of events ; \n",
              " \n",
              "  4 . barely developing an idea , or a character ; \n",
              " \n",
              "  5 . remaining xxunk episodic ; \n",
              " \n",
              "  6 . xxunk proper context for scenes --- whatever we do get is xxunk in xxunk xxunk ; \n",
              " \n",
              "  7 . xxunk xxunk all audiences ( even xxmaj spanish - xxunk will be confused by the xxunk xxunk in xxmaj english ) ; and \n",
              " \n",
              "  8 . xxunk xxunk his main subject into one dimension . xxmaj why , at xxup this late stage ? xxmaj the t - shirt franchise has been a success ! \n",
              " \n",
              "  xxmaj our sense of xxunk is surely due to xxmaj peter xxmaj xxunk and xxmaj benjamin xxunk xxmaj xxunk xxunk their screenplay solely on xxmaj xxunk 's memoirs . xxmaj so , like a poor student who has read only xxup one of his xxunk xxunk for his xxunk , xxmaj soderbergh 's product is xxunk limited in perspective . \n",
              " \n",
              "  xxmaj the audience is held captive within the same xxunk knowledge , scenery and circumstances of the \" revolutionaries \" , but that does n't xxunk our sympathy . xxmaj instead , it xxunk on us that \" xxmaj ah , xxmaj soderbergh 's trying to xxunk his audiences the same as the xxmaj latino peasants were at the time \" . xxmaj but these are the xxup same illiterate xxmaj latino peasants who xxunk out the good doctor to his enemies . xxmaj why does xxmaj soderbergh feel the need to xxunk us with them , and keep us equally mentally captive ? xxmaj such audience xxunk must have a purpose . \n",
              " \n",
              "  xxmaj part2 is more xxunk than xxmaj part1 , but it 's literally mind - numbing with its repetitive bush - bashing , misery of xxunk , and lack of variety or character xxunk . deltoro 's xxmaj che has no opportunity to grow as a person while he struggles to xxunk his own ill - xxunk troops . xxmaj the only xxunk is the humour as xxmaj che deals with his sometimes deeply ignorant \" revolutionaries \" , some of whom xxunk lack self - control around local peasants or food . xxmaj we certainly get no insight into what caused the conditions , nor any xxunk xxunk of their xxunk xxunk , such as it was . \n",
              " \n",
              "  xxmaj part2 's xxunk xxunk remains xxunk episodic : again , nothing is telegraphed or xxunk . xxmaj thus even the scenes with xxmaj xxunk xxmaj xxunk ( xxmaj xxunk xxmaj xxunk ) are unexpected and disconcerting . xxmaj any xxunk events are portrayed xxunk and xxmaj latino - xxunk , with xxmaj part1 's interviews xxunk by time - xxunk xxunk between the corrupt xxmaj xxunk president ( xxmaj xxunk de xxmaj xxunk ) and xxup us xxmaj government xxunk promising xxup cia xxunk ( ! ) . \n",
              " \n",
              "  xxmaj the rest of xxmaj part2 's \" woods \" and day - for - night blue xxunk just xxunk the audience until they 're xxunk the xxunk . \n",
              " \n",
              "  xxmaj perhaps deltoro felt too xxunk the frustration of many non - xxmaj american xxmaj latinos about never getting a truthful , xxunk history of xxmaj che 's xxunk within their own countries . xxmaj when foreign xxunk still wo n't deliver a free press to their people -- for whatever reason -- then one can see how a popular xxmaj american indie producer might set out to xxunk the not - so - well - read ( \" i may not be able to read or write , but i 'm xxup not xxunk . xxmaj the xxmaj inspector xxmaj xxunk ) ) out to their own local xxunk . xxmaj the film 's obvious xxunk and gross over - xxunk hint very strongly that it 's aiming only at the xxunk of the less - informed xxup who xxup still xxup speak xxup little xxmaj english . xxmaj if they did , they 'd have read xxunk on the subject already , and xxunk the relevant social issues amongst themselves -- learning the lessons of history as they should . \n",
              " \n",
              "  xxmaj such insights are precisely what societies still need -- and not just the remaining illiterate xxmaj latinos of xxmaj central and xxmaj south xxmaj america -- yet it 's what xxmaj che(2008 ) xxunk fails to deliver . xxmaj soderbergh xxunk his lead because he 's weak on narrative . i am xxunk why xxmaj xxunk deltoro deliberately chose xxmaj soderbergh for this project if he knew this . xxmaj it 's been xxunk , xxunk about xxmaj xxunk was xxunk wanted : it 's what i went to see this film for , but the director xxunk robs us of that . \n",
              " \n",
              "  xxmaj david xxmaj xxunk , writing in xxmaj the xxmaj australian ( xxunk ) observed that while xxmaj part1 was \" uneven \" , xxmaj part2 actually \" goes rapidly downhill \" from there , \" xxunk xxmaj che 's final xxunk in xxmaj xxunk in xxunk detail \" , which \" ... feels almost unbearably slow and turgid \" . \n",
              " \n",
              "  xxmaj che : xxmaj the xxmaj xxunk aka xxmaj part2 is certainly no xxunk for xxmaj xxunk , painting it a picture of misery and xxunk . xxmaj the entire second half is only xxunk by the aforementioned humour , and the dramatic -- yet tragic -- capture and execution of the film 's subject . \n",
              " \n",
              "  xxmaj the rest of this xxunk cinema xxunk is just confusing , irritating misery -- xxunk , for a xxmaj soderbergh film , to be avoided at all costs . xxmaj it is bound to break the hearts of all who know even just a xxunk about the xxunk / 10 )"
            ]
          },
          "metadata": {
            "tags": []
          },
          "execution_count": 325
        }
      ]
    },
    {
      "cell_type": "code",
      "metadata": {
        "id": "xNsbEcflU96d",
        "colab_type": "code",
        "outputId": "ad33be1b-5be4-464a-ea08-76b591939fc6",
        "colab": {}
      },
      "source": [
        "trn_term_doc[:,v.stoi['soderbergh']]"
      ],
      "execution_count": 0,
      "outputs": [
        {
          "output_type": "execute_result",
          "data": {
            "text/plain": [
              "<800x1 sparse matrix of type '<class 'numpy.int64'>'\n",
              "\twith 1 stored elements in Compressed Sparse Row format>"
            ]
          },
          "metadata": {
            "tags": []
          },
          "execution_count": 322
        }
      ]
    },
    {
      "cell_type": "code",
      "metadata": {
        "scrolled": true,
        "id": "TUDvwWLkU96e",
        "colab_type": "code",
        "outputId": "d399d249-8314-410b-a234-b308e42964bc",
        "colab": {}
      },
      "source": [
        "[v.itos[k] for k in smallest]"
      ],
      "execution_count": 0,
      "outputs": [
        {
          "output_type": "execute_result",
          "data": {
            "text/plain": [
              "['dog',\n",
              " 'disappointment',\n",
              " 'naschy',\n",
              " 'vargas',\n",
              " 'worst',\n",
              " 'crap',\n",
              " 'crater',\n",
              " 'porn',\n",
              " 'soderbergh',\n",
              " 'fuqua']"
            ]
          },
          "metadata": {
            "tags": []
          },
          "execution_count": 316
        }
      ]
    },
    {
      "cell_type": "markdown",
      "metadata": {
        "id": "QzVb4rZtU96f",
        "colab_type": "text"
      },
      "source": [
        "### Continuing with Naive Bayes"
      ]
    },
    {
      "cell_type": "code",
      "metadata": {
        "id": "UJTq8Ag1U96g",
        "colab_type": "code",
        "outputId": "005f6c2d-d58c-4d4a-e3bb-2b5ea6f8c788",
        "colab": {}
      },
      "source": [
        "(y.items==positive).mean(), (y.items==negative).mean()"
      ],
      "execution_count": 0,
      "outputs": [
        {
          "output_type": "execute_result",
          "data": {
            "text/plain": [
              "(0.47875, 0.52125)"
            ]
          },
          "metadata": {
            "tags": []
          },
          "execution_count": 106
        }
      ]
    },
    {
      "cell_type": "code",
      "metadata": {
        "id": "t06wIIOJU96i",
        "colab_type": "code",
        "colab": {}
      },
      "source": [
        "b = np.log((y.items==positive).mean() / (y.items==negative).mean())"
      ],
      "execution_count": 0,
      "outputs": []
    },
    {
      "cell_type": "code",
      "metadata": {
        "id": "QqxWl2R1U96j",
        "colab_type": "code",
        "colab": {}
      },
      "source": [
        "preds = (val_term_doc @ r + b) > 0"
      ],
      "execution_count": 0,
      "outputs": []
    },
    {
      "cell_type": "code",
      "metadata": {
        "id": "9AdzmNrfU96m",
        "colab_type": "code",
        "outputId": "75ae4be7-bbb1-499c-a9b6-ce4901e64cc1",
        "colab": {}
      },
      "source": [
        "(preds == val_y.items).mean()"
      ],
      "execution_count": 0,
      "outputs": [
        {
          "output_type": "execute_result",
          "data": {
            "text/plain": [
              "0.645"
            ]
          },
          "metadata": {
            "tags": []
          },
          "execution_count": 109
        }
      ]
    },
    {
      "cell_type": "markdown",
      "metadata": {
        "id": "l5xbz--OU96o",
        "colab_type": "text"
      },
      "source": [
        "## Switching to full data set"
      ]
    },
    {
      "cell_type": "markdown",
      "metadata": {
        "id": "lXZTAiJhU96o",
        "colab_type": "text"
      },
      "source": [
        "Now that we have our approach working on a smaller sample of the data, we can try using it on the full dataset."
      ]
    },
    {
      "cell_type": "markdown",
      "metadata": {
        "id": "3_XTbpUKU96p",
        "colab_type": "text"
      },
      "source": [
        "### Download data and process"
      ]
    },
    {
      "cell_type": "code",
      "metadata": {
        "id": "YNIUTqD5U96q",
        "colab_type": "code",
        "outputId": "77b21644-023a-4f02-b93d-97c0b182b617",
        "colab": {}
      },
      "source": [
        "path = untar_data(URLs.IMDB)\n",
        "path.ls()"
      ],
      "execution_count": 0,
      "outputs": [
        {
          "output_type": "execute_result",
          "data": {
            "text/plain": [
              "[PosixPath('/home/racheltho/.fastai/data/imdb/unsup'),\n",
              " PosixPath('/home/racheltho/.fastai/data/imdb/imdb.vocab'),\n",
              " PosixPath('/home/racheltho/.fastai/data/imdb/models'),\n",
              " PosixPath('/home/racheltho/.fastai/data/imdb/tmp_lm'),\n",
              " PosixPath('/home/racheltho/.fastai/data/imdb/train'),\n",
              " PosixPath('/home/racheltho/.fastai/data/imdb/test'),\n",
              " PosixPath('/home/racheltho/.fastai/data/imdb/README'),\n",
              " PosixPath('/home/racheltho/.fastai/data/imdb/tmp_clas'),\n",
              " PosixPath('/home/racheltho/.fastai/data/imdb/imdb_textlist_class'),\n",
              " PosixPath('/home/racheltho/.fastai/data/imdb/lm_databunch')]"
            ]
          },
          "metadata": {
            "tags": []
          },
          "execution_count": 326
        }
      ]
    },
    {
      "cell_type": "code",
      "metadata": {
        "id": "TJLSKl1MU96s",
        "colab_type": "code",
        "outputId": "1761237f-f919-4a7e-f621-ea6f387626e1",
        "colab": {}
      },
      "source": [
        "(path/'train').ls()"
      ],
      "execution_count": 0,
      "outputs": [
        {
          "output_type": "execute_result",
          "data": {
            "text/plain": [
              "[PosixPath('/home/racheltho/.fastai/data/imdb/train/pos'),\n",
              " PosixPath('/home/racheltho/.fastai/data/imdb/train/unsupBow.feat'),\n",
              " PosixPath('/home/racheltho/.fastai/data/imdb/train/labeledBow.feat'),\n",
              " PosixPath('/home/racheltho/.fastai/data/imdb/train/neg')]"
            ]
          },
          "metadata": {
            "tags": []
          },
          "execution_count": 327
        }
      ]
    },
    {
      "cell_type": "code",
      "metadata": {
        "id": "535rjWEBU96t",
        "colab_type": "code",
        "colab": {}
      },
      "source": [
        "reviews_full = (TextList.from_folder(path)\n",
        "             #grab all the text files in path\n",
        "             .split_by_folder(valid='test')\n",
        "             #split by train and valid folder (that only keeps 'train' and 'test' so no need to filter)\n",
        "             .label_from_folder(classes=['neg', 'pos']))\n",
        "             #label them all with their folders"
      ],
      "execution_count": 0,
      "outputs": []
    },
    {
      "cell_type": "code",
      "metadata": {
        "id": "mWCeK49eU96u",
        "colab_type": "code",
        "outputId": "ce175699-edff-4257-8192-842624790996",
        "colab": {}
      },
      "source": [
        "len(reviews_full.train), len(reviews_full.valid)"
      ],
      "execution_count": 0,
      "outputs": [
        {
          "output_type": "execute_result",
          "data": {
            "text/plain": [
              "(25000, 25000)"
            ]
          },
          "metadata": {
            "tags": []
          },
          "execution_count": 329
        }
      ]
    },
    {
      "cell_type": "markdown",
      "metadata": {
        "id": "DKK8m7kXU96v",
        "colab_type": "text"
      },
      "source": [
        "We will store the vocab in a variable `v` since we will be using it frequently:"
      ]
    },
    {
      "cell_type": "code",
      "metadata": {
        "id": "t_HtER7_U96w",
        "colab_type": "code",
        "colab": {}
      },
      "source": [
        "v = reviews_full.vocab"
      ],
      "execution_count": 0,
      "outputs": []
    },
    {
      "cell_type": "code",
      "metadata": {
        "scrolled": true,
        "id": "T5ryksC7U96y",
        "colab_type": "code",
        "outputId": "19df8392-9bb8-432a-a018-202495bf67b3",
        "colab": {}
      },
      "source": [
        "v.itos[100:110]"
      ],
      "execution_count": 0,
      "outputs": [
        {
          "output_type": "execute_result",
          "data": {
            "text/plain": [
              "['bad',\n",
              " 'people',\n",
              " 'will',\n",
              " 'other',\n",
              " 'also',\n",
              " 'into',\n",
              " 'first',\n",
              " 'because',\n",
              " 'great',\n",
              " 'how']"
            ]
          },
          "metadata": {
            "tags": []
          },
          "execution_count": 331
        }
      ]
    },
    {
      "cell_type": "code",
      "metadata": {
        "id": "VwR3mAvhU96z",
        "colab_type": "code",
        "outputId": "856013c3-1d90-47ec-dc4d-644de0bea281",
        "colab": {}
      },
      "source": [
        "%%time\n",
        "val_term_doc = get_term_doc_matrix(reviews_full.valid.x, len(reviews_full.vocab.itos))"
      ],
      "execution_count": 0,
      "outputs": [
        {
          "output_type": "stream",
          "text": [
            "CPU times: user 4.57 s, sys: 116 ms, total: 4.69 s\n",
            "Wall time: 4.56 s\n"
          ],
          "name": "stdout"
        }
      ]
    },
    {
      "cell_type": "code",
      "metadata": {
        "scrolled": true,
        "id": "MQfgJYgjU964",
        "colab_type": "code",
        "outputId": "0ead1d72-d033-4dac-c841-e0eeaca2790b",
        "colab": {}
      },
      "source": [
        "%%time\n",
        "trn_term_doc = get_term_doc_matrix(reviews_full.train.x, len(reviews_full.vocab.itos))"
      ],
      "execution_count": 0,
      "outputs": [
        {
          "output_type": "stream",
          "text": [
            "CPU times: user 5.1 s, sys: 236 ms, total: 5.34 s\n",
            "Wall time: 5.01 s\n"
          ],
          "name": "stdout"
        }
      ]
    },
    {
      "cell_type": "markdown",
      "metadata": {
        "id": "fiTINCmJU965",
        "colab_type": "text"
      },
      "source": [
        "### Save data"
      ]
    },
    {
      "cell_type": "markdown",
      "metadata": {
        "id": "O4Sk6xqHU965",
        "colab_type": "text"
      },
      "source": [
        "That was slow.  Let's save our matrices for faster loading next time:"
      ]
    },
    {
      "cell_type": "code",
      "metadata": {
        "id": "MHHiHzJwU965",
        "colab_type": "code",
        "colab": {}
      },
      "source": [
        "scipy.sparse.save_npz(\"trn_term_doc.npz\", trn_term_doc)"
      ],
      "execution_count": 0,
      "outputs": []
    },
    {
      "cell_type": "code",
      "metadata": {
        "id": "W6nOKUWUU967",
        "colab_type": "code",
        "colab": {}
      },
      "source": [
        "scipy.sparse.save_npz(\"val_term_doc.npz\", val_term_doc)"
      ],
      "execution_count": 0,
      "outputs": []
    },
    {
      "cell_type": "markdown",
      "metadata": {
        "id": "uXDWS3lxU968",
        "colab_type": "text"
      },
      "source": [
        "When storing data like this, always make sure it's included in your .gitignore file"
      ]
    },
    {
      "cell_type": "markdown",
      "metadata": {
        "id": "qqc6W91uU969",
        "colab_type": "text"
      },
      "source": [
        "In the future, we'll just be able to load our data:"
      ]
    },
    {
      "cell_type": "code",
      "metadata": {
        "id": "FuwSLOrsU969",
        "colab_type": "code",
        "colab": {}
      },
      "source": [
        "trn_term_doc = scipy.sparse.load_npz(\"trn_term_doc.npz\")\n",
        "val_term_doc = scipy.sparse.load_npz(\"val_term_doc.npz\")"
      ],
      "execution_count": 0,
      "outputs": []
    },
    {
      "cell_type": "markdown",
      "metadata": {
        "id": "rHZNZOs0U96-",
        "colab_type": "text"
      },
      "source": [
        "### Naive Bayes on full dataset"
      ]
    },
    {
      "cell_type": "code",
      "metadata": {
        "id": "-PxlbcmfU96-",
        "colab_type": "code",
        "colab": {}
      },
      "source": [
        "x=trn_term_doc\n",
        "y=reviews_full.train.y\n",
        "\n",
        "val_y = reviews_full.valid.y.items"
      ],
      "execution_count": 0,
      "outputs": []
    },
    {
      "cell_type": "code",
      "metadata": {
        "id": "CtvHi0x6U96_",
        "colab_type": "code",
        "outputId": "d7c853bc-4bcb-40a8-efc5-24ec266f7866",
        "colab": {}
      },
      "source": [
        "x"
      ],
      "execution_count": 0,
      "outputs": [
        {
          "output_type": "execute_result",
          "data": {
            "text/plain": [
              "<25000x38457 sparse matrix of type '<class 'numpy.int64'>'\n",
              "\twith 3716501 stored elements in Compressed Sparse Row format>"
            ]
          },
          "metadata": {
            "tags": []
          },
          "execution_count": 337
        }
      ]
    },
    {
      "cell_type": "code",
      "metadata": {
        "id": "lheYeYxsU97A",
        "colab_type": "code",
        "colab": {}
      },
      "source": [
        "positive = y.c2i['pos']\n",
        "negative = y.c2i['neg']"
      ],
      "execution_count": 0,
      "outputs": []
    },
    {
      "cell_type": "code",
      "metadata": {
        "id": "S-4r-26dU97E",
        "colab_type": "code",
        "colab": {}
      },
      "source": [
        "p0 = np.squeeze(np.asarray(x[y.items==negative].sum(0)))\n",
        "p1 = np.squeeze(np.asarray(x[y.items==positive].sum(0)))"
      ],
      "execution_count": 0,
      "outputs": []
    },
    {
      "cell_type": "code",
      "metadata": {
        "id": "XM_Wl5f9U97F",
        "colab_type": "code",
        "outputId": "da11ea8b-5fb3-4586-fbc4-da50f1e64ec0",
        "colab": {}
      },
      "source": [
        "p1[:20]"
      ],
      "execution_count": 0,
      "outputs": [
        {
          "output_type": "execute_result",
          "data": {
            "text/plain": [
              "array([ 28399,      0,  12500,      0,      0, 342576,  20471,   1338,      7, 173118, 137954, 143763,  89571,  83406,\n",
              "        76828,  66715,  58511,  47892,  50178,  40448], dtype=int64)"
            ]
          },
          "metadata": {
            "tags": []
          },
          "execution_count": 340
        }
      ]
    },
    {
      "cell_type": "markdown",
      "metadata": {
        "id": "JObPepGHU97G",
        "colab_type": "text"
      },
      "source": [
        "### Data exploration: negative to positive ratios"
      ]
    },
    {
      "cell_type": "markdown",
      "metadata": {
        "id": "vXU-dc5qU97G",
        "colab_type": "text"
      },
      "source": [
        "I was curious about the ratio of times a given word appears in negative reviews to times it occurs in positive reviews.  Bigger ratios (> 1) mean the word is indicative of a negative review, and smaller ratios (< 1) mean it is indicative of a positive review."
      ]
    },
    {
      "cell_type": "code",
      "metadata": {
        "id": "Jc41T7mBU97H",
        "colab_type": "code",
        "colab": {}
      },
      "source": [
        "def neg_pos_given_word(word):\n",
        "    print(p0[v.stoi[word]]/p1[v.stoi[word]])"
      ],
      "execution_count": 0,
      "outputs": []
    },
    {
      "cell_type": "code",
      "metadata": {
        "id": "if1isgn4U97I",
        "colab_type": "code",
        "outputId": "92fd14e1-db30-4c19-d4cb-34ad217827c0",
        "colab": {}
      },
      "source": [
        "neg_pos_given_word('hated')"
      ],
      "execution_count": 0,
      "outputs": [
        {
          "output_type": "stream",
          "text": [
            "2.051546391752577\n"
          ],
          "name": "stdout"
        }
      ]
    },
    {
      "cell_type": "code",
      "metadata": {
        "id": "12-v9wCZU97K",
        "colab_type": "code",
        "outputId": "4ffbae02-da17-46e1-9d3a-a4e9f5b91750",
        "colab": {}
      },
      "source": [
        "neg_pos_given_word('liked')"
      ],
      "execution_count": 0,
      "outputs": [
        {
          "output_type": "stream",
          "text": [
            "0.6424702058504875\n"
          ],
          "name": "stdout"
        }
      ]
    },
    {
      "cell_type": "code",
      "metadata": {
        "id": "i2Sw_8TAU97L",
        "colab_type": "code",
        "outputId": "656d28a4-70a7-4ae3-a413-e1ceebbeec02",
        "colab": {}
      },
      "source": [
        "neg_pos_given_word('loved')"
      ],
      "execution_count": 0,
      "outputs": [
        {
          "output_type": "stream",
          "text": [
            "0.3139963167587477\n"
          ],
          "name": "stdout"
        }
      ]
    },
    {
      "cell_type": "code",
      "metadata": {
        "id": "gvEb8SupU97N",
        "colab_type": "code",
        "outputId": "3426c3dd-2e4f-4ada-bcdd-389ba15584ed",
        "colab": {}
      },
      "source": [
        "neg_pos_given_word('best')"
      ],
      "execution_count": 0,
      "outputs": [
        {
          "output_type": "stream",
          "text": [
            "0.48538961038961037\n"
          ],
          "name": "stdout"
        }
      ]
    },
    {
      "cell_type": "code",
      "metadata": {
        "id": "sT-QJ5XRU97O",
        "colab_type": "code",
        "outputId": "1394e7da-6c95-4ea2-9bcd-4e42823da3c7",
        "colab": {}
      },
      "source": [
        "neg_pos_given_word('worst')"
      ],
      "execution_count": 0,
      "outputs": [
        {
          "output_type": "stream",
          "text": [
            "9.837301587301587\n"
          ],
          "name": "stdout"
        }
      ]
    },
    {
      "cell_type": "code",
      "metadata": {
        "id": "thGTnVEoU97P",
        "colab_type": "code",
        "colab": {}
      },
      "source": [
        "pr1 = (p1+1) / ((y.items==positive).sum() + 1)\n",
        "pr0 = (p0+1) / ((y.items==negative).sum() + 1)"
      ],
      "execution_count": 0,
      "outputs": []
    },
    {
      "cell_type": "code",
      "metadata": {
        "id": "lWrMKbNUU97Q",
        "colab_type": "code",
        "colab": {}
      },
      "source": [
        "r = np.log(pr1/pr0)"
      ],
      "execution_count": 0,
      "outputs": []
    },
    {
      "cell_type": "code",
      "metadata": {
        "id": "0gHIjuUsU97R",
        "colab_type": "code",
        "outputId": "3770609a-4f92-48aa-a16a-5e6c59da0460",
        "colab": {}
      },
      "source": [
        "r[v.stoi['hated']]"
      ],
      "execution_count": 0,
      "outputs": [
        {
          "output_type": "execute_result",
          "data": {
            "text/plain": [
              "-0.7133498878774648"
            ]
          },
          "metadata": {
            "tags": []
          },
          "execution_count": 349
        }
      ]
    },
    {
      "cell_type": "code",
      "metadata": {
        "id": "E4Q4EE5_U97S",
        "colab_type": "code",
        "outputId": "a85bb46e-2090-41cf-b5a7-d60b15832d0c",
        "colab": {}
      },
      "source": [
        "r[v.stoi['loved']]"
      ],
      "execution_count": 0,
      "outputs": [
        {
          "output_type": "execute_result",
          "data": {
            "text/plain": [
              "1.1563661500586044"
            ]
          },
          "metadata": {
            "tags": []
          },
          "execution_count": 350
        }
      ]
    },
    {
      "cell_type": "code",
      "metadata": {
        "id": "7pK42kyCU97T",
        "colab_type": "code",
        "outputId": "9a5d080c-ef9d-465f-f34c-ca08580537be",
        "colab": {}
      },
      "source": [
        "r[v.stoi['worst']]"
      ],
      "execution_count": 0,
      "outputs": [
        {
          "output_type": "execute_result",
          "data": {
            "text/plain": [
              "-2.2826243504315076"
            ]
          },
          "metadata": {
            "tags": []
          },
          "execution_count": 351
        }
      ]
    },
    {
      "cell_type": "code",
      "metadata": {
        "id": "byve2i3rU97V",
        "colab_type": "code",
        "outputId": "5dd5119e-f667-4a97-c7f6-c07d8bfd87a6",
        "colab": {}
      },
      "source": [
        "r[v.stoi['best']]"
      ],
      "execution_count": 0,
      "outputs": [
        {
          "output_type": "execute_result",
          "data": {
            "text/plain": [
              "0.7225576052173609"
            ]
          },
          "metadata": {
            "tags": []
          },
          "execution_count": 352
        }
      ]
    },
    {
      "cell_type": "markdown",
      "metadata": {
        "id": "H55IOF0NU97W",
        "colab_type": "text"
      },
      "source": [
        "### Back to Naive Bayes"
      ]
    },
    {
      "cell_type": "code",
      "metadata": {
        "id": "VHOzoLEAU97W",
        "colab_type": "code",
        "colab": {}
      },
      "source": [
        "negative = y.c2i['neg']\n",
        "p0 = np.squeeze(np.asarray(x[y.items==negative].sum(0)))"
      ],
      "execution_count": 0,
      "outputs": []
    },
    {
      "cell_type": "markdown",
      "metadata": {
        "id": "edabh7JNU97Z",
        "colab_type": "text"
      },
      "source": [
        "Since we have equal numbers of positive and negative reviews in this data set, b is 0."
      ]
    },
    {
      "cell_type": "code",
      "metadata": {
        "id": "VtjJlhW7U97Z",
        "colab_type": "code",
        "colab": {}
      },
      "source": [
        "pr1 = (p1+1) / ((y.items==positive).sum() + 1)\n",
        "pr0 = (p0+1) / ((y.items==negative).sum() + 1)"
      ],
      "execution_count": 0,
      "outputs": []
    },
    {
      "cell_type": "code",
      "metadata": {
        "id": "T4OgUSfgU97a",
        "colab_type": "code",
        "outputId": "1b2af4a5-a636-4b82-962c-9fc845f5674e",
        "colab": {}
      },
      "source": [
        "b = np.log((y.items==positive).mean() / (y.items==negative).mean()); b"
      ],
      "execution_count": 0,
      "outputs": [
        {
          "output_type": "execute_result",
          "data": {
            "text/plain": [
              "0.0"
            ]
          },
          "metadata": {
            "tags": []
          },
          "execution_count": 355
        }
      ]
    },
    {
      "cell_type": "code",
      "metadata": {
        "id": "kdQXsheUU97b",
        "colab_type": "code",
        "colab": {}
      },
      "source": [
        "preds = (val_term_doc @ r + b) > 0"
      ],
      "execution_count": 0,
      "outputs": []
    },
    {
      "cell_type": "markdown",
      "metadata": {
        "id": "kINxTIGwU97c",
        "colab_type": "text"
      },
      "source": [
        "Our accuracy is 80% for the full data set:"
      ]
    },
    {
      "cell_type": "code",
      "metadata": {
        "id": "Ln3ewEIBU97d",
        "colab_type": "code",
        "outputId": "a2a5c671-5421-4536-d2f0-fbcf191e6eb3",
        "colab": {}
      },
      "source": [
        "(preds == val_y).mean()"
      ],
      "execution_count": 0,
      "outputs": [
        {
          "output_type": "execute_result",
          "data": {
            "text/plain": [
              "0.80864"
            ]
          },
          "metadata": {
            "tags": []
          },
          "execution_count": 358
        }
      ]
    },
    {
      "cell_type": "markdown",
      "metadata": {
        "id": "GYcZrJ8kU97g",
        "colab_type": "text"
      },
      "source": [
        "### Binarized Naive Bayes"
      ]
    },
    {
      "cell_type": "markdown",
      "metadata": {
        "id": "A-1jc-NfU97g",
        "colab_type": "text"
      },
      "source": [
        "Maybe it only matters whether a word is in the review or not (not the frequency of the word):"
      ]
    },
    {
      "cell_type": "code",
      "metadata": {
        "id": "INulAybBU97h",
        "colab_type": "code",
        "colab": {}
      },
      "source": [
        "x=trn_term_doc.sign()\n",
        "y=reviews_full.train.y"
      ],
      "execution_count": 0,
      "outputs": []
    },
    {
      "cell_type": "code",
      "metadata": {
        "id": "2VFhAs1WU97h",
        "colab_type": "code",
        "outputId": "68210169-0e8a-41d5-da6f-0cfb58608ec1",
        "colab": {}
      },
      "source": [
        "x.todense()[:10,:10]"
      ],
      "execution_count": 0,
      "outputs": [
        {
          "output_type": "execute_result",
          "data": {
            "text/plain": [
              "matrix([[1, 0, 1, 0, ..., 0, 0, 0, 1],\n",
              "        [0, 0, 1, 0, ..., 0, 0, 0, 1],\n",
              "        [1, 0, 1, 0, ..., 1, 0, 0, 1],\n",
              "        [1, 0, 1, 0, ..., 0, 0, 0, 1],\n",
              "        ...,\n",
              "        [0, 0, 1, 0, ..., 0, 0, 0, 1],\n",
              "        [1, 0, 1, 0, ..., 1, 0, 0, 1],\n",
              "        [1, 0, 1, 0, ..., 1, 0, 0, 1],\n",
              "        [0, 0, 1, 0, ..., 0, 0, 0, 1]])"
            ]
          },
          "metadata": {
            "tags": []
          },
          "execution_count": 366
        }
      ]
    },
    {
      "cell_type": "code",
      "metadata": {
        "id": "tIhErDP-U97q",
        "colab_type": "code",
        "colab": {}
      },
      "source": [
        "negative = y.c2i['neg']\n",
        "positive = y.c2i['pos']"
      ],
      "execution_count": 0,
      "outputs": []
    },
    {
      "cell_type": "code",
      "metadata": {
        "id": "eTZXoHE7U97r",
        "colab_type": "code",
        "colab": {}
      },
      "source": [
        "p1 = np.squeeze(np.asarray(x[y.items==positive].sum(0)))\n",
        "p0 = np.squeeze(np.asarray(x[y.items==negative].sum(0)))"
      ],
      "execution_count": 0,
      "outputs": []
    },
    {
      "cell_type": "code",
      "metadata": {
        "id": "8N2ZnEdwU97u",
        "colab_type": "code",
        "colab": {}
      },
      "source": [
        "pr1 = (p1+1) / ((y.items==positive).sum() + 1)\n",
        "pr0 = (p0+1) / ((y.items==negative).sum() + 1)"
      ],
      "execution_count": 0,
      "outputs": []
    },
    {
      "cell_type": "code",
      "metadata": {
        "id": "5xWGGN4ZU97v",
        "colab_type": "code",
        "colab": {}
      },
      "source": [
        "r = np.log(pr1/pr0)\n",
        "b = np.log((y.items==positive).mean() / (y.items==negative).mean())\n",
        "\n",
        "preds = (val_term_doc.sign() @ r + b) > 0"
      ],
      "execution_count": 0,
      "outputs": []
    },
    {
      "cell_type": "code",
      "metadata": {
        "id": "4vrnLfwzU97w",
        "colab_type": "code",
        "outputId": "b8bfcdb9-a4a2-440a-f49f-e431540e9696",
        "colab": {}
      },
      "source": [
        "(preds==val_y).mean()"
      ],
      "execution_count": 0,
      "outputs": [
        {
          "output_type": "execute_result",
          "data": {
            "text/plain": [
              "0.82908"
            ]
          },
          "metadata": {
            "tags": []
          },
          "execution_count": 365
        }
      ]
    },
    {
      "cell_type": "markdown",
      "metadata": {
        "id": "7gqnAHjNU974",
        "colab_type": "text"
      },
      "source": [
        "## Logistic regression"
      ]
    },
    {
      "cell_type": "markdown",
      "metadata": {
        "id": "RSfOdyg4U974",
        "colab_type": "text"
      },
      "source": [
        "Here is how we can fit logistic regression where the features are the unigrams."
      ]
    },
    {
      "cell_type": "code",
      "metadata": {
        "id": "lF_43iwKU974",
        "colab_type": "code",
        "colab": {}
      },
      "source": [
        "from sklearn.linear_model import LogisticRegression"
      ],
      "execution_count": 0,
      "outputs": []
    },
    {
      "cell_type": "code",
      "metadata": {
        "id": "MsLiI7GWU977",
        "colab_type": "code",
        "outputId": "576bfded-2d35-4ced-d9fc-e9fc1879ff20",
        "colab": {}
      },
      "source": [
        "m = LogisticRegression(C=0.1, dual=True)\n",
        "m.fit(x, y.items.astype(int))\n",
        "preds = m.predict(val_term_doc)\n",
        "(preds==val_y).mean()"
      ],
      "execution_count": 0,
      "outputs": [
        {
          "output_type": "execute_result",
          "data": {
            "text/plain": [
              "0.8828"
            ]
          },
          "metadata": {
            "tags": []
          },
          "execution_count": 148
        }
      ]
    },
    {
      "cell_type": "markdown",
      "metadata": {
        "id": "Ux7AXgNPU979",
        "colab_type": "text"
      },
      "source": [
        "And the binarized version:"
      ]
    },
    {
      "cell_type": "code",
      "metadata": {
        "id": "wBxr9Ay1U979",
        "colab_type": "code",
        "outputId": "e83e886b-5ffb-4653-dbca-e9433c72439f",
        "colab": {}
      },
      "source": [
        "m = LogisticRegression(C=0.1, dual=True)\n",
        "m.fit(trn_term_doc.sign(), y.items.astype(int))\n",
        "preds = m.predict(val_term_doc.sign())\n",
        "(preds==val_y).mean()"
      ],
      "execution_count": 0,
      "outputs": [
        {
          "output_type": "execute_result",
          "data": {
            "text/plain": [
              "0.88528"
            ]
          },
          "metadata": {
            "tags": []
          },
          "execution_count": 149
        }
      ]
    },
    {
      "cell_type": "markdown",
      "metadata": {
        "id": "-Jc0ufj0U97-",
        "colab_type": "text"
      },
      "source": [
        "# Trigram with NB features"
      ]
    },
    {
      "cell_type": "markdown",
      "metadata": {
        "id": "ZBzYZ4LsU97-",
        "colab_type": "text"
      },
      "source": [
        "Our next model is a version of logistic regression with Naive Bayes features described [here](https://www.aclweb.org/anthology/P12-2018). For every document we compute binarized features as described above, but this time we use bigrams and trigrams too. Each feature is a log-count ratio. A logistic regression model is then trained to predict sentiment."
      ]
    },
    {
      "cell_type": "markdown",
      "metadata": {
        "id": "SkHW81fwU97_",
        "colab_type": "text"
      },
      "source": [
        "### ngrams"
      ]
    },
    {
      "cell_type": "markdown",
      "metadata": {
        "id": "E_GXzKJhU97_",
        "colab_type": "text"
      },
      "source": [
        "An n-gram is a contiguous sequence of n items (where the items can be characters, syllables, or words).  A 1-gram is a unigram, a 2-gram is a bigram, and a 3-gram is a trigram.\n",
        "\n",
        "Here, we are referring to sequences of words. So examples of bigrams include \"the dog\", \"said that\", and \"can't you\"."
      ]
    },
    {
      "cell_type": "code",
      "metadata": {
        "id": "SLoatIgWU98A",
        "colab_type": "code",
        "colab": {}
      },
      "source": [
        "path = untar_data(URLs.IMDB_SAMPLE)"
      ],
      "execution_count": 0,
      "outputs": []
    },
    {
      "cell_type": "code",
      "metadata": {
        "id": "PvYWLMP_U98B",
        "colab_type": "code",
        "colab": {}
      },
      "source": [
        "movie_reviews = (TextList.from_csv(path, 'texts.csv', cols='text')\n",
        "                .split_from_df(col=2)\n",
        "                .label_from_df(cols=0))"
      ],
      "execution_count": 0,
      "outputs": []
    },
    {
      "cell_type": "code",
      "metadata": {
        "id": "dPp-3tWHU98C",
        "colab_type": "code",
        "colab": {}
      },
      "source": [
        "v = movie_reviews.vocab.itos"
      ],
      "execution_count": 0,
      "outputs": []
    },
    {
      "cell_type": "code",
      "metadata": {
        "id": "MJTJHSpeU98C",
        "colab_type": "code",
        "colab": {}
      },
      "source": [
        "vocab_len = len(v)"
      ],
      "execution_count": 0,
      "outputs": []
    },
    {
      "cell_type": "markdown",
      "metadata": {
        "id": "nGKsI68wU98D",
        "colab_type": "text"
      },
      "source": [
        "## Our data"
      ]
    },
    {
      "cell_type": "markdown",
      "metadata": {
        "id": "n9F1rEEhU98D",
        "colab_type": "text"
      },
      "source": [
        "### Create train matrix"
      ]
    },
    {
      "cell_type": "code",
      "metadata": {
        "id": "QQPoSiEMU98D",
        "colab_type": "code",
        "colab": {}
      },
      "source": [
        "min_n=1\n",
        "max_n=3\n",
        "\n",
        "j_indices = []\n",
        "indptr = []\n",
        "values = []\n",
        "indptr.append(0)\n",
        "num_tokens = vocab_len\n",
        "\n",
        "itongram = dict()\n",
        "ngramtoi = dict()"
      ],
      "execution_count": 0,
      "outputs": []
    },
    {
      "cell_type": "markdown",
      "metadata": {
        "id": "3YRzPqD0U98E",
        "colab_type": "text"
      },
      "source": [
        "We will iterate through the sequences of words to create our n-grams:"
      ]
    },
    {
      "cell_type": "code",
      "metadata": {
        "id": "lssjs_zWU98E",
        "colab_type": "code",
        "colab": {}
      },
      "source": [
        "for i, doc in enumerate(movie_reviews.train.x):\n",
        "    feature_counter = Counter(doc.data)\n",
        "    j_indices.extend(feature_counter.keys())\n",
        "    values.extend(feature_counter.values())\n",
        "    this_doc_ngrams = list()\n",
        "\n",
        "    m = 0\n",
        "    for n in range(min_n, max_n + 1):\n",
        "        for k in range(vocab_len - n + 1):\n",
        "            ngram = doc.data[k: k + n]\n",
        "            if str(ngram) not in ngramtoi:\n",
        "                if len(ngram)==1:\n",
        "                    num = ngram[0]\n",
        "                    ngramtoi[str(ngram)] = num\n",
        "                    itongram[num] = ngram\n",
        "                else:\n",
        "                    ngramtoi[str(ngram)] = num_tokens\n",
        "                    itongram[num_tokens] = ngram\n",
        "                    num_tokens += 1\n",
        "            this_doc_ngrams.append(ngramtoi[str(ngram)])\n",
        "            m += 1\n",
        "\n",
        "    ngram_counter = Counter(this_doc_ngrams)\n",
        "    j_indices.extend(ngram_counter.keys())\n",
        "    values.extend(ngram_counter.values())\n",
        "    indptr.append(len(j_indices))"
      ],
      "execution_count": 0,
      "outputs": []
    },
    {
      "cell_type": "markdown",
      "metadata": {
        "id": "cbsbeLwPU98F",
        "colab_type": "text"
      },
      "source": [
        "Using dictionaries to convert between indices and strings (in this case, our n-grams) is a common & useful approach!  Here, we have `itongram` (index to n-gram) and `ngramtoi` (n-gram to index)."
      ]
    },
    {
      "cell_type": "code",
      "metadata": {
        "id": "uDDn4qSYU98F",
        "colab_type": "code",
        "colab": {}
      },
      "source": [
        "train_ngram_doc_matrix = scipy.sparse.csr_matrix((values, j_indices, indptr),\n",
        "                                   shape=(len(indptr) - 1, len(ngramtoi)),\n",
        "                                   dtype=int)"
      ],
      "execution_count": 0,
      "outputs": []
    },
    {
      "cell_type": "code",
      "metadata": {
        "id": "DFRQqhyYU98I",
        "colab_type": "code",
        "outputId": "eb8be1f7-0e04-4b45-b9b2-02b1334ff11f",
        "colab": {}
      },
      "source": [
        "train_ngram_doc_matrix"
      ],
      "execution_count": 0,
      "outputs": [
        {
          "output_type": "execute_result",
          "data": {
            "text/plain": [
              "<800x260402 sparse matrix of type '<class 'numpy.int64'>'\n",
              "\twith 678912 stored elements in Compressed Sparse Row format>"
            ]
          },
          "metadata": {
            "tags": []
          },
          "execution_count": 374
        }
      ]
    },
    {
      "cell_type": "markdown",
      "metadata": {
        "id": "2OUy9nCpU98J",
        "colab_type": "text"
      },
      "source": [
        "### Looking at our data"
      ]
    },
    {
      "cell_type": "code",
      "metadata": {
        "id": "A-ee--VyU98J",
        "colab_type": "code",
        "outputId": "6c7d3379-e414-41f6-993d-224c2c5d58bb",
        "colab": {}
      },
      "source": [
        "len(ngramtoi), len(itongram)"
      ],
      "execution_count": 0,
      "outputs": [
        {
          "output_type": "execute_result",
          "data": {
            "text/plain": [
              "(260428, 260428)"
            ]
          },
          "metadata": {
            "tags": []
          },
          "execution_count": 14
        }
      ]
    },
    {
      "cell_type": "code",
      "metadata": {
        "id": "f4Op5rN0U98K",
        "colab_type": "code",
        "outputId": "7433660f-0397-4500-8f68-68e9e90426e5",
        "colab": {}
      },
      "source": [
        "itongram[20005]"
      ],
      "execution_count": 0,
      "outputs": [
        {
          "output_type": "execute_result",
          "data": {
            "text/plain": [
              "array([637,   0,  59])"
            ]
          },
          "metadata": {
            "tags": []
          },
          "execution_count": 82
        }
      ]
    },
    {
      "cell_type": "code",
      "metadata": {
        "id": "KgQZIfsxU98L",
        "colab_type": "code",
        "outputId": "64690523-222a-446b-faae-a10f33c58474",
        "colab": {}
      },
      "source": [
        "ngramtoi[str(np.array([637,   0,  59]))]"
      ],
      "execution_count": 0,
      "outputs": [
        {
          "output_type": "execute_result",
          "data": {
            "text/plain": [
              "20005"
            ]
          },
          "metadata": {
            "tags": []
          },
          "execution_count": 83
        }
      ]
    },
    {
      "cell_type": "code",
      "metadata": {
        "id": "vA2CE3fkU98M",
        "colab_type": "code",
        "outputId": "208ea754-88a5-422f-9e73-d8da9cfcdd92",
        "colab": {}
      },
      "source": [
        "itongram[100000]"
      ],
      "execution_count": 0,
      "outputs": [
        {
          "output_type": "execute_result",
          "data": {
            "text/plain": [
              "array([ 189, 1301])"
            ]
          },
          "metadata": {
            "tags": []
          },
          "execution_count": 88
        }
      ]
    },
    {
      "cell_type": "code",
      "metadata": {
        "id": "Pe0kbskTU98N",
        "colab_type": "code",
        "outputId": "931f7283-93fe-43b3-b585-ca287ddef6cb",
        "colab": {}
      },
      "source": [
        "v[189], v[1301]"
      ],
      "execution_count": 0,
      "outputs": [
        {
          "output_type": "execute_result",
          "data": {
            "text/plain": [
              "('nothing', 'changes')"
            ]
          },
          "metadata": {
            "tags": []
          },
          "execution_count": 89
        }
      ]
    },
    {
      "cell_type": "code",
      "metadata": {
        "id": "PtdkYylvU98O",
        "colab_type": "code",
        "outputId": "2ca4a77f-6754-41d7-8b23-78b582ed93de",
        "colab": {}
      },
      "source": [
        "itongram[100010]"
      ],
      "execution_count": 0,
      "outputs": [
        {
          "output_type": "execute_result",
          "data": {
            "text/plain": [
              "array([63, 48])"
            ]
          },
          "metadata": {
            "tags": []
          },
          "execution_count": 90
        }
      ]
    },
    {
      "cell_type": "code",
      "metadata": {
        "id": "h6Zipr5tU98R",
        "colab_type": "code",
        "outputId": "35c5e422-13f0-446e-be53-5e395b838c88",
        "colab": {}
      },
      "source": [
        "v[63], v[48]"
      ],
      "execution_count": 0,
      "outputs": [
        {
          "output_type": "execute_result",
          "data": {
            "text/plain": [
              "('has', 'an')"
            ]
          },
          "metadata": {
            "tags": []
          },
          "execution_count": 91
        }
      ]
    },
    {
      "cell_type": "code",
      "metadata": {
        "id": "1jzfffDhU98U",
        "colab_type": "code",
        "outputId": "1075530f-e99a-4013-e608-95c1f71c2574",
        "colab": {}
      },
      "source": [
        "itongram[6116]"
      ],
      "execution_count": 0,
      "outputs": [
        {
          "output_type": "execute_result",
          "data": {
            "text/plain": [
              "array([94, 36, 84])"
            ]
          },
          "metadata": {
            "tags": []
          },
          "execution_count": 101
        }
      ]
    },
    {
      "cell_type": "code",
      "metadata": {
        "id": "uopv85bKU98V",
        "colab_type": "code",
        "outputId": "4bb7fc2d-5b1f-474f-cb46-64e7b6212ff5",
        "colab": {}
      },
      "source": [
        "v[94], v[36], v[84]"
      ],
      "execution_count": 0,
      "outputs": [
        {
          "output_type": "execute_result",
          "data": {
            "text/plain": [
              "('does', \"n't\", 'even')"
            ]
          },
          "metadata": {
            "tags": []
          },
          "execution_count": 100
        }
      ]
    },
    {
      "cell_type": "code",
      "metadata": {
        "id": "9yDU_2kYU98W",
        "colab_type": "code",
        "outputId": "a665c441-3711-4649-edf8-e766ecd2be02",
        "colab": {}
      },
      "source": [
        "itongram[6119]"
      ],
      "execution_count": 0,
      "outputs": [
        {
          "output_type": "execute_result",
          "data": {
            "text/plain": [
              "array([190,  62, 935])"
            ]
          },
          "metadata": {
            "tags": []
          },
          "execution_count": 103
        }
      ]
    },
    {
      "cell_type": "code",
      "metadata": {
        "id": "KaDmRCcRU98X",
        "colab_type": "code",
        "outputId": "116e1196-1986-47fa-a4f7-2ebf25146dbb",
        "colab": {}
      },
      "source": [
        "v[190], v[62], v[935]"
      ],
      "execution_count": 0,
      "outputs": [
        {
          "output_type": "execute_result",
          "data": {
            "text/plain": [
              "('look', 'her', 'usual')"
            ]
          },
          "metadata": {
            "tags": []
          },
          "execution_count": 102
        }
      ]
    },
    {
      "cell_type": "code",
      "metadata": {
        "id": "gsWCFk3SU98Y",
        "colab_type": "code",
        "outputId": "25e0e546-ae23-45ba-8267-9cd178067195",
        "colab": {}
      },
      "source": [
        "itongram[80000]"
      ],
      "execution_count": 0,
      "outputs": [
        {
          "output_type": "execute_result",
          "data": {
            "text/plain": [
              "array([ 805,   11, 1202])"
            ]
          },
          "metadata": {
            "tags": []
          },
          "execution_count": 17
        }
      ]
    },
    {
      "cell_type": "code",
      "metadata": {
        "id": "aio-K8EUU98Z",
        "colab_type": "code",
        "outputId": "0b77b6b1-6bda-4bec-d206-111337c6fce0",
        "colab": {}
      },
      "source": [
        "v[805], v[11], v[1202]"
      ],
      "execution_count": 0,
      "outputs": [
        {
          "output_type": "execute_result",
          "data": {
            "text/plain": [
              "('business', 'and', 'political')"
            ]
          },
          "metadata": {
            "tags": []
          },
          "execution_count": 18
        }
      ]
    },
    {
      "cell_type": "markdown",
      "metadata": {
        "id": "6r-ArEypU98e",
        "colab_type": "text"
      },
      "source": [
        "### Create valid matrix"
      ]
    },
    {
      "cell_type": "code",
      "metadata": {
        "id": "wnGdIEO3U98e",
        "colab_type": "code",
        "colab": {}
      },
      "source": [
        "j_indices = []\n",
        "indptr = []\n",
        "values = []\n",
        "indptr.append(0)\n",
        "\n",
        "for i, doc in enumerate(movie_reviews.valid.x):\n",
        "    feature_counter = Counter(doc.data)\n",
        "    j_indices.extend(feature_counter.keys())\n",
        "    values.extend(feature_counter.values())\n",
        "    this_doc_ngrams = list()\n",
        "\n",
        "    m = 0\n",
        "    for n in range(min_n, max_n + 1):\n",
        "        for k in range(vocab_len - n + 1):\n",
        "            ngram = doc.data[k: k + n]\n",
        "            if str(ngram) in ngramtoi:\n",
        "                this_doc_ngrams.append(ngramtoi[str(ngram)])\n",
        "            m += 1\n",
        "\n",
        "    ngram_counter = Counter(this_doc_ngrams)\n",
        "    j_indices.extend(ngram_counter.keys())\n",
        "    values.extend(ngram_counter.values())\n",
        "    indptr.append(len(j_indices))"
      ],
      "execution_count": 0,
      "outputs": []
    },
    {
      "cell_type": "code",
      "metadata": {
        "id": "Pnl1uxR1U98g",
        "colab_type": "code",
        "colab": {}
      },
      "source": [
        "valid_ngram_doc_matrix = scipy.sparse.csr_matrix((values, j_indices, indptr),\n",
        "                                   shape=(len(indptr) - 1, len(ngramtoi)),\n",
        "                                   dtype=int)"
      ],
      "execution_count": 0,
      "outputs": []
    },
    {
      "cell_type": "code",
      "metadata": {
        "id": "4AGb4Uv7U98h",
        "colab_type": "code",
        "outputId": "082b0792-8406-432c-c611-ec134ebc6ced",
        "colab": {}
      },
      "source": [
        "valid_ngram_doc_matrix"
      ],
      "execution_count": 0,
      "outputs": [
        {
          "output_type": "execute_result",
          "data": {
            "text/plain": [
              "<200x260402 sparse matrix of type '<class 'numpy.int64'>'\n",
              "\twith 121597 stored elements in Compressed Sparse Row format>"
            ]
          },
          "metadata": {
            "tags": []
          },
          "execution_count": 377
        }
      ]
    },
    {
      "cell_type": "code",
      "metadata": {
        "id": "s6L51_QiU98i",
        "colab_type": "code",
        "outputId": "71b9c9f6-2c3e-44ab-977a-4d651bff488d",
        "colab": {}
      },
      "source": [
        "train_ngram_doc_matrix"
      ],
      "execution_count": 0,
      "outputs": [
        {
          "output_type": "execute_result",
          "data": {
            "text/plain": [
              "<800x260402 sparse matrix of type '<class 'numpy.int64'>'\n",
              "\twith 678912 stored elements in Compressed Sparse Row format>"
            ]
          },
          "metadata": {
            "tags": []
          },
          "execution_count": 378
        }
      ]
    },
    {
      "cell_type": "markdown",
      "metadata": {
        "id": "95QoyHrhU98j",
        "colab_type": "text"
      },
      "source": [
        "### Save data"
      ]
    },
    {
      "cell_type": "code",
      "metadata": {
        "id": "pkPhb1kvU98j",
        "colab_type": "code",
        "colab": {}
      },
      "source": [
        "scipy.sparse.save_npz(\"train_ngram_matrix.npz\", train_ngram_doc_matrix)"
      ],
      "execution_count": 0,
      "outputs": []
    },
    {
      "cell_type": "code",
      "metadata": {
        "id": "zIqMkRdPU98k",
        "colab_type": "code",
        "colab": {}
      },
      "source": [
        "scipy.sparse.save_npz(\"valid_ngram_matrix.npz\", valid_ngram_doc_matrix)"
      ],
      "execution_count": 0,
      "outputs": []
    },
    {
      "cell_type": "code",
      "metadata": {
        "id": "a4MP9OB6U98k",
        "colab_type": "code",
        "colab": {}
      },
      "source": [
        "with open('itongram.pickle', 'wb') as handle:\n",
        "    pickle.dump(itongram, handle, protocol=pickle.HIGHEST_PROTOCOL)\n",
        "    \n",
        "with open('ngramtoi.pickle', 'wb') as handle:\n",
        "    pickle.dump(itongram, handle, protocol=pickle.HIGHEST_PROTOCOL)"
      ],
      "execution_count": 0,
      "outputs": []
    },
    {
      "cell_type": "markdown",
      "metadata": {
        "heading_collapsed": true,
        "id": "EEpR0huaU98l",
        "colab_type": "text"
      },
      "source": [
        "### Load data"
      ]
    },
    {
      "cell_type": "code",
      "metadata": {
        "hidden": true,
        "id": "gOgyaHbMU98l",
        "colab_type": "code",
        "colab": {}
      },
      "source": [
        "train_ngram_doc_matrix = scipy.sparse.load_npz(\"train_ngram_matrix.npz\")\n",
        "valid_ngram_doc_matrix = scipy.sparse.load_npz(\"valid_ngram_matrix.npz\")"
      ],
      "execution_count": 0,
      "outputs": []
    },
    {
      "cell_type": "code",
      "metadata": {
        "hidden": true,
        "id": "ETRrgrX0U98m",
        "colab_type": "code",
        "colab": {}
      },
      "source": [
        "with open('itongram.pickle', 'rb') as handle:\n",
        "    b = pickle.load(handle)\n",
        "    \n",
        "with open('ngramtoi.pickle', 'rb') as handle:\n",
        "    b = pickle.load(handle)"
      ],
      "execution_count": 0,
      "outputs": []
    },
    {
      "cell_type": "markdown",
      "metadata": {
        "id": "3pOr6fHsU98m",
        "colab_type": "text"
      },
      "source": [
        "## Naive Bayes"
      ]
    },
    {
      "cell_type": "code",
      "metadata": {
        "id": "FbKpiLSUU98n",
        "colab_type": "code",
        "colab": {}
      },
      "source": [
        "x=train_ngram_doc_matrix\n",
        "y=movie_reviews.train.y"
      ],
      "execution_count": 0,
      "outputs": []
    },
    {
      "cell_type": "code",
      "metadata": {
        "id": "67Otzky_U98n",
        "colab_type": "code",
        "colab": {}
      },
      "source": [
        "positive = y.c2i['positive']\n",
        "negative = y.c2i['negative']"
      ],
      "execution_count": 0,
      "outputs": []
    },
    {
      "cell_type": "code",
      "metadata": {
        "id": "lU3HfpbFU98o",
        "colab_type": "code",
        "outputId": "fd1cd486-88a4-448c-fd8d-8c82310c7241",
        "colab": {}
      },
      "source": [
        "x"
      ],
      "execution_count": 0,
      "outputs": [
        {
          "output_type": "execute_result",
          "data": {
            "text/plain": [
              "<800x260402 sparse matrix of type '<class 'numpy.int64'>'\n",
              "\twith 678912 stored elements in Compressed Sparse Row format>"
            ]
          },
          "metadata": {
            "tags": []
          },
          "execution_count": 381
        }
      ]
    },
    {
      "cell_type": "code",
      "metadata": {
        "id": "fDhudfmjU98p",
        "colab_type": "code",
        "colab": {}
      },
      "source": [
        "k=260428"
      ],
      "execution_count": 0,
      "outputs": []
    },
    {
      "cell_type": "code",
      "metadata": {
        "id": "4cv6dPD5U98p",
        "colab_type": "code",
        "colab": {}
      },
      "source": [
        "pos = (y.items == positive)[:k]\n",
        "neg = (y.items == negative)[:k]"
      ],
      "execution_count": 0,
      "outputs": []
    },
    {
      "cell_type": "code",
      "metadata": {
        "id": "O7xJirqtU98q",
        "colab_type": "code",
        "colab": {}
      },
      "source": [
        "xx = x[:k]"
      ],
      "execution_count": 0,
      "outputs": []
    },
    {
      "cell_type": "code",
      "metadata": {
        "id": "7P5WTTpOU98q",
        "colab_type": "code",
        "colab": {}
      },
      "source": [
        "valid_labels = [o == positive for o in movie_reviews.valid.y.items]"
      ],
      "execution_count": 0,
      "outputs": []
    },
    {
      "cell_type": "code",
      "metadata": {
        "id": "bsBAmTDMU98s",
        "colab_type": "code",
        "colab": {}
      },
      "source": [
        "p0 = np.squeeze(np.array(xx[neg].sum(0)))\n",
        "p1 = np.squeeze(np.array(xx[pos].sum(0)))"
      ],
      "execution_count": 0,
      "outputs": []
    },
    {
      "cell_type": "code",
      "metadata": {
        "id": "WsFLPi9MU98t",
        "colab_type": "code",
        "colab": {}
      },
      "source": [
        "pr1 = (p1+1) / ((y.items==positive).sum() + 1)\n",
        "pr0 = (p0+1) / ((y.items==negative).sum() + 1)"
      ],
      "execution_count": 0,
      "outputs": []
    },
    {
      "cell_type": "code",
      "metadata": {
        "id": "h_3T6gRcU98u",
        "colab_type": "code",
        "colab": {}
      },
      "source": [
        "r = np.log(pr1/pr0)"
      ],
      "execution_count": 0,
      "outputs": []
    },
    {
      "cell_type": "code",
      "metadata": {
        "id": "6T6hFzGCU98u",
        "colab_type": "code",
        "colab": {}
      },
      "source": [
        "b = np.log((y.items==positive).mean() / (y.items==negative).mean())"
      ],
      "execution_count": 0,
      "outputs": []
    },
    {
      "cell_type": "code",
      "metadata": {
        "id": "9doLQp9gU98v",
        "colab_type": "code",
        "outputId": "143332e4-90c1-413f-d0d4-c389466eae78",
        "colab": {}
      },
      "source": [
        "b"
      ],
      "execution_count": 0,
      "outputs": [
        {
          "output_type": "execute_result",
          "data": {
            "text/plain": [
              "-0.08505123261815539"
            ]
          },
          "metadata": {
            "tags": []
          },
          "execution_count": 390
        }
      ]
    },
    {
      "cell_type": "code",
      "metadata": {
        "id": "UpAq3yDuU98w",
        "colab_type": "code",
        "outputId": "46d305cf-7503-48c0-bfc2-e6550309d716",
        "colab": {}
      },
      "source": [
        "(y.items==positive).mean(), (y.items==negative).mean()"
      ],
      "execution_count": 0,
      "outputs": [
        {
          "output_type": "execute_result",
          "data": {
            "text/plain": [
              "(0.47875, 0.52125)"
            ]
          },
          "metadata": {
            "tags": []
          },
          "execution_count": 391
        }
      ]
    },
    {
      "cell_type": "code",
      "metadata": {
        "id": "1B-a8BytU98x",
        "colab_type": "code",
        "colab": {}
      },
      "source": [
        "pre_preds = valid_ngram_doc_matrix @ r.T + b"
      ],
      "execution_count": 0,
      "outputs": []
    },
    {
      "cell_type": "code",
      "metadata": {
        "id": "zSGhxe7NU98y",
        "colab_type": "code",
        "outputId": "24ba079e-890b-4583-ec93-0613eed396ce",
        "colab": {}
      },
      "source": [
        "pre_preds"
      ],
      "execution_count": 0,
      "outputs": [
        {
          "output_type": "execute_result",
          "data": {
            "text/plain": [
              "array([ 110.972709,   39.540612,    1.138566,   14.709707, ...,   81.056242,   -5.947489, -152.217182,  120.186321])"
            ]
          },
          "metadata": {
            "tags": []
          },
          "execution_count": 393
        }
      ]
    },
    {
      "cell_type": "code",
      "metadata": {
        "id": "Ww1OWn2ZU98y",
        "colab_type": "code",
        "colab": {}
      },
      "source": [
        "preds = pre_preds.T>0"
      ],
      "execution_count": 0,
      "outputs": []
    },
    {
      "cell_type": "code",
      "metadata": {
        "id": "4PUQgl5hU98z",
        "colab_type": "code",
        "outputId": "fe006b28-80ba-48fb-e10d-5616b1f883b8",
        "colab": {}
      },
      "source": [
        "preds[:10]"
      ],
      "execution_count": 0,
      "outputs": [
        {
          "output_type": "execute_result",
          "data": {
            "text/plain": [
              "array([ True,  True,  True,  True, False,  True,  True, False,  True, False])"
            ]
          },
          "metadata": {
            "tags": []
          },
          "execution_count": 395
        }
      ]
    },
    {
      "cell_type": "code",
      "metadata": {
        "id": "ejlJOlBaU980",
        "colab_type": "code",
        "colab": {}
      },
      "source": [
        "valid_labels = [o == positive for o in movie_reviews.valid.y.items]"
      ],
      "execution_count": 0,
      "outputs": []
    },
    {
      "cell_type": "code",
      "metadata": {
        "id": "Sy93PqKaU980",
        "colab_type": "code",
        "outputId": "3a3e2f03-ccf5-414d-8719-a40b0d0c1fe4",
        "colab": {}
      },
      "source": [
        "(preds == valid_labels).mean()"
      ],
      "execution_count": 0,
      "outputs": [
        {
          "output_type": "execute_result",
          "data": {
            "text/plain": [
              "0.76"
            ]
          },
          "metadata": {
            "tags": []
          },
          "execution_count": 397
        }
      ]
    },
    {
      "cell_type": "markdown",
      "metadata": {
        "id": "HtI0UbznU981",
        "colab_type": "text"
      },
      "source": [
        "### Binarized Naive Bayes"
      ]
    },
    {
      "cell_type": "code",
      "metadata": {
        "id": "CDFZSVaTU981",
        "colab_type": "code",
        "colab": {}
      },
      "source": [
        "trn_x_ngram_sgn = train_ngram_doc_matrix.sign()\n",
        "val_x_ngram_sgn = valid_ngram_doc_matrix.sign()"
      ],
      "execution_count": 0,
      "outputs": []
    },
    {
      "cell_type": "code",
      "metadata": {
        "id": "SVG2HIwzU982",
        "colab_type": "code",
        "colab": {}
      },
      "source": [
        "xx = trn_x_ngram_sgn[:k]"
      ],
      "execution_count": 0,
      "outputs": []
    },
    {
      "cell_type": "code",
      "metadata": {
        "id": "VXPF_uydU983",
        "colab_type": "code",
        "colab": {}
      },
      "source": [
        "p0 = np.squeeze(np.array(xx[neg].sum(0)))\n",
        "p1 = np.squeeze(np.array(xx[pos].sum(0)))"
      ],
      "execution_count": 0,
      "outputs": []
    },
    {
      "cell_type": "code",
      "metadata": {
        "id": "FU6GWbcZU983",
        "colab_type": "code",
        "colab": {}
      },
      "source": [
        "pr1 = (p1+1) / ((y.items==positive).sum() + 1)\n",
        "pr0 = (p0+1) / ((y.items==negative).sum() + 1)"
      ],
      "execution_count": 0,
      "outputs": []
    },
    {
      "cell_type": "code",
      "metadata": {
        "id": "YZ97gRhdU984",
        "colab_type": "code",
        "colab": {}
      },
      "source": [
        "r = np.log(pr1/pr0)\n",
        "b = np.log((y.items==positive).mean() / (y.items==negative).mean())\n",
        "\n",
        "pre_preds = val_x_ngram_sgn @ r.T + b\n",
        "preds = pre_preds.T>0"
      ],
      "execution_count": 0,
      "outputs": []
    },
    {
      "cell_type": "code",
      "metadata": {
        "id": "p5ipRsr5U985",
        "colab_type": "code",
        "outputId": "6aa69d48-9f42-4a44-bc0e-7b2bdc9137ab",
        "colab": {}
      },
      "source": [
        "(preds==valid_labels).mean()"
      ],
      "execution_count": 0,
      "outputs": [
        {
          "output_type": "execute_result",
          "data": {
            "text/plain": [
              "0.735"
            ]
          },
          "metadata": {
            "tags": []
          },
          "execution_count": 404
        }
      ]
    },
    {
      "cell_type": "markdown",
      "metadata": {
        "id": "sPUd_4J_U986",
        "colab_type": "text"
      },
      "source": [
        "## Logistic Regression"
      ]
    },
    {
      "cell_type": "markdown",
      "metadata": {
        "id": "cqgrJjk1U987",
        "colab_type": "text"
      },
      "source": [
        "Here we fit regularized logistic regression where the features are the trigrams."
      ]
    },
    {
      "cell_type": "code",
      "metadata": {
        "id": "_B4WjMB0U987",
        "colab_type": "code",
        "colab": {}
      },
      "source": [
        "from sklearn.linear_model import LogisticRegression"
      ],
      "execution_count": 0,
      "outputs": []
    },
    {
      "cell_type": "markdown",
      "metadata": {
        "id": "EBEgcaFVU988",
        "colab_type": "text"
      },
      "source": [
        "### use CountVectorizer to compare"
      ]
    },
    {
      "cell_type": "code",
      "metadata": {
        "id": "fdJXJ3TOU988",
        "colab_type": "code",
        "colab": {}
      },
      "source": [
        "from sklearn.feature_extraction.text import CountVectorizer"
      ],
      "execution_count": 0,
      "outputs": []
    },
    {
      "cell_type": "code",
      "metadata": {
        "id": "uDlYyIz3U988",
        "colab_type": "code",
        "colab": {}
      },
      "source": [
        "veczr = CountVectorizer(ngram_range=(1,3), preprocessor=noop, tokenizer=noop, max_features=800000)"
      ],
      "execution_count": 0,
      "outputs": []
    },
    {
      "cell_type": "code",
      "metadata": {
        "id": "jZFsYnsVU989",
        "colab_type": "code",
        "colab": {}
      },
      "source": [
        "docs = movie_reviews.train.x"
      ],
      "execution_count": 0,
      "outputs": []
    },
    {
      "cell_type": "code",
      "metadata": {
        "id": "aGLJQmzQU99A",
        "colab_type": "code",
        "colab": {}
      },
      "source": [
        "train_words = [[docs.vocab.itos[o] for o in doc.data] for doc in movie_reviews.train.x]"
      ],
      "execution_count": 0,
      "outputs": []
    },
    {
      "cell_type": "code",
      "metadata": {
        "id": "4meRfJP6U99B",
        "colab_type": "code",
        "colab": {}
      },
      "source": [
        "valid_words = [[docs.vocab.itos[o] for o in doc.data] for doc in movie_reviews.valid.x]"
      ],
      "execution_count": 0,
      "outputs": []
    },
    {
      "cell_type": "code",
      "metadata": {
        "id": "UFxMhKLoU99B",
        "colab_type": "code",
        "outputId": "db48bbe4-9f30-4a55-e89e-be21d5799c7c",
        "colab": {}
      },
      "source": [
        "%%time\n",
        "train_ngram_doc = veczr.fit_transform(train_words)"
      ],
      "execution_count": 0,
      "outputs": [
        {
          "output_type": "stream",
          "text": [
            "CPU times: user 1.22 s, sys: 8 ms, total: 1.22 s\n",
            "Wall time: 1.22 s\n"
          ],
          "name": "stdout"
        }
      ]
    },
    {
      "cell_type": "code",
      "metadata": {
        "scrolled": true,
        "id": "Pu22yCQHU99C",
        "colab_type": "code",
        "outputId": "aec60c92-9e0f-4c47-fb7b-16bf0deff5e0",
        "colab": {}
      },
      "source": [
        "train_ngram_doc"
      ],
      "execution_count": 0,
      "outputs": [
        {
          "output_type": "execute_result",
          "data": {
            "text/plain": [
              "<800x260401 sparse matrix of type '<class 'numpy.int64'>'\n",
              "\twith 565699 stored elements in Compressed Sparse Row format>"
            ]
          },
          "metadata": {
            "tags": []
          },
          "execution_count": 412
        }
      ]
    },
    {
      "cell_type": "code",
      "metadata": {
        "scrolled": true,
        "id": "aNlFdZJMU99D",
        "colab_type": "code",
        "outputId": "2f92aa26-a2f6-4cd1-b866-9d5447b80b41",
        "colab": {}
      },
      "source": [
        "veczr.vocabulary_"
      ],
      "execution_count": 0,
      "outputs": [
        {
          "output_type": "execute_result",
          "data": {
            "text/plain": [
              "{'xxbos': 235245,\n",
              " 'xxmaj': 235619,\n",
              " 'un': 217541,\n",
              " '-': 14669,\n",
              " 'xxunk': 247983,\n",
              " 'believable': 50437,\n",
              " '!': 593,\n",
              " 'meg': 134464,\n",
              " 'ryan': 171981,\n",
              " 'does': 72638,\n",
              " \"n't\": 141217,\n",
              " 'even': 78300,\n",
              " 'look': 129031,\n",
              " 'her': 101696,\n",
              " 'usual': 219431,\n",
              " 'lovable': 129884,\n",
              " 'self': 175890,\n",
              " 'in': 110078,\n",
              " 'this': 206648,\n",
              " ',': 8808,\n",
              " 'which': 228228,\n",
              " 'normally': 145208,\n",
              " 'makes': 131572,\n",
              " 'me': 133672,\n",
              " 'forgive': 88683,\n",
              " 'shallow': 177184,\n",
              " 'acting': 27693,\n",
              " '.': 16845,\n",
              " 'hard': 97877,\n",
              " 'to': 210394,\n",
              " 'believe': 50474,\n",
              " 'she': 177332,\n",
              " 'was': 222339,\n",
              " 'the': 193825,\n",
              " 'producer': 164509,\n",
              " 'on': 152345,\n",
              " 'dog': 72943,\n",
              " 'plus': 162153,\n",
              " 'kevin': 122626,\n",
              " 'kline': 123483,\n",
              " ':': 20369,\n",
              " 'what': 226885,\n",
              " 'kind': 123253,\n",
              " 'of': 147538,\n",
              " 'suicide': 188380,\n",
              " 'trip': 215838,\n",
              " 'has': 98145,\n",
              " 'his': 103548,\n",
              " 'career': 58706,\n",
              " 'been': 49251,\n",
              " '?': 20997,\n",
              " '...': 18350,\n",
              " 'finally': 85389,\n",
              " 'directed': 71229,\n",
              " 'by': 56573,\n",
              " 'guy': 96432,\n",
              " 'who': 229053,\n",
              " 'did': 70485,\n",
              " 'big': 51612,\n",
              " 'must': 140433,\n",
              " 'be': 47429,\n",
              " 'a': 21285,\n",
              " 'replay': 169637,\n",
              " 'jonestown': 121196,\n",
              " 'hollywood': 105205,\n",
              " 'style': 187631,\n",
              " 'xxbos xxmaj': 235387,\n",
              " 'xxmaj un': 246414,\n",
              " 'un -': 217542,\n",
              " '- xxunk': 16431,\n",
              " 'xxunk -': 248730,\n",
              " '- believable': 14857,\n",
              " 'believable !': 50438,\n",
              " '! xxmaj': 756,\n",
              " 'xxmaj meg': 242214,\n",
              " 'meg xxmaj': 134469,\n",
              " 'xxmaj ryan': 244169,\n",
              " 'ryan does': 171990,\n",
              " \"does n't\": 72770,\n",
              " \"n't even\": 141546,\n",
              " 'even look': 78540,\n",
              " 'look her': 129116,\n",
              " 'her usual': 102342,\n",
              " 'usual xxunk': 219463,\n",
              " 'xxunk lovable': 252472,\n",
              " 'lovable self': 129893,\n",
              " 'self in': 175915,\n",
              " 'in this': 111802,\n",
              " 'this ,': 206667,\n",
              " ', which': 13819,\n",
              " 'which normally': 228500,\n",
              " 'normally makes': 145211,\n",
              " 'makes me': 131651,\n",
              " 'me forgive': 133807,\n",
              " 'forgive her': 88684,\n",
              " 'her shallow': 102248,\n",
              " 'shallow xxunk': 177199,\n",
              " 'xxunk acting': 249152,\n",
              " 'acting xxunk': 27935,\n",
              " 'xxunk .': 248830,\n",
              " '. xxmaj': 17378,\n",
              " 'xxmaj hard': 239935,\n",
              " 'hard to': 97933,\n",
              " 'to believe': 210927,\n",
              " 'believe she': 50543,\n",
              " 'she was': 177776,\n",
              " 'was the': 223713,\n",
              " 'the producer': 199567,\n",
              " 'producer on': 164521,\n",
              " 'on this': 153116,\n",
              " 'this dog': 206987,\n",
              " 'dog .': 72944,\n",
              " 'xxmaj plus': 243544,\n",
              " 'plus xxmaj': 162173,\n",
              " 'xxmaj kevin': 241367,\n",
              " 'kevin xxmaj': 122631,\n",
              " 'xxmaj kline': 241463,\n",
              " 'kline :': 123489,\n",
              " ': what': 20599,\n",
              " 'what kind': 227138,\n",
              " 'kind of': 123276,\n",
              " 'of suicide': 149900,\n",
              " 'suicide trip': 188402,\n",
              " 'trip has': 215849,\n",
              " 'has his': 98415,\n",
              " 'his career': 103726,\n",
              " 'career been': 58722,\n",
              " 'been on': 49462,\n",
              " 'on ?': 152394,\n",
              " '? xxmaj': 21121,\n",
              " 'xxmaj xxunk': 247340,\n",
              " 'xxunk ...': 248876,\n",
              " '... xxmaj': 18634,\n",
              " 'xxunk !': 247988,\n",
              " '! !': 608,\n",
              " 'xxmaj finally': 239085,\n",
              " 'finally this': 85451,\n",
              " 'this was': 208191,\n",
              " 'was directed': 222794,\n",
              " 'directed by': 71242,\n",
              " 'by the': 56992,\n",
              " 'the guy': 197105,\n",
              " 'guy who': 96523,\n",
              " 'who did': 229250,\n",
              " 'did xxmaj': 70760,\n",
              " 'xxmaj big': 236752,\n",
              " 'big xxmaj': 51762,\n",
              " 'xxunk ?': 249000,\n",
              " 'xxmaj must': 242544,\n",
              " 'must be': 140446,\n",
              " 'be a': 47474,\n",
              " 'a replay': 24656,\n",
              " 'replay of': 169640,\n",
              " 'of xxmaj': 150935,\n",
              " 'xxmaj jonestown': 241169,\n",
              " 'jonestown -': 121197,\n",
              " '- hollywood': 15348,\n",
              " 'hollywood style': 105278,\n",
              " 'style .': 187642,\n",
              " 'xxbos xxmaj un': 235573,\n",
              " 'xxmaj un -': 246415,\n",
              " 'un - xxunk': 217545,\n",
              " '- xxunk -': 16437,\n",
              " 'xxunk - believable': 248740,\n",
              " '- believable !': 14858,\n",
              " 'believable ! xxmaj': 50439,\n",
              " '! xxmaj meg': 813,\n",
              " 'xxmaj meg xxmaj': 242217,\n",
              " 'meg xxmaj ryan': 134471,\n",
              " 'xxmaj ryan does': 244174,\n",
              " \"ryan does n't\": 171991,\n",
              " \"does n't even\": 72785,\n",
              " \"n't even look\": 141562,\n",
              " 'even look her': 78542,\n",
              " 'look her usual': 129117,\n",
              " 'her usual xxunk': 102344,\n",
              " 'usual xxunk lovable': 219466,\n",
              " 'xxunk lovable self': 252473,\n",
              " 'lovable self in': 129894,\n",
              " 'self in this': 175916,\n",
              " 'in this ,': 111804,\n",
              " 'this , which': 206693,\n",
              " ', which normally': 13851,\n",
              " 'which normally makes': 228501,\n",
              " 'normally makes me': 145212,\n",
              " 'makes me forgive': 131655,\n",
              " 'me forgive her': 133808,\n",
              " 'forgive her shallow': 88685,\n",
              " 'her shallow xxunk': 102249,\n",
              " 'shallow xxunk acting': 177200,\n",
              " 'xxunk acting xxunk': 249154,\n",
              " 'acting xxunk .': 27936,\n",
              " 'xxunk . xxmaj': 248864,\n",
              " '. xxmaj hard': 17676,\n",
              " 'xxmaj hard to': 239936,\n",
              " 'hard to believe': 97940,\n",
              " 'to believe she': 210934,\n",
              " 'believe she was': 50544,\n",
              " 'she was the': 177809,\n",
              " 'was the producer': 223755,\n",
              " 'the producer on': 199569,\n",
              " 'producer on this': 164522,\n",
              " 'on this dog': 153121,\n",
              " 'this dog .': 206988,\n",
              " 'dog . xxmaj': 72946,\n",
              " '. xxmaj plus': 17920,\n",
              " 'xxmaj plus xxmaj': 243548,\n",
              " 'plus xxmaj kevin': 162176,\n",
              " 'xxmaj kevin xxmaj': 241370,\n",
              " 'kevin xxmaj kline': 122633,\n",
              " 'xxmaj kline :': 241466,\n",
              " 'kline : what': 123490,\n",
              " ': what kind': 20600,\n",
              " 'what kind of': 227139,\n",
              " 'kind of suicide': 123325,\n",
              " 'of suicide trip': 149902,\n",
              " 'suicide trip has': 188403,\n",
              " 'trip has his': 215850,\n",
              " 'has his career': 98417,\n",
              " 'his career been': 103730,\n",
              " 'career been on': 58723,\n",
              " 'been on ?': 49463,\n",
              " 'on ? xxmaj': 152395,\n",
              " '? xxmaj xxunk': 21220,\n",
              " 'xxmaj xxunk ...': 247355,\n",
              " 'xxunk ... xxmaj': 248895,\n",
              " '... xxmaj xxunk': 18669,\n",
              " 'xxmaj xxunk !': 247341,\n",
              " 'xxunk ! !': 247990,\n",
              " '! ! !': 610,\n",
              " '! ! xxmaj': 615,\n",
              " '! xxmaj finally': 793,\n",
              " 'xxmaj finally this': 239090,\n",
              " 'finally this was': 85452,\n",
              " 'this was directed': 208199,\n",
              " 'was directed by': 222795,\n",
              " 'directed by the': 71243,\n",
              " 'by the guy': 57034,\n",
              " 'the guy who': 197110,\n",
              " 'guy who did': 96527,\n",
              " 'who did xxmaj': 229253,\n",
              " 'did xxmaj big': 70762,\n",
              " 'xxmaj big xxmaj': 236757,\n",
              " 'big xxmaj xxunk': 51769,\n",
              " 'xxmaj xxunk ?': 247369,\n",
              " 'xxunk ? xxmaj': 249011,\n",
              " '? xxmaj must': 21172,\n",
              " 'xxmaj must be': 242545,\n",
              " 'must be a': 140448,\n",
              " 'be a replay': 47519,\n",
              " 'a replay of': 24657,\n",
              " 'replay of xxmaj': 169642,\n",
              " 'of xxmaj jonestown': 151078,\n",
              " 'xxmaj jonestown -': 241170,\n",
              " 'jonestown - hollywood': 121198,\n",
              " '- hollywood style': 15349,\n",
              " 'hollywood style .': 105279,\n",
              " 'style . xxmaj': 187643,\n",
              " '. xxmaj xxunk': 18197,\n",
              " 'is': 114388,\n",
              " 'extremely': 80780,\n",
              " 'well': 225746,\n",
              " 'made': 130666,\n",
              " 'film': 83839,\n",
              " 'script': 174300,\n",
              " 'and': 33959,\n",
              " 'camera': 57738,\n",
              " 'work': 233513,\n",
              " 'are': 41025,\n",
              " 'all': 30474,\n",
              " 'first': 85911,\n",
              " 'rate': 166635,\n",
              " 'music': 140267,\n",
              " 'good': 94167,\n",
              " 'too': 214437,\n",
              " 'though': 208639,\n",
              " 'it': 117573,\n",
              " 'mostly': 137870,\n",
              " 'early': 74996,\n",
              " 'when': 227487,\n",
              " 'things': 206104,\n",
              " 'still': 185875,\n",
              " 'relatively': 168987,\n",
              " 'there': 204279,\n",
              " 'no': 144389,\n",
              " 'really': 167534,\n",
              " 'cast': 59090,\n",
              " 'several': 176885,\n",
              " 'faces': 81066,\n",
              " 'will': 230407,\n",
              " 'familiar': 81645,\n",
              " 'entire': 77496,\n",
              " 'an': 33100,\n",
              " 'excellent': 79815,\n",
              " 'job': 120769,\n",
              " 'with': 231200,\n",
              " '\\n \\n ': 0,\n",
              " 'but': 55233,\n",
              " 'watch': 224142,\n",
              " 'because': 48827,\n",
              " 'end': 76351,\n",
              " 'situation': 180264,\n",
              " 'like': 126924,\n",
              " 'one': 153423,\n",
              " 'presented': 163577,\n",
              " 'now': 146760,\n",
              " 'blame': 52362,\n",
              " 'british': 54359,\n",
              " 'for': 87111,\n",
              " 'setting': 176810,\n",
              " 'hindus': 103492,\n",
              " 'muslims': 140422,\n",
              " 'against': 29872,\n",
              " 'each': 74800,\n",
              " 'other': 156127,\n",
              " 'then': 203901,\n",
              " 'them': 203472,\n",
              " 'into': 113706,\n",
              " 'two': 216877,\n",
              " 'countries': 66021,\n",
              " 'some': 182093,\n",
              " 'merit': 134952,\n",
              " 'view': 220903,\n",
              " \"'s\": 4219,\n",
              " 'also': 31802,\n",
              " 'true': 215952,\n",
              " 'that': 191543,\n",
              " 'forced': 88485,\n",
              " 'region': 168815,\n",
              " 'as': 42811,\n",
              " 'they': 204967,\n",
              " 'around': 42453,\n",
              " 'time': 209711,\n",
              " 'partition': 158823,\n",
              " 'seems': 175485,\n",
              " 'more': 136861,\n",
              " 'likely': 127658,\n",
              " 'simply': 179677,\n",
              " 'saw': 172810,\n",
              " 'between': 51345,\n",
              " 'were': 226152,\n",
              " 'clever': 62399,\n",
              " 'enough': 77149,\n",
              " 'exploit': 80571,\n",
              " 'their': 202859,\n",
              " 'own': 157786,\n",
              " 'ends': 76709,\n",
              " 'result': 169941,\n",
              " 'much': 139743,\n",
              " 'cruelty': 67253,\n",
              " 'inhumanity': 112841,\n",
              " 'very': 220028,\n",
              " 'unpleasant': 218279,\n",
              " 'remember': 169309,\n",
              " 'see': 174840,\n",
              " 'screen': 174101,\n",
              " 'never': 143379,\n",
              " 'painted': 158250,\n",
              " 'black': 52211,\n",
              " 'white': 228967,\n",
              " 'case': 58985,\n",
              " 'both': 53392,\n",
              " 'sides': 179401,\n",
              " 'hope': 105534,\n",
              " 'change': 59933,\n",
              " 'younger': 259694,\n",
              " 'generation': 91777,\n",
              " 'redemption': 168609,\n",
              " 'sort': 183622,\n",
              " 'make': 131252,\n",
              " 'choice': 61352,\n",
              " 'man': 131972,\n",
              " 'ruined': 171670,\n",
              " 'life': 126539,\n",
              " 'truly': 216095,\n",
              " 'loved': 130104,\n",
              " 'family': 81676,\n",
              " 'later': 124790,\n",
              " 'come': 63112,\n",
              " 'looking': 129249,\n",
              " 'point': 162209,\n",
              " 'without': 232583,\n",
              " 'great': 95376,\n",
              " 'pain': 158154,\n",
              " 'carries': 58869,\n",
              " 'message': 135015,\n",
              " 'have': 98847,\n",
              " 'grave': 95342,\n",
              " 'can': 57902,\n",
              " 'caring': 58782,\n",
              " 'people': 159402,\n",
              " 'reality': 167435,\n",
              " 'wrenching': 234830,\n",
              " 'since': 179847,\n",
              " 'real': 167146,\n",
              " 'across': 27577,\n",
              " 'india': 112505,\n",
              " '/': 18693,\n",
              " 'pakistan': 158299,\n",
              " 'border': 53152,\n",
              " 'sense': 176005,\n",
              " 'similar': 179551,\n",
              " '\"': 885,\n",
              " 'mr': 139656,\n",
              " '&': 2770,\n",
              " 'we': 225032,\n",
              " 'glad': 93403,\n",
              " 'seen': 175612,\n",
              " 'resolution': 169789,\n",
              " 'if': 109113,\n",
              " 'xxup': 256448,\n",
              " 'uk': 217458,\n",
              " 'us': 219019,\n",
              " 'could': 65644,\n",
              " 'deal': 68618,\n",
              " 'racism': 166252,\n",
              " 'would': 234332,\n",
              " 'certainly': 59737,\n",
              " 'better': 51101,\n",
              " 'off': 151385,\n",
              " 'xxmaj this': 245994,\n",
              " 'this is': 207344,\n",
              " 'is a': 114476,\n",
              " 'a extremely': 22470,\n",
              " 'extremely well': 80833,\n",
              " 'well -': 225791,\n",
              " '- made': 15557,\n",
              " 'made film': 130775,\n",
              " 'film .': 83997,\n",
              " 'xxmaj the': 245427,\n",
              " 'the acting': 194076,\n",
              " 'acting ,': 27710,\n",
              " ', script': 12382,\n",
              " 'script and': 174330,\n",
              " 'and camera': 34633,\n",
              " 'camera -': 57749,\n",
              " '- work': 16333,\n",
              " 'work are': 233548,\n",
              " 'are all': 41108,\n",
              " 'all first': 30719,\n",
              " 'first -': 85933,\n",
              " '- rate': 15858,\n",
              " 'rate .': 166640,\n",
              " 'the music': 198575,\n",
              " 'music is': 140331,\n",
              " 'is good': 115473,\n",
              " 'good ,': 94186,\n",
              " ', too': 13460,\n",
              " 'too ,': 214440,\n",
              " ', though': 13373,\n",
              " 'though it': 208734,\n",
              " 'it is': 118593,\n",
              " 'is mostly': 115911,\n",
              " 'mostly early': 137897,\n",
              " 'early in': 75040,\n",
              " 'in the': 111429,\n",
              " 'the film': 196399,\n",
              " 'film ,': 83916,\n",
              " ', when': 13766,\n",
              " 'when things': 227807,\n",
              " 'things are': 206134,\n",
              " 'are still': 42003,\n",
              " 'still relatively': 186064,\n",
              " 'relatively xxunk': 168998,\n",
              " 'xxmaj there': 245886,\n",
              " 'there are': 204362,\n",
              " 'are no': 41703,\n",
              " 'no really': 144777,\n",
              " 'really xxunk': 168073,\n",
              " 'xxunk in': 251885,\n",
              " 'the cast': 194895,\n",
              " 'cast ,': 59099,\n",
              " 'though several': 208754,\n",
              " 'several faces': 176894,\n",
              " 'faces will': 81082,\n",
              " 'will be': 230442,\n",
              " 'be familiar': 47794,\n",
              " 'familiar .': 81649,\n",
              " 'the entire': 196079,\n",
              " 'entire cast': 77501,\n",
              " 'cast does': 59149,\n",
              " 'does an': 72668,\n",
              " 'an excellent': 33479,\n",
              " 'excellent job': 79860,\n",
              " 'job with': 120843,\n",
              " 'with the': 232107,\n",
              " 'the script': 200200,\n",
              " 'script .': 174322,\n",
              " '. \\n \\n ': 16846,\n",
              " '\\n \\n  xxmaj': 201,\n",
              " 'xxmaj but': 237156,\n",
              " 'but it': 55712,\n",
              " 'is hard': 115506,\n",
              " 'to watch': 213697,\n",
              " 'watch ,': 224148,\n",
              " ', because': 9683,\n",
              " 'because there': 48997,\n",
              " 'there is': 204470,\n",
              " 'is no': 116027,\n",
              " 'no good': 144577,\n",
              " 'good end': 94348,\n",
              " 'end to': 76492,\n",
              " 'to a': 210460,\n",
              " 'a situation': 25006,\n",
              " 'situation like': 180285,\n",
              " 'like the': 127344,\n",
              " 'the one': 198859,\n",
              " 'one presented': 153923,\n",
              " 'presented .': 163580,\n",
              " 'xxmaj it': 240758,\n",
              " 'is now': 116143,\n",
              " 'now xxunk': 146943,\n",
              " 'xxunk to': 254882,\n",
              " 'to blame': 210953,\n",
              " 'blame the': 52371,\n",
              " 'the xxmaj': 201976,\n",
              " 'xxmaj british': 237029,\n",
              " 'british for': 54380,\n",
              " 'for setting': 87910,\n",
              " 'setting xxmaj': 176836,\n",
              " 'xxmaj hindus': 240216,\n",
              " 'hindus and': 103493,\n",
              " 'and xxmaj': 38626,\n",
              " 'xxmaj muslims': 242539,\n",
              " 'muslims against': 140426,\n",
              " 'against each': 29885,\n",
              " 'each other': 74866,\n",
              " 'other ,': 156138,\n",
              " ', and': 9218,\n",
              " 'and then': 37939,\n",
              " 'then xxunk': 204237,\n",
              " 'xxunk xxunk': 256140,\n",
              " 'xxunk them': 254721,\n",
              " 'them into': 203630,\n",
              " 'into two': 114027,\n",
              " 'two countries': 216949,\n",
              " 'countries .': 66022,\n",
              " 'is some': 116671,\n",
              " 'some merit': 182403,\n",
              " 'merit in': 134955,\n",
              " 'this view': 208179,\n",
              " 'view ,': 220908,\n",
              " ', but': 9824,\n",
              " \"it 's\": 117610,\n",
              " \"'s also\": 4429,\n",
              " 'also true': 32196,\n",
              " 'true that': 216052,\n",
              " 'that no': 192798,\n",
              " 'no one': 144700,\n",
              " 'one forced': 153682,\n",
              " 'forced xxmaj': 88517,\n",
              " 'muslims in': 140430,\n",
              " 'the region': 199789,\n",
              " 'region to': 168820,\n",
              " 'to xxunk': 213936,\n",
              " 'xxunk each': 250866,\n",
              " 'other as': 156178,\n",
              " 'as they': 43790,\n",
              " 'they did': 205251,\n",
              " 'did around': 70522,\n",
              " 'around the': 42557,\n",
              " 'the time': 201168,\n",
              " 'time of': 209939,\n",
              " 'of partition': 149450,\n",
              " 'partition .': 158824,\n",
              " 'it seems': 119112,\n",
              " 'seems more': 175532,\n",
              " 'more likely': 137171,\n",
              " 'likely that': 127663,\n",
              " 'that the': 193183,\n",
              " 'british simply': 54388,\n",
              " 'simply saw': 179788,\n",
              " 'saw the': 172867,\n",
              " 'the xxunk': 202357,\n",
              " 'xxunk between': 250039,\n",
              " 'between the': 51422,\n",
              " 'xxunk and': 249319,\n",
              " 'and were': 38456,\n",
              " 'were clever': 226268,\n",
              " 'clever enough': 62419,\n",
              " 'enough to': 77250,\n",
              " 'to exploit': 211477,\n",
              " 'exploit them': 80574,\n",
              " 'them to': 203708,\n",
              " 'to their': 213505,\n",
              " 'their own': 203225,\n",
              " 'own ends': 157849,\n",
              " 'ends .': 76714,\n",
              " 'the result': 199865,\n",
              " 'result is': 169950,\n",
              " 'is that': 116818,\n",
              " 'that there': 193302,\n",
              " 'is much': 115922,\n",
              " 'much cruelty': 139835,\n",
              " 'cruelty and': 67256,\n",
              " 'and inhumanity': 36008,\n",
              " 'inhumanity in': 112844,\n",
              " 'the situation': 200490,\n",
              " 'situation and': 180273,\n",
              " 'and this': 38049,\n",
              " 'is very': 117159,\n",
              " 'very unpleasant': 220539,\n",
              " 'unpleasant to': 218286,\n",
              " 'to remember': 212726,\n",
              " 'remember and': 169322,\n",
              " 'and to': 38124,\n",
              " 'to see': 212884,\n",
              " 'see on': 175066,\n",
              " 'on the': 152927,\n",
              " 'the screen': 200165,\n",
              " 'screen .': 174117,\n",
              " 'is never': 116013,\n",
              " 'never painted': 143594,\n",
              " 'painted as': 158255,\n",
              " 'as a': 42836,\n",
              " 'a black': 21636,\n",
              " 'black -': 52220,\n",
              " '- and': 14769,\n",
              " 'and -': 34009,\n",
              " '- white': 16300,\n",
              " 'white case': 228982,\n",
              " 'case .': 59002,\n",
              " 'is xxunk': 117387,\n",
              " 'and xxunk': 38901,\n",
              " 'xxunk on': 253106,\n",
              " 'on both': 152543,\n",
              " 'both sides': 53519,\n",
              " 'sides ,': 179402,\n",
              " 'and also': 34261,\n",
              " 'also the': 32167,\n",
              " 'the hope': 197270,\n",
              " 'hope for': 105552,\n",
              " 'for change': 87380,\n",
              " 'change in': 59950,\n",
              " 'the younger': 202778,\n",
              " 'younger generation': 259701,\n",
              " 'generation .': 91783,\n",
              " 'is redemption': 116438,\n",
              " 'redemption of': 168616,\n",
              " 'of a': 147636,\n",
              " 'a sort': 25109,\n",
              " 'sort ,': 183623,\n",
              " ', in': 11128,\n",
              " 'the end': 196001,\n",
              " 'end ,': 76358,\n",
              " 'when xxmaj': 227831,\n",
              " 'xxunk has': 251545,\n",
              " 'has to': 98656,\n",
              " 'to make': 212219,\n",
              " 'make a': 131263,\n",
              " 'a hard': 23147,\n",
              " 'hard choice': 97903,\n",
              " 'choice between': 61360,\n",
              " 'between a': 51358,\n",
              " 'a man': 23695,\n",
              " 'man who': 132176,\n",
              " 'who has': 229355,\n",
              " 'has ruined': 98579,\n",
              " 'ruined her': 171678,\n",
              " 'her life': 102082,\n",
              " 'life ,': 126556,\n",
              " 'but also': 55315,\n",
              " 'also truly': 32198,\n",
              " 'truly loved': 216140,\n",
              " 'loved her': 130113,\n",
              " 'her ,': 101714,\n",
              " 'and her': 35725,\n",
              " 'her family': 101954,\n",
              " 'family which': 81823,\n",
              " 'which has': 228349,\n",
              " 'has xxunk': 98702,\n",
              " 'xxunk her': 251616,\n",
              " ', then': 13182,\n",
              " 'then later': 204101,\n",
              " 'later come': 124832,\n",
              " 'come looking': 63173,\n",
              " 'looking for': 129282,\n",
              " 'for her': 87517,\n",
              " 'her .': 101732,\n",
              " 'but by': 55387,\n",
              " 'by that': 56989,\n",
              " 'that point': 192920,\n",
              " 'point ,': 162212,\n",
              " ', she': 12453,\n",
              " 'she has': 177530,\n",
              " 'has no': 98504,\n",
              " 'no xxunk': 144906,\n",
              " 'xxunk that': 254401,\n",
              " 'that is': 192462,\n",
              " 'is without': 117292,\n",
              " 'without great': 232660,\n",
              " 'great pain': 95613,\n",
              " 'pain for': 158170,\n",
              " 'this film': 207054,\n",
              " 'film carries': 84164,\n",
              " 'carries the': 58873,\n",
              " 'the message': 198187,\n",
              " 'message that': 135052,\n",
              " 'that both': 191889,\n",
              " 'both xxmaj': 53555,\n",
              " 'muslims and': 140428,\n",
              " 'hindus have': 103495,\n",
              " 'have their': 99579,\n",
              " 'their grave': 203092,\n",
              " 'grave xxunk': 95357,\n",
              " 'xxunk ,': 248429,\n",
              " 'also that': 32164,\n",
              " 'both can': 53423,\n",
              " 'can be': 57953,\n",
              " 'be xxunk': 48432,\n",
              " 'and caring': 34653,\n",
              " 'caring people': 58792,\n",
              " 'people .': 159438,\n",
              " 'the reality': 199735,\n",
              " 'reality of': 167462,\n",
              " 'partition makes': 158828,\n",
              " 'makes that': 131687,\n",
              " 'that xxunk': 193725,\n",
              " 'xxunk all': 249241,\n",
              " 'all the': 31003,\n",
              " 'the more': 198292,\n",
              " 'more wrenching': 137414,\n",
              " 'wrenching ,': 234831,\n",
              " ', since': 12536,\n",
              " 'since there': 179925,\n",
              " 'there can': 204435,\n",
              " 'can never': 58123,\n",
              " 'never be': 143401,\n",
              " 'be real': 48117,\n",
              " 'real xxunk': 167347,\n",
              " 'xxunk across': 249146,\n",
              " 'across the': 27597,\n",
              " 'xxmaj india': 240621,\n",
              " 'india /': 112512,\n",
              " '/ xxmaj': 18915,\n",
              " 'xxmaj pakistan': 243213,\n",
              " 'pakistan border': 158302,\n",
              " 'border .': 53155,\n",
              " 'xxmaj in': 240564,\n",
              " 'in that': 111398,\n",
              " 'that sense': 193043,\n",
              " 'sense ,': 176011,\n",
              " ', it': 11295,\n",
              " 'is similar': 116600,\n",
              " 'similar to': 179583,\n",
              " 'to \"': 210398,\n",
              " '\" xxmaj': 2329,\n",
              " 'xxmaj mr': 242491,\n",
              " 'mr &': 139657,\n",
              " '& xxmaj': 2909,\n",
              " 'xxunk xxmaj': 255692,\n",
              " 'xxunk \"': 248003,\n",
              " '\" .': 1004,\n",
              " ', we': 13687,\n",
              " 'we were': 225359,\n",
              " 'were glad': 226367,\n",
              " 'glad to': 93416,\n",
              " 'to have': 211763,\n",
              " 'have seen': 99454,\n",
              " 'seen the': 175800,\n",
              " ', even': 10434,\n",
              " 'even though': 78686,\n",
              " 'though the': 208765,\n",
              " 'the resolution': 199849,\n",
              " 'resolution was': 169805,\n",
              " 'was xxunk': 223972,\n",
              " 'xxmaj if': 240505,\n",
              " 'if the': 109311,\n",
              " 'the xxup': 202682,\n",
              " 'xxup uk': 257624,\n",
              " 'uk and': 217465,\n",
              " 'and xxup': 39060,\n",
              " 'xxup us': 257637,\n",
              " 'us could': 219071,\n",
              " 'could deal': 65730,\n",
              " 'deal with': 68637,\n",
              " 'with their': 232242,\n",
              " 'own xxunk': 157977,\n",
              " 'xxunk of': 252919,\n",
              " 'of racism': 149579,\n",
              " 'racism with': 166272,\n",
              " 'with this': 232274,\n",
              " 'this kind': 207446,\n",
              " 'of xxunk': 151201,\n",
              " ', they': 13241,\n",
              " 'they would': 205841,\n",
              " 'would certainly': 234439,\n",
              " 'certainly be': 59742,\n",
              " 'be better': 47645,\n",
              " 'better off': 51236,\n",
              " 'off .': 151405,\n",
              " 'xxbos xxmaj this': 235568,\n",
              " 'xxmaj this is': 246034,\n",
              " 'this is a': 207348,\n",
              " 'is a extremely': 114525,\n",
              " 'a extremely well': 22471,\n",
              " 'extremely well -': 80834,\n",
              " 'well - made': 225801,\n",
              " '- made film': 15559,\n",
              " 'made film .': 130777,\n",
              " 'film . xxmaj': 84004,\n",
              " '. xxmaj the': 18078,\n",
              " 'xxmaj the acting': 245437,\n",
              " 'the acting ,': 194078,\n",
              " 'acting , script': 27731,\n",
              " ', script and': 12383,\n",
              " 'script and camera': 174332,\n",
              " 'and camera -': 34634,\n",
              " 'camera - work': 57750,\n",
              " '- work are': 16335,\n",
              " 'work are all': 233549,\n",
              " 'are all first': 41114,\n",
              " 'all first -': 30720,\n",
              " 'first - rate': 85936,\n",
              " '- rate .': 15859,\n",
              " 'rate . xxmaj': 166641,\n",
              " 'xxmaj the music': 245666,\n",
              " 'the music is': 198584,\n",
              " 'music is good': 140334,\n",
              " 'is good ,': 115476,\n",
              " 'good , too': 94203,\n",
              " ', too ,': 13462,\n",
              " 'too , though': 214451,\n",
              " ', though it': 13387,\n",
              " 'though it is': 208738,\n",
              " 'it is mostly': 118663,\n",
              " 'is mostly early': 115916,\n",
              " 'mostly early in': 137898,\n",
              " 'early in the': 75041,\n",
              " 'in the film': 111547,\n",
              " 'the film ,': 196405,\n",
              " 'film , when': 83969,\n",
              " ', when things': 13787,\n",
              " 'when things are': 227808,\n",
              " 'things are still': 206138,\n",
              " 'are still relatively': 42006,\n",
              " 'still relatively xxunk': 186065,\n",
              " 'relatively xxunk .': 168999,\n",
              " '. xxmaj there': 18081,\n",
              " 'xxmaj there are': 245891,\n",
              " 'there are no': 204396,\n",
              " 'are no really': 41714,\n",
              " 'no really xxunk': 144778,\n",
              " 'really xxunk in': 168079,\n",
              " 'xxunk in the': 251957,\n",
              " 'in the cast': 111486,\n",
              " 'the cast ,': 194896,\n",
              " 'cast , though': 59111,\n",
              " ', though several': 13392,\n",
              " 'though several faces': 208755,\n",
              " 'several faces will': 176895,\n",
              " 'faces will be': 81083,\n",
              " 'will be familiar': 230458,\n",
              " 'be familiar .': 47795,\n",
              " 'familiar . xxmaj': 81650,\n",
              " 'xxmaj the entire': 245540,\n",
              " 'the entire cast': 196082,\n",
              " 'entire cast does': 77503,\n",
              " 'cast does an': 59150,\n",
              " 'does an excellent': 72669,\n",
              " 'an excellent job': 33484,\n",
              " 'excellent job with': 79863,\n",
              " 'job with the': 120844,\n",
              " 'with the script': 232219,\n",
              " 'the script .': 200204,\n",
              " 'script . \\n \\n ': 174323,\n",
              " '. \\n \\n  xxmaj': 16880,\n",
              " '\\n \\n  xxmaj but': 256,\n",
              " 'xxmaj but it': 237188,\n",
              " 'but it is': 55729,\n",
              " 'it is hard': 118647,\n",
              " 'is hard to': 115508,\n",
              " 'hard to watch': 97958,\n",
              " 'to watch ,': 213700,\n",
              " 'watch , because': 224149,\n",
              " ', because there': 9696,\n",
              " 'because there is': 49000,\n",
              " 'there is no': 204496,\n",
              " 'is no good': 116036,\n",
              " 'no good end': 144580,\n",
              " 'good end to': 94350,\n",
              " 'end to a': 76493,\n",
              " 'to a situation': 210514,\n",
              " 'a situation like': 25008,\n",
              " 'situation like the': 180286,\n",
              " 'like the one': 127370,\n",
              " 'the one presented': 198874,\n",
              " 'one presented .': 153924,\n",
              " 'presented . xxmaj': 163581,\n",
              " '. xxmaj it': 17723,\n",
              " 'xxmaj it is': 240800,\n",
              " 'it is now': 118672,\n",
              " 'is now xxunk': 116149,\n",
              " 'now xxunk to': 146947,\n",
              " 'xxunk to blame': 254909,\n",
              " 'to blame the': 210955,\n",
              " 'blame the xxmaj': 52374,\n",
              " 'the xxmaj british': 202012,\n",
              " 'xxmaj british for': 237039,\n",
              " 'british for setting': 54381,\n",
              " 'for setting xxmaj': 87911,\n",
              " 'setting xxmaj hindus': 176837,\n",
              " 'xxmaj hindus and': 240217,\n",
              " 'hindus and xxmaj': 103494,\n",
              " 'and xxmaj muslims': 38809,\n",
              " 'xxmaj muslims against': 242541,\n",
              " 'muslims against each': 140427,\n",
              " 'against each other': 29886,\n",
              " 'each other ,': 74868,\n",
              " 'other , and': 156139,\n",
              " ', and then': 9449,\n",
              " 'and then xxunk': 37980,\n",
              " 'then xxunk xxunk': 204248,\n",
              " 'xxunk xxunk them': 256288,\n",
              " 'xxunk them into': 254727,\n",
              " 'them into two': 203633,\n",
              " 'into two countries': 114028,\n",
              " 'two countries .': 216950,\n",
              " 'countries . xxmaj': 66023,\n",
              " 'xxmaj there is': 245894,\n",
              " 'there is some': 204507,\n",
              " 'is some merit': 116675,\n",
              " 'some merit in': 182404,\n",
              " 'merit in this': 134956,\n",
              " 'in this view': 111857,\n",
              " 'this view ,': 208180,\n",
              " 'view , but': 220910,\n",
              " ', but it': 9898,\n",
              " \"but it 's\": 55713,\n",
              " \"it 's also\": 117622,\n",
              " \"'s also true\": 4437,\n",
              " 'also true that': 32197,\n",
              " 'true that no': 216053,\n",
              " 'that no one': 192803,\n",
              " 'no one forced': 144708,\n",
              " 'one forced xxmaj': 153683,\n",
              " 'forced xxmaj hindus': 88518,\n",
              " 'xxmaj muslims in': 242543,\n",
              " 'muslims in the': 140431,\n",
              " 'in the region': 111656,\n",
              " 'the region to': 199790,\n",
              " 'region to xxunk': 168821,\n",
              " 'to xxunk each': 213967,\n",
              " 'xxunk each other': 250870,\n",
              " 'each other as': 74875,\n",
              " 'other as they': 156179,\n",
              " 'as they did': 43796,\n",
              " 'they did around': 205254,\n",
              " 'did around the': 70523,\n",
              " 'around the time': 42568,\n",
              " 'the time of': 201180,\n",
              " 'time of partition': 209941,\n",
              " 'of partition .': 149451,\n",
              " 'partition . xxmaj': 158825,\n",
              " 'xxmaj it seems': 240832,\n",
              " 'it seems more': 119120,\n",
              " 'seems more likely': 175533,\n",
              " 'more likely that': 137173,\n",
              " 'likely that the': 127664,\n",
              " 'that the xxmaj': 193292,\n",
              " 'xxmaj british simply': 237043,\n",
              " 'british simply saw': 54389,\n",
              " 'simply saw the': 179789,\n",
              " 'saw the xxunk': 172876,\n",
              " 'the xxunk between': 202403,\n",
              " 'xxunk between the': 250050,\n",
              " 'between the xxunk': 51448,\n",
              " 'the xxunk and': 202387,\n",
              " 'xxunk and were': 249613,\n",
              " 'and were clever': 38457,\n",
              " 'were clever enough': 226269,\n",
              " 'clever enough to': 62420,\n",
              " 'enough to exploit': 77256,\n",
              " 'to exploit them': 211479,\n",
              " 'exploit them to': 80575,\n",
              " 'them to their': 203720,\n",
              " 'to their own': 213515,\n",
              " 'their own ends': 203232,\n",
              " 'own ends .': 157850,\n",
              " 'ends . \\n \\n ': 76715,\n",
              " '\\n \\n  xxmaj the': 500,\n",
              " 'xxmaj the result': 245734,\n",
              " 'the result is': 199866,\n",
              " 'result is that': 169954,\n",
              " 'is that there': 116849,\n",
              " 'that there is': 193305,\n",
              " 'there is much': 204492,\n",
              " 'is much cruelty': 115924,\n",
              " 'much cruelty and': 139836,\n",
              " 'cruelty and inhumanity': 67257,\n",
              " 'and inhumanity in': 36010,\n",
              " 'inhumanity in the': 112845,\n",
              " 'in the situation': 111689,\n",
              " 'the situation and': 200494,\n",
              " 'situation and this': 180274,\n",
              " 'and this is': 38058,\n",
              " 'this is very': 207419,\n",
              " 'is very unpleasant': 117194,\n",
              " 'very unpleasant to': 220540,\n",
              " 'unpleasant to remember': 218287,\n",
              " ...}"
            ]
          },
          "metadata": {
            "tags": []
          },
          "execution_count": 414
        }
      ]
    },
    {
      "cell_type": "code",
      "metadata": {
        "id": "f4uOjrCPU99E",
        "colab_type": "code",
        "colab": {}
      },
      "source": [
        "val_ngram_doc = veczr.transform(valid_words)"
      ],
      "execution_count": 0,
      "outputs": []
    },
    {
      "cell_type": "code",
      "metadata": {
        "id": "oHmiW2JYU99E",
        "colab_type": "code",
        "outputId": "b364f25e-bf29-4fab-efa4-2c5c863d4d2a",
        "colab": {}
      },
      "source": [
        "val_ngram_doc"
      ],
      "execution_count": 0,
      "outputs": [
        {
          "output_type": "execute_result",
          "data": {
            "text/plain": [
              "<200x260401 sparse matrix of type '<class 'numpy.int64'>'\n",
              "\twith 93549 stored elements in Compressed Sparse Row format>"
            ]
          },
          "metadata": {
            "tags": []
          },
          "execution_count": 418
        }
      ]
    },
    {
      "cell_type": "code",
      "metadata": {
        "id": "IavWBo1oU99G",
        "colab_type": "code",
        "colab": {}
      },
      "source": [
        "vocab = veczr.get_feature_names()"
      ],
      "execution_count": 0,
      "outputs": []
    },
    {
      "cell_type": "code",
      "metadata": {
        "id": "VKpoWjWqU99G",
        "colab_type": "code",
        "outputId": "1da325da-3883-4a3f-def4-2a749c03d34b",
        "colab": {}
      },
      "source": [
        "vocab[200000:200005]"
      ],
      "execution_count": 0,
      "outputs": [
        {
          "output_type": "execute_result",
          "data": {
            "text/plain": [
              "['the room she',\n",
              " 'the room when',\n",
              " 'the room where',\n",
              " 'the rooms',\n",
              " 'the rooms are']"
            ]
          },
          "metadata": {
            "tags": []
          },
          "execution_count": 215
        }
      ]
    },
    {
      "cell_type": "markdown",
      "metadata": {
        "id": "WzcZuFLdU99I",
        "colab_type": "text"
      },
      "source": [
        "#### Binarized Naive Bayes, using ngrams from CountVectorizer"
      ]
    },
    {
      "cell_type": "code",
      "metadata": {
        "id": "tT2cXIUeU99I",
        "colab_type": "code",
        "colab": {}
      },
      "source": [
        "y=movie_reviews.train.y"
      ],
      "execution_count": 0,
      "outputs": []
    },
    {
      "cell_type": "markdown",
      "metadata": {
        "id": "mwBcnWijU99J",
        "colab_type": "text"
      },
      "source": [
        "C is the inverse of regularization strength; smaller values specify stronger regularization.  Regularized:"
      ]
    },
    {
      "cell_type": "code",
      "metadata": {
        "id": "MLNHpyM-U99J",
        "colab_type": "code",
        "outputId": "2f27ec8e-ddf0-40e3-f15b-0dc3f893b967",
        "colab": {}
      },
      "source": [
        "m = LogisticRegression(C=0.1, dual=True)\n",
        "m.fit(train_ngram_doc.sign(), y.items);\n",
        "\n",
        "preds = m.predict(val_ngram_doc.sign())\n",
        "(preds.T==valid_labels).mean()"
      ],
      "execution_count": 0,
      "outputs": [
        {
          "output_type": "execute_result",
          "data": {
            "text/plain": [
              "0.83"
            ]
          },
          "metadata": {
            "tags": []
          },
          "execution_count": 420
        }
      ]
    },
    {
      "cell_type": "markdown",
      "metadata": {
        "id": "FDH2xpm2U99J",
        "colab_type": "text"
      },
      "source": [
        "Not binarized"
      ]
    },
    {
      "cell_type": "code",
      "metadata": {
        "id": "eQChLKQPU99K",
        "colab_type": "code",
        "outputId": "ff135136-f2f4-435f-f37c-a7e576320fbb",
        "colab": {}
      },
      "source": [
        "m = LogisticRegression(C=0.1, dual=True)\n",
        "m.fit(train_ngram_doc, y.items);\n",
        "\n",
        "preds = m.predict(val_ngram_doc)\n",
        "(preds.T==valid_labels).mean()"
      ],
      "execution_count": 0,
      "outputs": [
        {
          "output_type": "stream",
          "text": [
            "/home/racheltho/anaconda3/lib/python3.7/site-packages/sklearn/svm/base.py:922: ConvergenceWarning: Liblinear failed to converge, increase the number of iterations.\n",
            "  \"the number of iterations.\", ConvergenceWarning)\n"
          ],
          "name": "stderr"
        },
        {
          "output_type": "execute_result",
          "data": {
            "text/plain": [
              "0.78"
            ]
          },
          "metadata": {
            "tags": []
          },
          "execution_count": 421
        }
      ]
    },
    {
      "cell_type": "markdown",
      "metadata": {
        "id": "3wZT4iQRU99K",
        "colab_type": "text"
      },
      "source": [
        "### Using my ngrams, binarized:"
      ]
    },
    {
      "cell_type": "code",
      "metadata": {
        "scrolled": false,
        "id": "HhlCnAb4U99L",
        "colab_type": "code",
        "outputId": "53bb981c-f5c5-4a2a-ca06-821081a2a99c",
        "colab": {}
      },
      "source": [
        "m2 = LogisticRegression(C=0.1, dual=True)\n",
        "m2.fit(trn_x_ngram_sgn, y.items)"
      ],
      "execution_count": 0,
      "outputs": [
        {
          "output_type": "execute_result",
          "data": {
            "text/plain": [
              "LogisticRegression(C=0.1, class_weight=None, dual=True, fit_intercept=True,\n",
              "          intercept_scaling=1, max_iter=100, multi_class='warn',\n",
              "          n_jobs=None, penalty='l2', random_state=None, solver='warn',\n",
              "          tol=0.0001, verbose=0, warm_start=False)"
            ]
          },
          "metadata": {
            "tags": []
          },
          "execution_count": 236
        }
      ]
    },
    {
      "cell_type": "code",
      "metadata": {
        "id": "rFTmLA0sU99M",
        "colab_type": "code",
        "outputId": "a6169f32-810e-4f9d-89ef-fa8f28e536e6",
        "colab": {}
      },
      "source": [
        "preds = m2.predict(val_x_ngram_sgn)\n",
        "(preds.T==valid_labels).mean()"
      ],
      "execution_count": 0,
      "outputs": [
        {
          "output_type": "execute_result",
          "data": {
            "text/plain": [
              "0.83"
            ]
          },
          "metadata": {
            "tags": []
          },
          "execution_count": 240
        }
      ]
    },
    {
      "cell_type": "markdown",
      "metadata": {
        "id": "eEY5M28fU99N",
        "colab_type": "text"
      },
      "source": [
        "Worse performance when not binarized.  I manually tried several different C values, and this was the best I found:"
      ]
    },
    {
      "cell_type": "code",
      "metadata": {
        "scrolled": false,
        "id": "z0cNqBf7U99N",
        "colab_type": "code",
        "outputId": "c7df3fc5-d24c-4261-96a9-fc4d497fd3d3",
        "colab": {}
      },
      "source": [
        "m2 = LogisticRegression(C=0.0001, dual=True, max_iter=50000)\n",
        "m2.fit(train_ngram_doc_matrix, y.items)"
      ],
      "execution_count": 0,
      "outputs": [
        {
          "output_type": "execute_result",
          "data": {
            "text/plain": [
              "LogisticRegression(C=0.0001, class_weight=None, dual=True, fit_intercept=True,\n",
              "          intercept_scaling=1, max_iter=50000, multi_class='warn',\n",
              "          n_jobs=None, penalty='l2', random_state=None, solver='warn',\n",
              "          tol=0.0001, verbose=0, warm_start=False)"
            ]
          },
          "metadata": {
            "tags": []
          },
          "execution_count": 251
        }
      ]
    },
    {
      "cell_type": "code",
      "metadata": {
        "id": "dmPmLz-6U99N",
        "colab_type": "code",
        "outputId": "ee2201e7-670e-48b7-8390-6af10cbc4613",
        "colab": {}
      },
      "source": [
        "preds = m2.predict(valid_ngram_doc_matrix)\n",
        "(preds.T==valid_labels).mean()"
      ],
      "execution_count": 0,
      "outputs": [
        {
          "output_type": "execute_result",
          "data": {
            "text/plain": [
              "0.675"
            ]
          },
          "metadata": {
            "tags": []
          },
          "execution_count": 252
        }
      ]
    },
    {
      "cell_type": "markdown",
      "metadata": {
        "id": "jBB8uxEGU99O",
        "colab_type": "text"
      },
      "source": [
        "### Log-count ratio"
      ]
    },
    {
      "cell_type": "markdown",
      "metadata": {
        "id": "cvVN58V8U99O",
        "colab_type": "text"
      },
      "source": [
        "Here is the $\\text{log-count ratio}$ `r`.  "
      ]
    },
    {
      "cell_type": "code",
      "metadata": {
        "id": "y30Z2oyAU99O",
        "colab_type": "code",
        "colab": {}
      },
      "source": [
        "x=train_ngram_doc_matrix.sign()\n",
        "val_x=valid_ngram_doc_matrix.sign()\n",
        "y=movie_reviews.train.y"
      ],
      "execution_count": 0,
      "outputs": []
    },
    {
      "cell_type": "code",
      "metadata": {
        "id": "2Ig0W4V7U99P",
        "colab_type": "code",
        "colab": {}
      },
      "source": [
        "positive = y.c2i['positive']\n",
        "negative = y.c2i['negative']"
      ],
      "execution_count": 0,
      "outputs": []
    },
    {
      "cell_type": "code",
      "metadata": {
        "id": "SJBQ37svU99R",
        "colab_type": "code",
        "colab": {}
      },
      "source": [
        "k=260428"
      ],
      "execution_count": 0,
      "outputs": []
    },
    {
      "cell_type": "code",
      "metadata": {
        "id": "B0IRnY6UU99R",
        "colab_type": "code",
        "colab": {}
      },
      "source": [
        "pos = (y.items == positive)[:k]\n",
        "neg = (y.items == negative)[:k]"
      ],
      "execution_count": 0,
      "outputs": []
    },
    {
      "cell_type": "code",
      "metadata": {
        "id": "iJfCuPRQU99S",
        "colab_type": "code",
        "colab": {}
      },
      "source": [
        "xx = x[:k]"
      ],
      "execution_count": 0,
      "outputs": []
    },
    {
      "cell_type": "code",
      "metadata": {
        "id": "vEI2nTXHU99U",
        "colab_type": "code",
        "colab": {}
      },
      "source": [
        "valid_labels = [o == positive for o in movie_reviews.valid.y.items]"
      ],
      "execution_count": 0,
      "outputs": []
    },
    {
      "cell_type": "code",
      "metadata": {
        "id": "DcN4CohNU99U",
        "colab_type": "code",
        "colab": {}
      },
      "source": [
        "p0 = np.squeeze(np.array(xx[neg].sum(0)))\n",
        "p1 = np.squeeze(np.array(xx[pos].sum(0)))"
      ],
      "execution_count": 0,
      "outputs": []
    },
    {
      "cell_type": "code",
      "metadata": {
        "id": "pZw725MvU99W",
        "colab_type": "code",
        "colab": {}
      },
      "source": [
        "pr1 = (p1+1) / ((y.items==positive).sum() + 1)\n",
        "pr0 = (p0+1) / ((y.items==negative).sum() + 1)"
      ],
      "execution_count": 0,
      "outputs": []
    },
    {
      "cell_type": "code",
      "metadata": {
        "id": "5VIZOsQ5U99X",
        "colab_type": "code",
        "colab": {}
      },
      "source": [
        "r = np.log(pr1/pr0)"
      ],
      "execution_count": 0,
      "outputs": []
    },
    {
      "cell_type": "code",
      "metadata": {
        "id": "RpyBmwrxU99Y",
        "colab_type": "code",
        "colab": {}
      },
      "source": [
        "b = np.log((y.items==positive).mean() / (y.items==negative).mean())"
      ],
      "execution_count": 0,
      "outputs": []
    },
    {
      "cell_type": "code",
      "metadata": {
        "id": "2KLwnixjU99a",
        "colab_type": "code",
        "outputId": "fe0dbbc0-0682-442e-93f7-f8d691ea2de7",
        "colab": {}
      },
      "source": [
        "np.exp(r)"
      ],
      "execution_count": 0,
      "outputs": [
        {
          "output_type": "execute_result",
          "data": {
            "text/plain": [
              "array([0.994341, 1.088542, 1.      , 1.088542, ..., 0.544271, 0.544271, 0.544271, 0.544271])"
            ]
          },
          "metadata": {
            "tags": []
          },
          "execution_count": 432
        }
      ]
    },
    {
      "cell_type": "markdown",
      "metadata": {
        "id": "3bfEjm5YU99b",
        "colab_type": "text"
      },
      "source": [
        "Here we fit regularized logistic regression where the features are the trigrams' log-count ratios."
      ]
    },
    {
      "cell_type": "code",
      "metadata": {
        "id": "v9JNn_blU99b",
        "colab_type": "code",
        "outputId": "d5dfbe66-16f9-4568-d4c4-d81499fc6d26",
        "colab": {}
      },
      "source": [
        "x_nb = xx.multiply(r)\n",
        "m = LogisticRegression(dual=True, C=0.1)\n",
        "m.fit(x_nb, y.items);\n",
        "\n",
        "val_x_nb = val_x.multiply(r)\n",
        "preds = m.predict(val_x_nb)\n",
        "(preds.T==valid_labels).mean()"
      ],
      "execution_count": 0,
      "outputs": [
        {
          "output_type": "execute_result",
          "data": {
            "text/plain": [
              "0.835"
            ]
          },
          "metadata": {
            "tags": []
          },
          "execution_count": 433
        }
      ]
    },
    {
      "cell_type": "markdown",
      "metadata": {
        "id": "cxB9K7U3U99b",
        "colab_type": "text"
      },
      "source": [
        "## References"
      ]
    },
    {
      "cell_type": "markdown",
      "metadata": {
        "id": "Ea4MXNUjU99c",
        "colab_type": "text"
      },
      "source": [
        "* Baselines and Bigrams: Simple, Good Sentiment and Topic Classification. Sida Wang and Christopher D. Manning [pdf](https://www.aclweb.org/anthology/P12-2018)"
      ]
    }
  ]
}